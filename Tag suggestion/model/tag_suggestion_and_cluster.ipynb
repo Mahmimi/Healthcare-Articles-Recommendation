{
 "cells": [
  {
   "cell_type": "markdown",
   "metadata": {},
   "source": [
    "# import data"
   ]
  },
  {
   "cell_type": "code",
   "execution_count": 1,
   "metadata": {},
   "outputs": [],
   "source": [
    "import pandas as pd\n",
    "from pprint import pprint\n",
    "import warnings\n",
    "from tqdm import tqdm\n",
    "import warnings\n",
    "from pymongo import MongoClient\n",
    "\n",
    "warnings.filterwarnings(\"ignore\")\n",
    "# Filter out the DeprecationWarning\n",
    "warnings.filterwarnings(\"ignore\", category=DeprecationWarning)"
   ]
  },
  {
   "cell_type": "code",
   "execution_count": 2,
   "metadata": {},
   "outputs": [
    {
     "name": "stdout",
     "output_type": "stream",
     "text": [
      "---Connenction Successful---\n"
     ]
    }
   ],
   "source": [
    "# try:\n",
    "#     client = MongoClient('mongodb://192.168.1.103:27017/')\n",
    "\n",
    "#     print(\"---Connenction Successful---\")\n",
    "\n",
    "#     Recommendation_elderly = client['Recommendation_elderly']\n",
    "\n",
    "#     healthcare_articles = Recommendation_elderly['token']\n",
    "\n",
    "# except:\n",
    "#     print(\"Connection Fail\")"
   ]
  },
  {
   "cell_type": "code",
   "execution_count": 3,
   "metadata": {},
   "outputs": [
    {
     "data": {
      "text/html": [
       "<div>\n",
       "<style scoped>\n",
       "    .dataframe tbody tr th:only-of-type {\n",
       "        vertical-align: middle;\n",
       "    }\n",
       "\n",
       "    .dataframe tbody tr th {\n",
       "        vertical-align: top;\n",
       "    }\n",
       "\n",
       "    .dataframe thead th {\n",
       "        text-align: right;\n",
       "    }\n",
       "</style>\n",
       "<table border=\"1\" class=\"dataframe\">\n",
       "  <thead>\n",
       "    <tr style=\"text-align: right;\">\n",
       "      <th></th>\n",
       "      <th>url</th>\n",
       "      <th>title</th>\n",
       "      <th>content</th>\n",
       "      <th>category</th>\n",
       "      <th>owner source</th>\n",
       "      <th>banner</th>\n",
       "      <th>image</th>\n",
       "      <th>text_token</th>\n",
       "    </tr>\n",
       "  </thead>\n",
       "  <tbody>\n",
       "    <tr>\n",
       "      <th>0</th>\n",
       "      <td>https://www.rama.mahidol.ac.th/ramachannel/art...</td>\n",
       "      <td>ภาวะลองโควิด (long covid) เป็นแล้วหายไหม วิธีส...</td>\n",
       "      <td>ภาวะลองโควิด (long covid) เป็นแล้วหายไหม วิธีส...</td>\n",
       "      <td>NaN</td>\n",
       "      <td>NaN</td>\n",
       "      <td>NaN</td>\n",
       "      <td>NaN</td>\n",
       "      <td>ภาวะ,ลองโควิด,long,covid,เป็น,แล้ว,หาย,ไหม,วิธ...</td>\n",
       "    </tr>\n",
       "    <tr>\n",
       "      <th>1</th>\n",
       "      <td>https://www.rama.mahidol.ac.th/ramachannel/art...</td>\n",
       "      <td>โรคมือ เท้า ปาก โรคระบาดที่มากับฝน อาการและวิธ...</td>\n",
       "      <td>โรคมือ เท้า ปาก โรคระบาดที่มากับฝน อาการและวิธ...</td>\n",
       "      <td>NaN</td>\n",
       "      <td>NaN</td>\n",
       "      <td>NaN</td>\n",
       "      <td>NaN</td>\n",
       "      <td>โรค,มือ,เท้า,ปาก,โรค,ระบาด,ที่,มาก,ับ,ฝน,อาการ...</td>\n",
       "    </tr>\n",
       "    <tr>\n",
       "      <th>2</th>\n",
       "      <td>https://www.rama.mahidol.ac.th/ramachannel/art...</td>\n",
       "      <td>มีวิธีรักษาและดูแลตัวเองเมื่อเป็นไข้เลือดออกอย...</td>\n",
       "      <td>มีวิธีรักษาและดูแลตัวเองเมื่อเป็นไข้เลือดออกอย...</td>\n",
       "      <td>NaN</td>\n",
       "      <td>NaN</td>\n",
       "      <td>NaN</td>\n",
       "      <td>NaN</td>\n",
       "      <td>มี,วิธี,รักษา,และ,ดูแล,ตัว,เอง,เมื่อ,เป็น,ไข้เ...</td>\n",
       "    </tr>\n",
       "    <tr>\n",
       "      <th>3</th>\n",
       "      <td>https://www.rama.mahidol.ac.th/ramachannel/art...</td>\n",
       "      <td>รู้ทันสัญญาณเตือนอาการของโรคไข้เลือดออกพร้อมวิ...</td>\n",
       "      <td>รู้ทันสัญญาณเตือนอาการของโรคไข้เลือดออกพร้อมวิ...</td>\n",
       "      <td>NaN</td>\n",
       "      <td>NaN</td>\n",
       "      <td>NaN</td>\n",
       "      <td>NaN</td>\n",
       "      <td>รู้,ทัน,สัญญาณ,เตือน,อาการ,ของ,โรค,ไข้เลือดออก...</td>\n",
       "    </tr>\n",
       "    <tr>\n",
       "      <th>4</th>\n",
       "      <td>https://www.rama.mahidol.ac.th/ramachannel/art...</td>\n",
       "      <td>สัมภาษณ์ชัชชาติ เจาะ Life Style กับหมอรามาฯ</td>\n",
       "      <td>สัมภาษณ์ชัชชาติ เจาะ Life Style กับหมอรามาฯ Au...</td>\n",
       "      <td>NaN</td>\n",
       "      <td>NaN</td>\n",
       "      <td>NaN</td>\n",
       "      <td>NaN</td>\n",
       "      <td>สัมภาษณ์,ชัชชาติ,เจาะ,life,style,กับ,หมอรามา,ส...</td>\n",
       "    </tr>\n",
       "    <tr>\n",
       "      <th>...</th>\n",
       "      <td>...</td>\n",
       "      <td>...</td>\n",
       "      <td>...</td>\n",
       "      <td>...</td>\n",
       "      <td>...</td>\n",
       "      <td>...</td>\n",
       "      <td>...</td>\n",
       "      <td>...</td>\n",
       "    </tr>\n",
       "    <tr>\n",
       "      <th>4766</th>\n",
       "      <td>https://www.chulabhornchannel.com/news-activit...</td>\n",
       "      <td>อร่อยปาก ลำบากท้อง อาหารเป็นพิษ ลำไส้อักเสบโรค...</td>\n",
       "      <td>FacebookTwitterLine อร่อยปาก ลำบากท้อง อาหารเป...</td>\n",
       "      <td>health-articles</td>\n",
       "      <td>chulabhorn channel</td>\n",
       "      <td>https://www.chulabhornchannel.com/wp-content/u...</td>\n",
       "      <td>[https://www.chulabhornchannel.com/wp-content/...</td>\n",
       "      <td>อร่อย,ปาก,ลำบาก,ท้อง,อาหาร,เป็น,พิษ,ลำ,ไส้,อัก...</td>\n",
       "    </tr>\n",
       "    <tr>\n",
       "      <th>4767</th>\n",
       "      <td>https://www.chulabhornchannel.com/health-artic...</td>\n",
       "      <td>วิธีการเช็ดตา หลังผ่าตัดตา เมื่อกลับบ้าน</td>\n",
       "      <td>FacebookTwitterLine</td>\n",
       "      <td>health-articles</td>\n",
       "      <td>chulabhorn channel</td>\n",
       "      <td>https://www.chulabhornchannel.com/wp-content/u...</td>\n",
       "      <td>[]</td>\n",
       "      <td>วิธี,การ,เช็ด,ตา,หลัง,ผ่าตัด,ตา,เมื่อ,กลับ,บ้า...</td>\n",
       "    </tr>\n",
       "    <tr>\n",
       "      <th>4768</th>\n",
       "      <td>https://www.chulabhornchannel.com/news-activit...</td>\n",
       "      <td>CRA COVID-19 Chronicle  บันทึกเหตุการณ์โควิด-1...</td>\n",
       "      <td>FacebookTwitterLine CRA COVID-19 Chronicle บัน...</td>\n",
       "      <td>health-articles</td>\n",
       "      <td>chulabhorn channel</td>\n",
       "      <td>https://www.chulabhornchannel.com/wp-content/u...</td>\n",
       "      <td>[https://www.chulabhornchannel.com/wp-content/...</td>\n",
       "      <td>cra,covid,19,chronicle,บันทึก,เหตุการณ์,โควิด,...</td>\n",
       "    </tr>\n",
       "    <tr>\n",
       "      <th>4769</th>\n",
       "      <td>https://www.chulabhornchannel.com/health-artic...</td>\n",
       "      <td>รู้เท่ารู้ทัน PM2.5 พาโรคอะไรมาด้วย ?</td>\n",
       "      <td>FacebookTwitterLine</td>\n",
       "      <td>health-articles</td>\n",
       "      <td>chulabhorn channel</td>\n",
       "      <td>https://www.chulabhornchannel.com/wp-content/u...</td>\n",
       "      <td>[]</td>\n",
       "      <td>รู้เท่า,รู้,ทัน,pm,25,พาโรค,อะไร,มา,ด้วย,faceb...</td>\n",
       "    </tr>\n",
       "    <tr>\n",
       "      <th>4770</th>\n",
       "      <td>https://www.chulabhornchannel.com/health-artic...</td>\n",
       "      <td>Modernization of Thailand Health Technology As...</td>\n",
       "      <td>FacebookTwitterLine Modernization of Thailand ...</td>\n",
       "      <td>health-articles</td>\n",
       "      <td>chulabhorn channel</td>\n",
       "      <td>https://www.chulabhornchannel.com/wp-content/u...</td>\n",
       "      <td>[https://www.chulabhornchannel.com/wp-content/...</td>\n",
       "      <td>modernization,of,thailand,health,technology,as...</td>\n",
       "    </tr>\n",
       "  </tbody>\n",
       "</table>\n",
       "<p>4771 rows × 8 columns</p>\n",
       "</div>"
      ],
      "text/plain": [
       "                                                    url   \n",
       "0     https://www.rama.mahidol.ac.th/ramachannel/art...  \\\n",
       "1     https://www.rama.mahidol.ac.th/ramachannel/art...   \n",
       "2     https://www.rama.mahidol.ac.th/ramachannel/art...   \n",
       "3     https://www.rama.mahidol.ac.th/ramachannel/art...   \n",
       "4     https://www.rama.mahidol.ac.th/ramachannel/art...   \n",
       "...                                                 ...   \n",
       "4766  https://www.chulabhornchannel.com/news-activit...   \n",
       "4767  https://www.chulabhornchannel.com/health-artic...   \n",
       "4768  https://www.chulabhornchannel.com/news-activit...   \n",
       "4769  https://www.chulabhornchannel.com/health-artic...   \n",
       "4770  https://www.chulabhornchannel.com/health-artic...   \n",
       "\n",
       "                                                  title   \n",
       "0     ภาวะลองโควิด (long covid) เป็นแล้วหายไหม วิธีส...  \\\n",
       "1     โรคมือ เท้า ปาก โรคระบาดที่มากับฝน อาการและวิธ...   \n",
       "2     มีวิธีรักษาและดูแลตัวเองเมื่อเป็นไข้เลือดออกอย...   \n",
       "3     รู้ทันสัญญาณเตือนอาการของโรคไข้เลือดออกพร้อมวิ...   \n",
       "4           สัมภาษณ์ชัชชาติ เจาะ Life Style กับหมอรามาฯ   \n",
       "...                                                 ...   \n",
       "4766  อร่อยปาก ลำบากท้อง อาหารเป็นพิษ ลำไส้อักเสบโรค...   \n",
       "4767           วิธีการเช็ดตา หลังผ่าตัดตา เมื่อกลับบ้าน   \n",
       "4768  CRA COVID-19 Chronicle  บันทึกเหตุการณ์โควิด-1...   \n",
       "4769              รู้เท่ารู้ทัน PM2.5 พาโรคอะไรมาด้วย ?   \n",
       "4770  Modernization of Thailand Health Technology As...   \n",
       "\n",
       "                                                content         category   \n",
       "0     ภาวะลองโควิด (long covid) เป็นแล้วหายไหม วิธีส...              NaN  \\\n",
       "1     โรคมือ เท้า ปาก โรคระบาดที่มากับฝน อาการและวิธ...              NaN   \n",
       "2     มีวิธีรักษาและดูแลตัวเองเมื่อเป็นไข้เลือดออกอย...              NaN   \n",
       "3     รู้ทันสัญญาณเตือนอาการของโรคไข้เลือดออกพร้อมวิ...              NaN   \n",
       "4     สัมภาษณ์ชัชชาติ เจาะ Life Style กับหมอรามาฯ Au...              NaN   \n",
       "...                                                 ...              ...   \n",
       "4766  FacebookTwitterLine อร่อยปาก ลำบากท้อง อาหารเป...  health-articles   \n",
       "4767                                FacebookTwitterLine  health-articles   \n",
       "4768  FacebookTwitterLine CRA COVID-19 Chronicle บัน...  health-articles   \n",
       "4769                                FacebookTwitterLine  health-articles   \n",
       "4770  FacebookTwitterLine Modernization of Thailand ...  health-articles   \n",
       "\n",
       "            owner source                                             banner   \n",
       "0                    NaN                                                NaN  \\\n",
       "1                    NaN                                                NaN   \n",
       "2                    NaN                                                NaN   \n",
       "3                    NaN                                                NaN   \n",
       "4                    NaN                                                NaN   \n",
       "...                  ...                                                ...   \n",
       "4766  chulabhorn channel  https://www.chulabhornchannel.com/wp-content/u...   \n",
       "4767  chulabhorn channel  https://www.chulabhornchannel.com/wp-content/u...   \n",
       "4768  chulabhorn channel  https://www.chulabhornchannel.com/wp-content/u...   \n",
       "4769  chulabhorn channel  https://www.chulabhornchannel.com/wp-content/u...   \n",
       "4770  chulabhorn channel  https://www.chulabhornchannel.com/wp-content/u...   \n",
       "\n",
       "                                                  image   \n",
       "0                                                   NaN  \\\n",
       "1                                                   NaN   \n",
       "2                                                   NaN   \n",
       "3                                                   NaN   \n",
       "4                                                   NaN   \n",
       "...                                                 ...   \n",
       "4766  [https://www.chulabhornchannel.com/wp-content/...   \n",
       "4767                                                 []   \n",
       "4768  [https://www.chulabhornchannel.com/wp-content/...   \n",
       "4769                                                 []   \n",
       "4770  [https://www.chulabhornchannel.com/wp-content/...   \n",
       "\n",
       "                                             text_token  \n",
       "0     ภาวะ,ลองโควิด,long,covid,เป็น,แล้ว,หาย,ไหม,วิธ...  \n",
       "1     โรค,มือ,เท้า,ปาก,โรค,ระบาด,ที่,มาก,ับ,ฝน,อาการ...  \n",
       "2     มี,วิธี,รักษา,และ,ดูแล,ตัว,เอง,เมื่อ,เป็น,ไข้เ...  \n",
       "3     รู้,ทัน,สัญญาณ,เตือน,อาการ,ของ,โรค,ไข้เลือดออก...  \n",
       "4     สัมภาษณ์,ชัชชาติ,เจาะ,life,style,กับ,หมอรามา,ส...  \n",
       "...                                                 ...  \n",
       "4766  อร่อย,ปาก,ลำบาก,ท้อง,อาหาร,เป็น,พิษ,ลำ,ไส้,อัก...  \n",
       "4767  วิธี,การ,เช็ด,ตา,หลัง,ผ่าตัด,ตา,เมื่อ,กลับ,บ้า...  \n",
       "4768  cra,covid,19,chronicle,บันทึก,เหตุการณ์,โควิด,...  \n",
       "4769  รู้เท่า,รู้,ทัน,pm,25,พาโรค,อะไร,มา,ด้วย,faceb...  \n",
       "4770  modernization,of,thailand,health,technology,as...  \n",
       "\n",
       "[4771 rows x 8 columns]"
      ]
     },
     "execution_count": 3,
     "metadata": {},
     "output_type": "execute_result"
    }
   ],
   "source": [
    "# data = healthcare_articles.find()\n",
    "# data = pd.DataFrame(list(data))\n",
    "# data = data.drop_duplicates(subset=['url'])\n",
    "# data = data[data['title'] != '']\n",
    "# data = data.reset_index().drop(columns=['index'])\n",
    "# data = data.reset_index().drop(columns=['_id','index'])\n",
    "# data"
   ]
  },
  {
   "cell_type": "code",
   "execution_count": 2,
   "metadata": {},
   "outputs": [
    {
     "data": {
      "text/html": [
       "<div>\n",
       "<style scoped>\n",
       "    .dataframe tbody tr th:only-of-type {\n",
       "        vertical-align: middle;\n",
       "    }\n",
       "\n",
       "    .dataframe tbody tr th {\n",
       "        vertical-align: top;\n",
       "    }\n",
       "\n",
       "    .dataframe thead th {\n",
       "        text-align: right;\n",
       "    }\n",
       "</style>\n",
       "<table border=\"1\" class=\"dataframe\">\n",
       "  <thead>\n",
       "    <tr style=\"text-align: right;\">\n",
       "      <th></th>\n",
       "      <th>url</th>\n",
       "      <th>title</th>\n",
       "      <th>content</th>\n",
       "      <th>category</th>\n",
       "      <th>owner source</th>\n",
       "      <th>banner</th>\n",
       "      <th>image</th>\n",
       "      <th>text_token</th>\n",
       "    </tr>\n",
       "  </thead>\n",
       "  <tbody>\n",
       "    <tr>\n",
       "      <th>0</th>\n",
       "      <td>https://www.rama.mahidol.ac.th/ramachannel/art...</td>\n",
       "      <td>ภาวะลองโควิด (long covid) เป็นแล้วหายไหม วิธีส...</td>\n",
       "      <td>ภาวะลองโควิด (long covid) เป็นแล้วหายไหม วิธีส...</td>\n",
       "      <td>NaN</td>\n",
       "      <td>NaN</td>\n",
       "      <td>NaN</td>\n",
       "      <td>NaN</td>\n",
       "      <td>ภาวะ,ลองโควิด,long,covid,เป็น,แล้ว,หาย,ไหม,วิธ...</td>\n",
       "    </tr>\n",
       "    <tr>\n",
       "      <th>1</th>\n",
       "      <td>https://www.rama.mahidol.ac.th/ramachannel/art...</td>\n",
       "      <td>โรคมือ เท้า ปาก โรคระบาดที่มากับฝน อาการและวิธ...</td>\n",
       "      <td>โรคมือ เท้า ปาก โรคระบาดที่มากับฝน อาการและวิธ...</td>\n",
       "      <td>NaN</td>\n",
       "      <td>NaN</td>\n",
       "      <td>NaN</td>\n",
       "      <td>NaN</td>\n",
       "      <td>โรค,มือ,เท้า,ปาก,โรค,ระบาด,ที่,มาก,ับ,ฝน,อาการ...</td>\n",
       "    </tr>\n",
       "    <tr>\n",
       "      <th>2</th>\n",
       "      <td>https://www.rama.mahidol.ac.th/ramachannel/art...</td>\n",
       "      <td>มีวิธีรักษาและดูแลตัวเองเมื่อเป็นไข้เลือดออกอย...</td>\n",
       "      <td>มีวิธีรักษาและดูแลตัวเองเมื่อเป็นไข้เลือดออกอย...</td>\n",
       "      <td>NaN</td>\n",
       "      <td>NaN</td>\n",
       "      <td>NaN</td>\n",
       "      <td>NaN</td>\n",
       "      <td>มี,วิธี,รักษา,และ,ดูแล,ตัว,เอง,เมื่อ,เป็น,ไข้เ...</td>\n",
       "    </tr>\n",
       "    <tr>\n",
       "      <th>3</th>\n",
       "      <td>https://www.rama.mahidol.ac.th/ramachannel/art...</td>\n",
       "      <td>รู้ทันสัญญาณเตือนอาการของโรคไข้เลือดออกพร้อมวิ...</td>\n",
       "      <td>รู้ทันสัญญาณเตือนอาการของโรคไข้เลือดออกพร้อมวิ...</td>\n",
       "      <td>NaN</td>\n",
       "      <td>NaN</td>\n",
       "      <td>NaN</td>\n",
       "      <td>NaN</td>\n",
       "      <td>รู้,ทัน,สัญญาณ,เตือน,อาการ,ของ,โรค,ไข้เลือดออก...</td>\n",
       "    </tr>\n",
       "    <tr>\n",
       "      <th>4</th>\n",
       "      <td>https://www.rama.mahidol.ac.th/ramachannel/art...</td>\n",
       "      <td>สัมภาษณ์ชัชชาติ เจาะ Life Style กับหมอรามาฯ</td>\n",
       "      <td>สัมภาษณ์ชัชชาติ เจาะ Life Style กับหมอรามาฯ Au...</td>\n",
       "      <td>NaN</td>\n",
       "      <td>NaN</td>\n",
       "      <td>NaN</td>\n",
       "      <td>NaN</td>\n",
       "      <td>สัมภาษณ์,ชัชชาติ,เจาะ,life,style,กับ,หมอรามา,ส...</td>\n",
       "    </tr>\n",
       "    <tr>\n",
       "      <th>...</th>\n",
       "      <td>...</td>\n",
       "      <td>...</td>\n",
       "      <td>...</td>\n",
       "      <td>...</td>\n",
       "      <td>...</td>\n",
       "      <td>...</td>\n",
       "      <td>...</td>\n",
       "      <td>...</td>\n",
       "    </tr>\n",
       "    <tr>\n",
       "      <th>4766</th>\n",
       "      <td>https://www.chulabhornchannel.com/news-activit...</td>\n",
       "      <td>อร่อยปาก ลำบากท้อง อาหารเป็นพิษ ลำไส้อักเสบโรค...</td>\n",
       "      <td>FacebookTwitterLine อร่อยปาก ลำบากท้อง อาหารเป...</td>\n",
       "      <td>health-articles</td>\n",
       "      <td>chulabhorn channel</td>\n",
       "      <td>https://www.chulabhornchannel.com/wp-content/u...</td>\n",
       "      <td>['https://www.chulabhornchannel.com/wp-content...</td>\n",
       "      <td>อร่อย,ปาก,ลำบาก,ท้อง,อาหาร,เป็น,พิษ,ลำ,ไส้,อัก...</td>\n",
       "    </tr>\n",
       "    <tr>\n",
       "      <th>4767</th>\n",
       "      <td>https://www.chulabhornchannel.com/health-artic...</td>\n",
       "      <td>วิธีการเช็ดตา หลังผ่าตัดตา เมื่อกลับบ้าน</td>\n",
       "      <td>FacebookTwitterLine</td>\n",
       "      <td>health-articles</td>\n",
       "      <td>chulabhorn channel</td>\n",
       "      <td>https://www.chulabhornchannel.com/wp-content/u...</td>\n",
       "      <td>[]</td>\n",
       "      <td>วิธี,การ,เช็ด,ตา,หลัง,ผ่าตัด,ตา,เมื่อ,กลับ,บ้า...</td>\n",
       "    </tr>\n",
       "    <tr>\n",
       "      <th>4768</th>\n",
       "      <td>https://www.chulabhornchannel.com/news-activit...</td>\n",
       "      <td>CRA COVID-19 Chronicle  บันทึกเหตุการณ์โควิด-1...</td>\n",
       "      <td>FacebookTwitterLine CRA COVID-19 Chronicle บัน...</td>\n",
       "      <td>health-articles</td>\n",
       "      <td>chulabhorn channel</td>\n",
       "      <td>https://www.chulabhornchannel.com/wp-content/u...</td>\n",
       "      <td>['https://www.chulabhornchannel.com/wp-content...</td>\n",
       "      <td>cra,covid,19,chronicle,บันทึก,เหตุการณ์,โควิด,...</td>\n",
       "    </tr>\n",
       "    <tr>\n",
       "      <th>4769</th>\n",
       "      <td>https://www.chulabhornchannel.com/health-artic...</td>\n",
       "      <td>รู้เท่ารู้ทัน PM2.5 พาโรคอะไรมาด้วย ?</td>\n",
       "      <td>FacebookTwitterLine</td>\n",
       "      <td>health-articles</td>\n",
       "      <td>chulabhorn channel</td>\n",
       "      <td>https://www.chulabhornchannel.com/wp-content/u...</td>\n",
       "      <td>[]</td>\n",
       "      <td>รู้เท่า,รู้,ทัน,pm,25,พาโรค,อะไร,มา,ด้วย,faceb...</td>\n",
       "    </tr>\n",
       "    <tr>\n",
       "      <th>4770</th>\n",
       "      <td>https://www.chulabhornchannel.com/health-artic...</td>\n",
       "      <td>Modernization of Thailand Health Technology As...</td>\n",
       "      <td>FacebookTwitterLine Modernization of Thailand ...</td>\n",
       "      <td>health-articles</td>\n",
       "      <td>chulabhorn channel</td>\n",
       "      <td>https://www.chulabhornchannel.com/wp-content/u...</td>\n",
       "      <td>['https://www.chulabhornchannel.com/wp-content...</td>\n",
       "      <td>modernization,of,thailand,health,technology,as...</td>\n",
       "    </tr>\n",
       "  </tbody>\n",
       "</table>\n",
       "<p>4771 rows × 8 columns</p>\n",
       "</div>"
      ],
      "text/plain": [
       "                                                    url   \n",
       "0     https://www.rama.mahidol.ac.th/ramachannel/art...  \\\n",
       "1     https://www.rama.mahidol.ac.th/ramachannel/art...   \n",
       "2     https://www.rama.mahidol.ac.th/ramachannel/art...   \n",
       "3     https://www.rama.mahidol.ac.th/ramachannel/art...   \n",
       "4     https://www.rama.mahidol.ac.th/ramachannel/art...   \n",
       "...                                                 ...   \n",
       "4766  https://www.chulabhornchannel.com/news-activit...   \n",
       "4767  https://www.chulabhornchannel.com/health-artic...   \n",
       "4768  https://www.chulabhornchannel.com/news-activit...   \n",
       "4769  https://www.chulabhornchannel.com/health-artic...   \n",
       "4770  https://www.chulabhornchannel.com/health-artic...   \n",
       "\n",
       "                                                  title   \n",
       "0     ภาวะลองโควิด (long covid) เป็นแล้วหายไหม วิธีส...  \\\n",
       "1     โรคมือ เท้า ปาก โรคระบาดที่มากับฝน อาการและวิธ...   \n",
       "2     มีวิธีรักษาและดูแลตัวเองเมื่อเป็นไข้เลือดออกอย...   \n",
       "3     รู้ทันสัญญาณเตือนอาการของโรคไข้เลือดออกพร้อมวิ...   \n",
       "4           สัมภาษณ์ชัชชาติ เจาะ Life Style กับหมอรามาฯ   \n",
       "...                                                 ...   \n",
       "4766  อร่อยปาก ลำบากท้อง อาหารเป็นพิษ ลำไส้อักเสบโรค...   \n",
       "4767           วิธีการเช็ดตา หลังผ่าตัดตา เมื่อกลับบ้าน   \n",
       "4768  CRA COVID-19 Chronicle  บันทึกเหตุการณ์โควิด-1...   \n",
       "4769              รู้เท่ารู้ทัน PM2.5 พาโรคอะไรมาด้วย ?   \n",
       "4770  Modernization of Thailand Health Technology As...   \n",
       "\n",
       "                                                content         category   \n",
       "0     ภาวะลองโควิด (long covid) เป็นแล้วหายไหม วิธีส...              NaN  \\\n",
       "1     โรคมือ เท้า ปาก โรคระบาดที่มากับฝน อาการและวิธ...              NaN   \n",
       "2     มีวิธีรักษาและดูแลตัวเองเมื่อเป็นไข้เลือดออกอย...              NaN   \n",
       "3     รู้ทันสัญญาณเตือนอาการของโรคไข้เลือดออกพร้อมวิ...              NaN   \n",
       "4     สัมภาษณ์ชัชชาติ เจาะ Life Style กับหมอรามาฯ Au...              NaN   \n",
       "...                                                 ...              ...   \n",
       "4766  FacebookTwitterLine อร่อยปาก ลำบากท้อง อาหารเป...  health-articles   \n",
       "4767                                FacebookTwitterLine  health-articles   \n",
       "4768  FacebookTwitterLine CRA COVID-19 Chronicle บัน...  health-articles   \n",
       "4769                                FacebookTwitterLine  health-articles   \n",
       "4770  FacebookTwitterLine Modernization of Thailand ...  health-articles   \n",
       "\n",
       "            owner source                                             banner   \n",
       "0                    NaN                                                NaN  \\\n",
       "1                    NaN                                                NaN   \n",
       "2                    NaN                                                NaN   \n",
       "3                    NaN                                                NaN   \n",
       "4                    NaN                                                NaN   \n",
       "...                  ...                                                ...   \n",
       "4766  chulabhorn channel  https://www.chulabhornchannel.com/wp-content/u...   \n",
       "4767  chulabhorn channel  https://www.chulabhornchannel.com/wp-content/u...   \n",
       "4768  chulabhorn channel  https://www.chulabhornchannel.com/wp-content/u...   \n",
       "4769  chulabhorn channel  https://www.chulabhornchannel.com/wp-content/u...   \n",
       "4770  chulabhorn channel  https://www.chulabhornchannel.com/wp-content/u...   \n",
       "\n",
       "                                                  image   \n",
       "0                                                   NaN  \\\n",
       "1                                                   NaN   \n",
       "2                                                   NaN   \n",
       "3                                                   NaN   \n",
       "4                                                   NaN   \n",
       "...                                                 ...   \n",
       "4766  ['https://www.chulabhornchannel.com/wp-content...   \n",
       "4767                                                 []   \n",
       "4768  ['https://www.chulabhornchannel.com/wp-content...   \n",
       "4769                                                 []   \n",
       "4770  ['https://www.chulabhornchannel.com/wp-content...   \n",
       "\n",
       "                                             text_token  \n",
       "0     ภาวะ,ลองโควิด,long,covid,เป็น,แล้ว,หาย,ไหม,วิธ...  \n",
       "1     โรค,มือ,เท้า,ปาก,โรค,ระบาด,ที่,มาก,ับ,ฝน,อาการ...  \n",
       "2     มี,วิธี,รักษา,และ,ดูแล,ตัว,เอง,เมื่อ,เป็น,ไข้เ...  \n",
       "3     รู้,ทัน,สัญญาณ,เตือน,อาการ,ของ,โรค,ไข้เลือดออก...  \n",
       "4     สัมภาษณ์,ชัชชาติ,เจาะ,life,style,กับ,หมอรามา,ส...  \n",
       "...                                                 ...  \n",
       "4766  อร่อย,ปาก,ลำบาก,ท้อง,อาหาร,เป็น,พิษ,ลำ,ไส้,อัก...  \n",
       "4767  วิธี,การ,เช็ด,ตา,หลัง,ผ่าตัด,ตา,เมื่อ,กลับ,บ้า...  \n",
       "4768  cra,covid,19,chronicle,บันทึก,เหตุการณ์,โควิด,...  \n",
       "4769  รู้เท่า,รู้,ทัน,pm,25,พาโรค,อะไร,มา,ด้วย,faceb...  \n",
       "4770  modernization,of,thailand,health,technology,as...  \n",
       "\n",
       "[4771 rows x 8 columns]"
      ]
     },
     "execution_count": 2,
     "metadata": {},
     "output_type": "execute_result"
    }
   ],
   "source": [
    "data = pd.read_csv('articles_data.csv')\n",
    "data"
   ]
  },
  {
   "cell_type": "markdown",
   "metadata": {},
   "source": [
    "# cleaning"
   ]
  },
  {
   "cell_type": "code",
   "execution_count": 3,
   "metadata": {},
   "outputs": [],
   "source": [
    "from pprint import pprint\n",
    "import pandas as pd\n",
    "from tqdm.auto import tqdm\n",
    "tqdm.pandas()\n",
    "import string\n",
    "import unicodedata\n",
    "import string\n",
    "import attacut\n",
    "pd.options.mode.chained_assignment = None\n",
    "translator = str.maketrans('', '', string.punctuation)"
   ]
  },
  {
   "cell_type": "code",
   "execution_count": 4,
   "metadata": {},
   "outputs": [],
   "source": [
    "from pythainlp.tokenize import sent_tokenize\n",
    "from pythainlp.tag import pos_tag, pos_tag_sents\n",
    "from pythainlp.corpus import thai_stopwords\n",
    "from pythainlp.corpus.common import thai_words\n",
    "from pythainlp import Tokenizer"
   ]
  },
  {
   "cell_type": "code",
   "execution_count": 5,
   "metadata": {},
   "outputs": [],
   "source": [
    "from pythainlp.util import normalize\n",
    "from pythainlp.corpus import thai_stopwords"
   ]
  },
  {
   "cell_type": "code",
   "execution_count": 6,
   "metadata": {},
   "outputs": [],
   "source": [
    "from pythainlp.corpus import thai_stopwords"
   ]
  },
  {
   "cell_type": "code",
   "execution_count": 7,
   "metadata": {},
   "outputs": [
    {
     "data": {
      "text/plain": [
       "1030"
      ]
     },
     "execution_count": 7,
     "metadata": {},
     "output_type": "execute_result"
    }
   ],
   "source": [
    "len(list(thai_stopwords()))"
   ]
  },
  {
   "cell_type": "code",
   "execution_count": 8,
   "metadata": {},
   "outputs": [],
   "source": [
    "sensitive_words = '''มะเร็ง วิตามินบี1 วิตามินบี2 วิตามินบี3 วิตามินบี5 วิตามินบี6 วิตามินบี7 วิตามินบี9 วิตามินบี12 วิตามินเอ วิตามินดี วิตามินอี วิตามินเค \n",
    "วิตามินซี โอเมก้า3 โอเมก้า6 โอเมก้า9 VitaminA VitaminD VitaminE VitaminK VitaminC Omega3 Omega6 Omega9 วิตามินA วิตามินD วิตามินE วิตามินK วิตามินB1 \n",
    "วิตามินB2 วิตามินB3 วิตามินB5 วิตามินB6 วิตามินB7 วิตามินB9 วิตามินB12 คอลเลสเตอรอล บลอกโคลี ผักใบเขียว ผักคะน้า ผักกวางตุ้ง น้ำมันรำข้าว ออกซิเจน \n",
    "มะม่วงหาวมะนาวโห่ โฮลเกรน ถั่วเปลือกแข็ง ถั่วแขก ถั่วพู ถั่วฝักยาว ถั่วแปบ ถั่วเหลือง ถั่วปากอ้า ถั่วลันเตา ถั่วแดง ถั่วดำน้ำตาล น้ำปลา เนื้อแดง กะหล่ำปลี เรตินา โรค ลูทีน \n",
    "ผักผลไม้ สีเหลือง ไขมันทรานซ์ การสูบบุหรี่ ซีแซนทีน สารลูทีน สารต้านอนุมูลอิสระ น้ำมันรำข้าว น้ำมันเมล็ดชา ยำปลาทู ผัดผักบุ้ง ต้มเลือดหมู ปลากระพง ปลากระพงนึ่ง \n",
    "แกงส้มผักเลียง น้ำพริกมะขาม ผักลวก ปลาทับทิม กล้วยบวดชี ถั่วเขียวต้มน้ำตาล ถั่วแดงเย็น ไขมันอิ่มตัว น้ำมันมะพร้าว ขนมอบ อาหารทอด อาหารฟาสต์ฟู้ด ซีเรียล โฮลวิท หัวบุก \n",
    "แมคคาเดเมีย ปลาทะเล ปลานิล ปลาสวาย แก้วมังกร ปลาแซลมอน ปลาซา์ดีน น้ำมันพืช น้ำมันดอกคำฝอย น้ำมันคาโนลา ใยอาหาร รำข้าว แอพริคอท บรอกโคลี กีวี่ ผัดผัก \n",
    "ไก่ย่างติดหนัง นมพร่องมันเนย นมสด ผลไม้รสหวาน เนื้อสัตว์ติดมัน น้ำมันคาโนล่า ลูกพีช เนื้อสัตว์ติดไขมัน ไก่ติดหนัง เนื้อแดง คอลเรสเตอรอล เครื่องดื่มแอลกอฮอล์ ไตรกลีเซอร์ไรด์ \n",
    "ผักดอง ขาหมู หมูสามชั้น หนังไก่ทอด เครื่องในสัตว์ ผักผลไม้ดอง ไข่เค็ม น้ำซุป เครื่องปรุงรส น้ำขิง ข้าวต้มปลา ขนมปังโอลวีต เบอร์รี่ โพรไบโอติก ลูกพรุน อาร์ติโชค บร๊อคโคลี่ \n",
    "บล็อกโคลี โพรไปโอติกส์ ต้มข่าไก่ แกงกะทิ แกงแพนง เบเกอรี่ เฟรนช์ฟรายด์ ครีมเทียม หมูติดมัน แกงกะหรี่ สันคอหมู แอลกอฮอร์ แกงกะทิ ผัดไท หอยทอด ผัดซีอิ๊ว ดอกคำฝอย \n",
    "ปลาซาบะ พริกหวาน เมล็ดแฟล็ก เชอเบท ปลาโอ ไก่ชุบแป้งทอด ปลาทอดชุบแป้ง แกงเหลือง ปลานึ่ง มะเขือเผา เครื่องดื่มแอลกอฮอล์ เครื่องดื่มคาเฟอีน เครื่องดื่มประเภทชากาแฟ \n",
    "เครื่องดื่มแอลกฮอล์ เครื่องดื่มสมุนไพร เครื่องดื่มผสมแอลกอฮอล์ vitaminc vitamine น้ำตาล น้ำเกรวี่ น้ำตาล น้ำมะนาว น้ำมะพร้าว น้ำปั่น น้ำหล่อลื่น น้ำผัก น้ำลูกยอ น้ำเกรวี \n",
    "น้ำเกาเหลา น้ำเชื่อม น้ำแป้ง น้ำมันปาล์ม เครื่องดื่มคาเฟอีน เครื่องดื่มประเภท แอลกอฮอล์ เนื้อสัตว์ บี6 บี12 ไข่แดง จมูกข้าว ผักโขม ธาตุเหล็ก น้ำมัน ปลาทูน่า ปลาน้ำจืด \n",
    "ปลาดุก ปลาช่อน ปลาจะละเม็ด สาหร่ายทะเล เมล็ดเซีย เมล็ดฟักทอง น้ำมันมะกอก น้ำมันทานตะวัน ไขมันดี ไขมันเลว ข้าวกล้อง จมูกข้าวสาลี กล้วย นม นมถั่วเหลือง ไขมันต่ำ \n",
    "อนุมูลอิสระ งด ไขมันที่ดี เนื้อสัตว์ไขมันต่ำ งา ข้าวโอ๊ต ปลาแม็คคลอเรล ปลาซาร์ดีน ปลากะพงขาว ปลาทู ปลาสลิด ปลาตะเพียน เต้าหู้ เนื้อสัตว์แปรรูป เนื้อสัตว์ที่ผ่านกระบวนการ โซเดียมสูง\n",
    "ไส้กรอก หมูยอ ปลาเค็ม ถั่วเมล็ดแห้ง โควิด โควิด19 ลองโควิด ริดสีดวงทวาร ข้อเข่าเสื่อม longcovid ไข้เลือดออก ซึมเศร้า แพทย์แผนจีน เคมีบำบัด ขากระตุก มือเท้าปาก\n",
    "จับตา มิว โควิด นิ้วล็อก เข้ากะ ทำ งาน ขาอยู่ไม่สุข มือเท้าปาก นอนไม่หลับ หยุดหายใจขณะหลับ ต้อกระจก ต้อหิน ต้อตา กระจกตาเสื่อม ทุกคน เปลือกตา ตกขาว ประจำเดือน ไม่\n",
    "ง่วงนอนมาก น้ำตาลในเลือด ออกกำลังกาย การฟื้นฟูสมรรถภาพ ติดเชื้อในปอด ติดเชื้อ พังผืดใต้ฝ่าเท้าอักเสบ มาก ง่วงนอน ผิดปกติ ไม่ปกติ กลางวัน กลางคืน มะเร็ง เป็น ยาเคมีบำบัด\n",
    "ผลข้างเคียง เบื้องต้น ยาเคมีบำบัด เคมีบำบัด hpv vaccine มะเร็งเต้านม ตัวเตี้ย เรียนonline นอนหลับ สุขอนามัย นมแม่ วัยรุ่น ติดเชื้อ ภูมิแพ้ จมูกอักเสบ พิษสุนัขบ้า รังสีวิทยา หลอดเลือดดำ ตรวจภายใน\n",
    "ผู้หญิง ขยะ ติดเชื้อ ปลอดภัย นอนดึก สารเคมี ผู้สูงอายุ หน้าหนาว นอนกรน เสียงดัง กินยาก ช่างเลือก ไข้หวัดใหญ่ ท้องผูก ลูก ตับอักเสบ ตับอักเสบเอ ตับอักเสบบี ตับอักเสบซี เต้านม\n",
    "ตรวจสุขภาพ ย้ายตัวอ่อน มีบุตรยาก ความดันต่ำ ความดันสูง แท้ง ไข่ปลาอุก ครรภ์ ยากระตุ้นไข่ ฝากไข่ ตัวเหลือง ถุงน้ำรังไข่หลายใบ เตรียมตัว มะเร็งปากมดลูก หมอนรองกระดูกสันหลัง\n",
    "กดทับเส้นประสาท หลอดเลือดหัวใจ โรฮิปนอล Rohypnol พิษสุนัขบ้า มะเร็ง มะเร็งไทรอยด์ มะเร็งไทรอยด์ เป็นมะเร็ง ปอดทะลุ ปอดรั่ว กระเพาะอาหาร ลำใส้อักเสบ ไขมันพอกตับ \n",
    "อัลไซเมอร์ เบาหวาน ไขข้อ ออทิสติก เกาต์ หอบหืด เอดส์ ความดันโลหิตสูง ความดันโลหิตต่ำ พาร์กินสัน เรื้อน สมองเสื่อม หลอดเลือดสมอง หัวใจขาดเลือด ติดเชื้อ เพศสัมพันธ์ มะเร็งตับ เส้นเลือด หลอดเลือดสมอง\n",
    "หวัด ไข้เลือดออก กล้ามเนื้อหัวใจตายเฉียบพลัน รูมาตอยด์ กระดูกพรุน ปอด ซาร์โคมา ทางเดินหายใจ โลหิตจาง ทางเดินหาย ไตวาย เส้นเลือดหัวใจ ตีบตัน ติดเชื้อในกระแสเลือด \n",
    "ภูมิคุ้มกันบกพร่อง มะเร็งลำใส้ มะเร็งกระเพาะอาหาร มะเร็งรังไข่ มะเร็งปอด อาหารเป็นพิษ กระดูกพรุน ถุงน้ำดี หลอดเลือด ฮอร์โมนเพศชาย มะเร็งระยะที่1'''.replace('\\n','').split(' ')\n",
    "sensitive_words = list(set(sensitive_words))\n",
    "\n",
    "def cleantext_tokenizer(text:str):#############\n",
    "    cleanedText = \"\".join([i for i in text if i not in string.punctuation])\n",
    "    cleanedText = cleanedText.lower().replace('\\n','').replace('\\r','').replace('\\t','').replace('“','').replace('”','').replace(' ','').replace('19','')\n",
    "    cleanedText = Tokenizer(custom_dict=sensitive_words,engine='deepcut').word_tokenize(cleanedText)\n",
    "    stopwords = list(thai_stopwords()) + ['หาย']\n",
    "    cleanedText = [i for i in cleanedText if i not in stopwords]\n",
    "    cleanedText = [normalize(i) for i in cleanedText]\n",
    "    final = ''\n",
    "    for i in cleanedText:\n",
    "        if len(i) == 0 or len(i) == 1:\n",
    "            continue\n",
    "        else:\n",
    "            final = final +',' +i\n",
    "\n",
    "    return final[1:]"
   ]
  },
  {
   "cell_type": "code",
   "execution_count": 9,
   "metadata": {},
   "outputs": [
    {
     "name": "stdout",
     "output_type": "stream",
     "text": [
      "1/1 [==============================] - 1s 571ms/step\n"
     ]
    },
    {
     "data": {
      "text/plain": [
       "'ลองโควิด'"
      ]
     },
     "execution_count": 9,
     "metadata": {},
     "output_type": "execute_result"
    }
   ],
   "source": [
    "cleantext_tokenizer('ลองโควิดเป็นแล้ว หายมั้ย?')"
   ]
  },
  {
   "cell_type": "code",
   "execution_count": 10,
   "metadata": {},
   "outputs": [],
   "source": [
    "#title = data['title'].apply(cleantext_tokenizer)"
   ]
  },
  {
   "cell_type": "code",
   "execution_count": 11,
   "metadata": {},
   "outputs": [],
   "source": [
    "import re\n",
    "from nltk.corpus import stopwords\n",
    "def remove_stopwords(text):\n",
    "    # Replace English characters with an empty string\n",
    "    #english_pattern = re.compile(r'[a-zA-Z]')\n",
    "    #result = re.sub(english_pattern, '', text)\n",
    "    result = re.sub(r'\\d+', '', text)\n",
    "    result = result.split(',')\n",
    "    result = [item for item in result if item != '']\n",
    "\n",
    "    thai__stopwords = list(thai_stopwords())+'EMagazine GJ international bangkok hospital โรค รู้เท่า พาโรค'.lower().split(' ')\n",
    "    result = [i for i in result if i not in thai__stopwords]\n",
    "\n",
    "    eng_stop_words = set(stopwords.words('english'))\n",
    "    result = [word for word in result if word.lower() not in eng_stop_words]\n",
    "\n",
    "    output = ''\n",
    "    for i in result:\n",
    "        output = i+','+output\n",
    "\n",
    "    result = output\n",
    "\n",
    "    return result"
   ]
  },
  {
   "cell_type": "code",
   "execution_count": 12,
   "metadata": {},
   "outputs": [
    {
     "data": {
      "application/vnd.jupyter.widget-view+json": {
       "model_id": "ae38736b81584e548c37af472519b8e3",
       "version_major": 2,
       "version_minor": 0
      },
      "text/plain": [
       "  0%|          | 0/4771 [00:00<?, ?it/s]"
      ]
     },
     "metadata": {},
     "output_type": "display_data"
    }
   ],
   "source": [
    "token = data['text_token'].progress_apply(remove_stopwords)"
   ]
  },
  {
   "cell_type": "code",
   "execution_count": 13,
   "metadata": {},
   "outputs": [],
   "source": [
    "#corpus = data['title']+data['content']"
   ]
  },
  {
   "cell_type": "code",
   "execution_count": 14,
   "metadata": {},
   "outputs": [],
   "source": [
    "#corpus = corpus.progress_apply(cleantext_tokenizer)"
   ]
  },
  {
   "cell_type": "code",
   "execution_count": 15,
   "metadata": {},
   "outputs": [],
   "source": [
    "#corpus.iloc[0]"
   ]
  },
  {
   "cell_type": "markdown",
   "metadata": {},
   "source": [
    "# TF-IDF"
   ]
  },
  {
   "cell_type": "code",
   "execution_count": 16,
   "metadata": {},
   "outputs": [],
   "source": [
    "from sklearn.feature_extraction.text import TfidfVectorizer\n",
    "\n",
    "def split_text(text):\n",
    "    return text.split(',')\n",
    "\n",
    "tfidf = TfidfVectorizer(tokenizer=split_text)\n",
    "X_tfidf = tfidf.fit_transform(token).toarray()\n",
    "vocab = tfidf.vocabulary_\n",
    "reverse_vocab = {v:k for k,v in vocab.items()}\n",
    "feature_names = tfidf.get_feature_names_out()\n",
    "df_tfidf = pd.DataFrame(X_tfidf,columns=feature_names)"
   ]
  },
  {
   "cell_type": "code",
   "execution_count": 17,
   "metadata": {},
   "outputs": [
    {
     "data": {
      "application/vnd.jupyter.widget-view+json": {
       "model_id": "f5a09ea5a27746acb166b44e25f29723",
       "version_major": 2,
       "version_minor": 0
      },
      "text/plain": [
       "  0%|          | 0/4771 [00:00<?, ?it/s]"
      ]
     },
     "metadata": {},
     "output_type": "display_data"
    }
   ],
   "source": [
    "words_importance = []\n",
    "for i in tqdm(range(len(df_tfidf))):\n",
    "    words_importance.append(df_tfidf.iloc[i][df_tfidf.iloc[i].sort_values(ascending=False) >= 0.25].index.to_list())"
   ]
  },
  {
   "cell_type": "code",
   "execution_count": 18,
   "metadata": {},
   "outputs": [],
   "source": [
    "lst = []\n",
    "for i in words_importance:\n",
    "    txt = ''\n",
    "    for j in i:\n",
    "        txt = j +','+txt\n",
    "    \n",
    "    txt = txt[:-1]\n",
    "    lst.append(txt)"
   ]
  },
  {
   "cell_type": "code",
   "execution_count": 19,
   "metadata": {},
   "outputs": [
    {
     "data": {
      "text/plain": [
       "0                                                ลองโควิด\n",
       "1                                 เท้า,มือเท้าปาก,มือ,ปาก\n",
       "2                                        ไข้เลือดออก,ช็อก\n",
       "3                                         ไข้เลือดออก,ยุง\n",
       "4                                 อาจารย์,วิ่ง,ผม,ชัชชาติ\n",
       "                              ...                        \n",
       "4766                                            อาหาร,พิษ\n",
       "4767              เช็ด,ผ่าตัด,บ้าน,ตา,facebooktwitterline\n",
       "4768                            โควิด,ราชวิทยาลัยจุฬาภรณ์\n",
       "4769                               pm,facebooktwitterline\n",
       "4770    thailand,technology,modernization,assessmentip...\n",
       "Name: tf-idf, Length: 4771, dtype: object"
      ]
     },
     "execution_count": 19,
     "metadata": {},
     "output_type": "execute_result"
    }
   ],
   "source": [
    "doc_info = data.copy()\n",
    "doc_info['tf-idf'] = lst\n",
    "doc_info['tf-idf']"
   ]
  },
  {
   "cell_type": "code",
   "execution_count": 20,
   "metadata": {},
   "outputs": [
    {
     "data": {
      "text/plain": [
       "'ลองโควิด'"
      ]
     },
     "execution_count": 20,
     "metadata": {},
     "output_type": "execute_result"
    }
   ],
   "source": [
    "doc_info['tf-idf'].iloc[0]"
   ]
  },
  {
   "cell_type": "markdown",
   "metadata": {},
   "source": [
    "# LDA"
   ]
  },
  {
   "cell_type": "code",
   "execution_count": 21,
   "metadata": {},
   "outputs": [],
   "source": [
    "# from sklearn.feature_extraction.text import TfidfVectorizer\n",
    "# from sklearn.model_selection import train_test_split\n",
    "\n",
    "# def split_text(text):\n",
    "#     return text.split(',')\n",
    "\n",
    "# # Sampling dataset\n",
    "# vectorizer = TfidfVectorizer(analyzer='word', min_df=0.0, max_df = 0.8, \n",
    "#                                    strip_accents = None, encoding = 'utf-8', \n",
    "#                                    preprocessor=None, \n",
    "#                                    token_pattern=r\"(?u)\\S\\S+\", # Need to repeat token pattern\n",
    "#                                    tokenizer=split_text)\n",
    "\n",
    "# # 80/20 split\n",
    "# X_lda_train, X_lda_test, y_lda_train, y_lda_test = train_test_split(\n",
    "#     token, token, test_size=0.2,train_size=0.8, random_state=0)\n",
    "\n",
    "# # TF-IDF matrices\n",
    "# X_tfidf_train = vectorizer.fit_transform(X_lda_train)\n",
    "# X_tfidf_test = vectorizer.transform(X_lda_test)"
   ]
  },
  {
   "cell_type": "code",
   "execution_count": 22,
   "metadata": {},
   "outputs": [],
   "source": [
    "# import numpy as np\n",
    "# from gensim.models import LdaModel\n",
    "# import matplotlib.pyplot as plt\n",
    "# from sklearn.decomposition import LatentDirichletAllocation\n",
    "\n",
    "# def lda(vectorizer, data_train, data_test):\n",
    "\n",
    "#     ''' Showing the perplexity score for several LDA models with different values\n",
    "#     for n_components parameter, and printing the top words for the best LDA model\n",
    "#     (the one with the lowest perplexity)\n",
    "#     Parameters:\n",
    "#     vectorizer: TF-IDF convertizer                                              \n",
    "#     data_train: data to fit the model with\n",
    "#     data_test: data to test\n",
    "#     '''\n",
    "\n",
    "#     best_perplexity = np.inf\n",
    "#     best_lda = 0\n",
    "#     perplexity_list = []\n",
    "#     n_topics_list = []\n",
    "#     print(\"Extracting term frequency features for LDA...\")\n",
    "\n",
    "#     for n_topics in tqdm(np.linspace(10, 100, 5, dtype='int')):\n",
    "#         lda_model = LatentDirichletAllocation(n_components=n_topics, max_iter=5,\n",
    "#                                         learning_method='online',\n",
    "#                                         learning_offset=50.,\n",
    "#                                         random_state=0).fit(data_train)\n",
    "#         n_topics_list.append(n_topics)\n",
    "#         perplexity = lda_model.perplexity(data_test)\n",
    "#         perplexity_list.append(perplexity)\n",
    "\n",
    "#         # Perplexity is defined as exp(-1. * log-likelihood per word)\n",
    "#         # Perplexity: The smaller the better\n",
    "#         if perplexity <= best_perplexity:\n",
    "#             best_perplexity = perplexity\n",
    "#             best_lda = lda_model\n",
    "                                \n",
    "#     plt.title(\"Evolution of perplexity score depending on number of topics\")\n",
    "#     plt.xlabel(\"Number of topics\")\n",
    "#     plt.ylabel(\"Perplexity\")\n",
    "#     plt.plot(n_topics_list, perplexity_list)\n",
    "#     plt.show()"
   ]
  },
  {
   "cell_type": "code",
   "execution_count": 23,
   "metadata": {},
   "outputs": [],
   "source": [
    "# lda(TfidfVectorizer,X_tfidf_train,X_tfidf_test)"
   ]
  },
  {
   "cell_type": "code",
   "execution_count": 24,
   "metadata": {},
   "outputs": [],
   "source": [
    "# # Sampling dataset\n",
    "# vectorizer = TfidfVectorizer(analyzer='word', min_df=0.0, max_df = 0.8, \n",
    "#                                    strip_accents = None, encoding = 'utf-8', \n",
    "#                                    preprocessor=None, \n",
    "#                                    token_pattern=r\"(?u)\\S\\S+\", # Need to repeat token pattern\n",
    "#                                    tokenizer=split_text)\n",
    "# # TF-IDF matrices\n",
    "# tfidf_train = vectorizer.fit_transform(data['text_token'])\n",
    "\n",
    "# best_LDA = LatentDirichletAllocation(n_components=100, random_state=42)\n",
    "# best_LDA.fit(tfidf_train)\n",
    "\n",
    "# # Getting the feature names from the vectorizer\n",
    "# feature_names = vectorizer.get_feature_names_out()\n",
    "\n",
    "# # Printing the topics\n",
    "# for topic_idx, topic in enumerate(best_LDA.components_):\n",
    "#     print(f\"Topic #{topic_idx+1}:\")\n",
    "#     top_features = [feature_names[i] for i in topic.argsort()[:-6:-1]]\n",
    "#     print(top_features)\n"
   ]
  },
  {
   "cell_type": "code",
   "execution_count": 25,
   "metadata": {},
   "outputs": [],
   "source": [
    "# topic_distribution = best_LDA.transform(tfidf_train)\n",
    "# predicted_topics = topic_distribution.argmax(axis=1)\n",
    "# lda_keyword = []\n",
    "# for doc_idx, topic_idx in enumerate(predicted_topics):\n",
    "#     top_features = [feature_names[i] for i in best_LDA.components_[topic_idx].argsort()[:-6:-1]]\n",
    "#     keywords = ''\n",
    "#     for i in top_features:\n",
    "#         keywords = keywords + ',' +i\n",
    "    \n",
    "#     keywords = keywords[1:]\n",
    "#     lda_keyword.append(keywords)"
   ]
  },
  {
   "cell_type": "code",
   "execution_count": 26,
   "metadata": {},
   "outputs": [],
   "source": [
    "# doc_info['lda'] = lda_keyword\n",
    "# doc_info['lda']"
   ]
  },
  {
   "cell_type": "markdown",
   "metadata": {},
   "source": [
    "# TextRank"
   ]
  },
  {
   "cell_type": "code",
   "execution_count": 27,
   "metadata": {},
   "outputs": [
    {
     "data": {
      "text/plain": [
       "'ภาวะลองโควิด (long covid) เป็นแล้วหายไหม วิธีสังเกตและการรักษาภาวะลองโควิด (long covid) เป็นแล้วหายไหม วิธีสังเกตและการรักษา October 28, 2022 1 min read 7 A Decrease font size. A Reset font size. A Increase font size. ผู้ป่วยที่หายจากโควิด-19 อาจรู้สึกกังวลว่าตัวเองกำลังเป็นลองโควิดหรือไม่ เมื่อพบว่าสุขภาพร่างกายไม่ปกติเหมือนก่อนเป็นโรค เช่น รู้สึกเหนื่อยกว่าปกติ หายใจเหนื่อย ไอเรื้อรัง อ. พญ.รพีพรรณ รัตนวงศ์นรา มอร์ด สาขาวิชาโรคติดเชื้อ ภาควิชาอายุรศาสตร์ คณะแพทยศาสตร์โรงพยาบาลรามาธิบดี มหาวิทยาลัยมหิดล ได้ตอบข้อสงสัยเกี่ยวกับภาวะลองโควิด จะทราบได้อย่างไรว่าเป็นลองโควิด ลองโควิด ต้องไม่ใช่ ภายใน 1 เดือน ต้องหายจากโควิด และ มีอาการต่อเนื่องอย่างน้อย 2 เดือน ต้องแยกว่าไม่ได้เป็นโรคอื่นที่เป็นมาก่อนเป็นโควิด เช่น โรคหัวใจ โรคปอด นอนไม่หลับ บางคนไม่เคยหาหมอเลย แต่เมื่อเป็นโควิดแล้วได้ตรวจ จึงได้พบว่าเป็นโรคอื่นมาก่อนแล้ว อาการที่อาจเป็นลองโควิด ผู้ป่วยอาจมีอาการเหนื่อย ไอ ซึ่งมักเกี่ยวข้องกับระบบทางเดินหายใจส่วนบน ต้องตรวจการทำงานของหัวใจ ปอด ในเบื้องต้น ว่ามีการทำงานผิดปกติหรือไม่ เช่น การเจาะเลือด การทำคลื่นไฟฟ้าหัวใจ คนไข้กลุ่มไหนที่ควรมาพบแพทย์ คนไข้ที่มีอาการเยอะ เช่น นอน ICU ใช้เครื่องช่วยหายใจ หรือเป็นผู้ที่อยู่ในกลุ่มเสี่ยง เช่น คนที่มีอายุมาก มีโรคอ้วน โรคประจำตัว จะนัดมาเจอหมออย่างน้อย 1 ครั้งต่อ 1 เดือน อาการเริ่มต้นตอนเป็นโควิดกับลองโควิดสัมพันธ์กันหรือไม่ ส่วนใหญ่จะสัมพันธ์กัน จากข้อมูลในประเทศอิตาลีและอเมริกา พบว่า ผู้ป่วยที่เป็นโควิดและรักษาตัวอยู่ที่บ้านมีโอกาสเป็นลองโควิด 10-15% ภาวะ MIS-C กับ ลองโควิด ต่างกันอย่างไร ภาวะ MIS-C (Multisystem Inflammatory Syndrome in Children) เป็นภาวะการอักเสบภายในร่างกายของเด็ก หากเป็นในผู้ใหญ่ จะเรียกว่า MIS-A (Multisystem Inflammatory Syndrome in Adult) ต่างจากลองโควิดตรงที่หลังจากที่ผู้ป่วยหายจากโควิด-19 จะมีอาการอักเสบค่อนข้างเยอะ ทำให้ร่างกายเกิดการติดเชื้อขึ้นอีกครั้ง เช่น ทำให้มีอาการเหนื่อยหอบ ผื่น ตับและไตอักเสบ ซึ่งอาจจะต้องรักษาโดยการรับประทานยากดภูมิ ในขณะที่ลองโควิด อาการของโรคจะยังคงมีอยู่ต่อเนื่อง แต่อาจจะไม่รุนแรงมากนัก ไม่แน่ใจว่าเป็นลองโควิด ต้องตรวจร่างกายเยอะไหม ไม่จำเป็น การซักประวัติตรวจร่างกายและดูปัจจัยเสี่ยงมีความสำคัญ หากไม่แน่ใจว่าเป็นลองโควิดหรือไม่ อาจรับประทานยาทั่วไปเพื่อบรรเทาอาการไปก่อน เช่น ยาแก้ไอ ยาคลายกังวล หรือการรักษาด้วยวิธีอื่น ๆ เช่น การทำสมาธิ การฟังเพลงบำบัด ลองโควิดอันตรายถึงชีวิตหรือไม่ แทบไม่มีการรายงาน แต่มักจะเกิดจากโรคแทรกซ้อนที่เกิดหลังการติดโควิด-19 มากกว่า ความเชื่อเกี่ยวกับลองโควิด ฉีดวัคซีนทำให้เป็นลองโควิด ไม่จริง มีการศึกษาพบว่าคนที่ไม่ฉีดวัคซีนมีโอกาสเป็นลองโควิดมากกว่าคนที่ได้รับการฉีดวัคซีนป้องกันโควิด-19 เป็นลองโควิดห้ามออกกำลังกาย ไม่จริง แต่ควรออกกำลังกายเท่าที่ไหว เช่น การเดิน 15-20 นาทีต่อวัน หากเหนื่อยให้หยุดพัก และค่อย ๆ เพิ่มระยะเวลาเมื่อร่างกายมีความทนทานมากขึ้น รับประทานนมเปรี้ยวช่วยให้หายจากการเป็นลองโควิดได้เร็วขึ้น ไม่จริง ยังไม่มีการศึกษาว่ารับประทานนมเปรี้ยวแล้วจะช่วยให้หายจากการเป็นลองโควิดได้เร็วขึ้น มีอาการปวดข้อ ปวดเข่า เกิดจากลองโควิด เป็นไปได้ แต่ส่วนใหญ่มักเกิดจากจากโรคข้อเข่าที่เป็นอยู่ก่อนแล้ว เพียงแต่ไม่เคยรับการตรวจวินิจฉัยมาก่อน เลือดบางกรุ๊ปมีโอกาสเป็นลองโควิดมากกว่ากรุ๊ปเลือดอื่น ไม่จริง การศึกษาหลาย ๆ ประเทศ ยังไม่พบว่ากรุ๊ปเลือดมีผลต่อการเป็นลองโควิด ลองโควิดเป็นแล้วหายได้ ผู้ป่วยไม่จำเป็นต้องมาหาหมอเพื่อตรวจร่างกายหากมีอาการไม่มาก แต่สำหรับคนที่อยู่ในกลุ่มเสี่ยง เช่น ผู้ป่วยที่นอน ICU ใช้เครื่องช่วยหายใจ คนที่มีอายุมาก มีโรคอ้วน โรคประจำตัว ก็สามารถมาพบหมอได้ เพื่อตรวจคัดกรองอีกที\\xa0 อย่างไรก็ตาม อ. พญ.รพีพรรณ รัตนวงศ์นรา มอร์ด ให้คำแนะนำว่า แม้สถานการณ์การแพร่ระบาดจะลดลง รวมถึงมาตรการต่าง ๆ ได้รับการผ่อนปรนมากขึ้น แต่ก็ไม่ควรประมาท การ์ดอย่าตก เพราะการเป็นลองโควิดทำให้เราใช้ชีวิตอย่างยากลำบากมากขึ้น ดังนั้นการป้องกันที่ดีที่สุด คือการใส่หน้ากากอนามัยเมื่ออยู่ในที่ชุมชน หมั่นล้างมืออย่างสม่ำเสมอ ก็จะช่วยให้เราห่างไกลจากโรคไวรัสโควิด-19 และภาวะลองโควิดได้ ข้อมูลโดย อ. พญ.รพีพรรณ รัตนวงศ์นรา มอร์ด สาขาวิชาโรคติดเชื้อ ภาควิชาอายุรศาสตร์ คณะแพทยศาสตร์โรงพยาบาลรามาธิบดี มหาวิทยาลัยมหิดล ตรวจโควิด19 ลองโควิด LONG COVID อาการลองโควิด วิธีรักษา ลองโควิด การป้องกัน โควิด 0'"
      ]
     },
     "execution_count": 27,
     "metadata": {},
     "output_type": "execute_result"
    }
   ],
   "source": [
    "a = data['title'] + data['content'] \n",
    "a.iloc[0]"
   ]
  },
  {
   "cell_type": "code",
   "execution_count": 28,
   "metadata": {},
   "outputs": [],
   "source": [
    "text = \"\"\"ภาวะลองโควิด (long covid) เป็นแล้วหายไหม วิธีสังเกตและการรักษาภาวะลองโควิด (long covid) เป็นแล้วหายไหม \n",
    "วิธีสังเกตและการรักษา October 28, 2022 1 min read 7 A Decrease font size. A Reset font size. A Increase font size. \n",
    "ผู้ป่วยที่หายจากโควิด-19 อาจรู้สึกกังวลว่าตัวเองกำลังเป็นลองโควิดหรือไม่ เมื่อพบว่าสุขภาพร่างกายไม่ปกติเหมือนก่อนเป็นโรค \n",
    "เช่น รู้สึกเหนื่อยกว่าปกติ หายใจเหนื่อย ไอเรื้อรัง อ. พญ.รพีพรรณ รัตนวงศ์นรา มอร์ด สาขาวิชาโรคติดเชื้อ ภาควิชาอายุรศาสตร์ \n",
    "คณะแพทยศาสตร์โรงพยาบาลรามาธิบดี มหาวิทยาลัยมหิดล ได้ตอบข้อสงสัยเกี่ยวกับภาวะลองโควิด จะทราบได้อย่างไรว่าเป็นลองโควิด ลองโควิด \n",
    "ต้องไม่ใช่ ภายใน 1 เดือน ต้องหายจากโควิด และ มีอาการต่อเนื่องอย่างน้อย 2 เดือน ต้องแยกว่าไม่ได้เป็นโรคอื่นที่เป็นมาก่อนเป็นโควิด เช่น \n",
    "โรคหัวใจ โรคปอด นอนไม่หลับ บางคนไม่เคยหาหมอเลย แต่เมื่อเป็นโควิดแล้วได้ตรวจ จึงได้พบว่าเป็นโรคอื่นมาก่อนแล้ว อาการที่อาจเป็นลองโควิด \n",
    "ผู้ป่วยอาจมีอาการเหนื่อย ไอ ซึ่งมักเกี่ยวข้องกับระบบทางเดินหายใจส่วนบน ต้องตรวจการทำงานของหัวใจ ปอด ในเบื้องต้น ว่ามีการทำงานผิดปกติหรือไม่ เช่น \n",
    "การเจาะเลือด การทำคลื่นไฟฟ้าหัวใจ คนไข้กลุ่มไหนที่ควรมาพบแพทย์ คนไข้ที่มีอาการเยอะ เช่น นอน ICU ใช้เครื่องช่วยหายใจ หรือเป็นผู้ที่อยู่ในกลุ่มเสี่ยง เช่น \n",
    "คนที่มีอายุมาก มีโรคอ้วน โรคประจำตัว จะนัดมาเจอหมออย่างน้อย 1 ครั้งต่อ 1 เดือน อาการเริ่มต้นตอนเป็นโควิดกับลองโควิดสัมพันธ์กันหรือไม่ ส่วนใหญ่จะสัมพันธ์กัน \n",
    "จากข้อมูลในประเทศอิตาลีและอเมริกา พบว่า ผู้ป่วยที่เป็นโควิดและรักษาตัวอยู่ที่บ้านมีโอกาสเป็นลองโควิด 10-15% ภาวะ MIS-C กับ ลองโควิด ต่างกันอย่างไร ภาวะ MIS-C \n",
    "(Multisystem Inflammatory Syndrome in Children) เป็นภาวะการอักเสบภายในร่างกายของเด็ก หากเป็นในผู้ใหญ่ จะเรียกว่า MIS-A (Multisystem Inflammatory \n",
    "Syndrome in Adult) ต่างจากลองโควิดตรงที่หลังจากที่ผู้ป่วยหายจากโควิด-19 จะมีอาการอักเสบค่อนข้างเยอะ ทำให้ร่างกายเกิดการติดเชื้อขึ้นอีกครั้ง เช่น ทำให้มีอาการเหนื่อยหอบ \n",
    "ผื่น ตับและไตอักเสบ ซึ่งอาจจะต้องรักษาโดยการรับประทานยากดภูมิ ในขณะที่ลองโควิด อาการของโรคจะยังคงมีอยู่ต่อเนื่อง แต่อาจจะไม่รุนแรงมากนัก ไม่แน่ใจว่าเป็นลองโควิด \n",
    "ต้องตรวจร่างกายเยอะไหม ไม่จำเป็น การซักประวัติตรวจร่างกายและดูปัจจัยเสี่ยงมีความสำคัญ หากไม่แน่ใจว่าเป็นลองโควิดหรือไม่ อาจรับประทานยาทั่วไปเพื่อบรรเทาอาการไปก่อน \n",
    "เช่น ยาแก้ไอ ยาคลายกังวล หรือการรักษาด้วยวิธีอื่น ๆ เช่น การทำสมาธิ การฟังเพลงบำบัด ลองโควิดอันตรายถึงชีวิตหรือไม่ แทบไม่มีการรายงาน \n",
    "แต่มักจะเกิดจากโรคแทรกซ้อนที่เกิดหลังการติดโควิด-19 มากกว่า ความเชื่อเกี่ยวกับลองโควิด ฉีดวัคซีนทำให้เป็นลองโควิด ไม่จริง \n",
    "มีการศึกษาพบว่าคนที่ไม่ฉีดวัคซีนมีโอกาสเป็นลองโควิดมากกว่าคนที่ได้รับการฉีดวัคซีนป้องกันโควิด-19 เป็นลองโควิดห้ามออกกำลังกาย ไม่จริง แต่ควรออกกำลังกายเท่าที่ไหว \n",
    "เช่น การเดิน 15-20 นาทีต่อวัน หากเหนื่อยให้หยุดพัก และค่อย ๆ เพิ่มระยะเวลาเมื่อร่างกายมีความทนทานมากขึ้น รับประทานนมเปรี้ยวช่วยให้หายจากการเป็นลองโควิดได้เร็วขึ้น \n",
    "ไม่จริง ยังไม่มีการศึกษาว่ารับประทานนมเปรี้ยวแล้วจะช่วยให้หายจากการเป็นลองโควิดได้เร็วขึ้น มีอาการปวดข้อ ปวดเข่า เกิดจากลองโควิด เป็นไปได้ \n",
    "แต่ส่วนใหญ่มักเกิดจากจากโรคข้อเข่าที่เป็นอยู่ก่อนแล้ว เพียงแต่ไม่เคยรับการตรวจวินิจฉัยมาก่อน เลือดบางกรุ๊ปมีโอกาสเป็นลองโควิดมากกว่ากรุ๊ปเลือดอื่น ไม่จริง การศึกษาหลาย ๆ \n",
    "ประเทศ ยังไม่พบว่ากรุ๊ปเลือดมีผลต่อการเป็นลองโควิด ลองโควิดเป็นแล้วหายได้ ผู้ป่วยไม่จำเป็นต้องมาหาหมอเพื่อตรวจร่างกายหากมีอาการไม่มาก แต่สำหรับคนที่อยู่ในกลุ่มเสี่ยง เช่น \n",
    "ผู้ป่วยที่นอน ICU ใช้เครื่องช่วยหายใจ คนที่มีอายุมาก มีโรคอ้วน โรคประจำตัว ก็สามารถมาพบหมอได้ เพื่อตรวจคัดกรองอีกที\\xa0 อย่างไรก็ตาม อ. พญ.รพีพรรณ รัตนวงศ์นรา มอร์ด \n",
    "ให้คำแนะนำว่า แม้สถานการณ์การแพร่ระบาดจะลดลง รวมถึงมาตรการต่าง ๆ ได้รับการผ่อนปรนมากขึ้น แต่ก็ไม่ควรประมาท การ์ดอย่าตก \n",
    "เพราะการเป็นลองโควิดทำให้เราใช้ชีวิตอย่างยากลำบากมากขึ้น ดังนั้นการป้องกันที่ดีที่สุด คือการใส่หน้ากากอนามัยเมื่ออยู่ในที่ชุมชน หมั่นล้างมืออย่างสม่ำเสมอ \n",
    "ก็จะช่วยให้เราห่างไกลจากโรคไวรัสโควิด-19 และภาวะลองโควิดได้ ข้อมูลโดย อ. พญ.รพีพรรณ รัตนวงศ์นรา มอร์ด สาขาวิชาโรคติดเชื้อ ภาควิชาอายุรศาสตร์ \n",
    "คณะแพทยศาสตร์โรงพยาบาลรามาธิบดี มหาวิทยาลัยมหิดล ตรวจโควิด19 ลองโควิด LONG COVID อาการลองโควิด วิธีรักษา ลองโควิด การป้องกัน โควิด 0\"\"\""
   ]
  },
  {
   "cell_type": "code",
   "execution_count": 29,
   "metadata": {},
   "outputs": [
    {
     "name": "stdout",
     "output_type": "stream",
     "text": [
      "ลองโควิด,โรค,โควิด,อาการ,หาย\n"
     ]
    }
   ],
   "source": [
    "from pythainlp.util import rank\n",
    "import networkx as nx\n",
    "\n",
    "def textrank_keyword_extraction(document,num_keywords=5):\n",
    "    # Tokenize the document into words\n",
    "    words = document.split(',')\n",
    "    \n",
    "    # Calculate TextRank scores and word counts\n",
    "    tr_scores = rank(words, True)\n",
    "    \n",
    "    # Calculate the total number of words in the document\n",
    "    total_words = sum(tr_scores.values())\n",
    "    \n",
    "    # Normalize the scores by dividing with the total word count\n",
    "    normalized_scores = [(word, count/total_words) for word, count in tr_scores.most_common(num_keywords)]\n",
    "\n",
    "    #create network\n",
    "    G = nx.Graph()\n",
    "\n",
    "    for keyword, score in normalized_scores:\n",
    "        G.add_node(keyword, score=score)\n",
    "\n",
    "    for i, (keyword1, score1) in enumerate(normalized_scores):\n",
    "        for j, (keyword2, score2) in enumerate(normalized_scores):\n",
    "            if i != j:\n",
    "                similarity = min(score1, score2)  # Adjust similarity metric if needed\n",
    "                G.add_edge(keyword1, keyword2, weight=similarity)\n",
    "\n",
    "    pagerank_scores = nx.pagerank(G, weight='weight')\n",
    "\n",
    "    sorted_keywords = sorted(pagerank_scores.items(), key=lambda x: x[1], reverse=True)\n",
    "\n",
    "    keywords = ''\n",
    "    for i in sorted_keywords:\n",
    "        keywords = keywords + ',' + i[0]\n",
    "    \n",
    "    return keywords[1:]\n",
    "\n",
    "# Example usage\n",
    "document = data['text_token'].iloc[0]\n",
    "keywords = textrank_keyword_extraction(document)\n",
    "print(keywords)\n"
   ]
  },
  {
   "cell_type": "code",
   "execution_count": 30,
   "metadata": {},
   "outputs": [
    {
     "data": {
      "text/plain": [
       "'ภาวะ,ลองโควิด,long,covid,เป็น,แล้ว,หาย,ไหม,วิธี,สังเกต,และ,การ,รักษา,ภาวะ,ลองโควิด,long,covid,เป็น,แล้ว,หาย,ไหม,วิธี,สังเกต,และ,การ,รักษา,october,28,2022,min,read,decrease,font,size,reset,font,size,increase,font,size,ผู้,ป่วย,ที่,หาย,จาก,โควิด,19,อาจ,รู้สึก,กังวล,ว่า,ตัว,เอง,กำลัง,เป็น,ลองโควิด,หรือ,ไม่,เมื่อ,พบ,ว่า,สุขภาพ,ร่างกาย,ไม่ปกติ,เหมือน,ก่อน,เป็น,โรค,เช่น,รู้สึก,เหนื่อย,กว่า,ปกติ,หายใจ,เหนื่อย,ไอ,เรื้อรัง,พญรพีพรรณรัตนวงศ์นรามอร์ด,สาขา,วิชา,โรค,ติด,เชื้อ,ภาค,วิชาอายุรศาสตร์,คณะแพทยศาสตร์โรงพยาบาลรามาธิบดี,มหาวิทยาลัยมหิดล,ได้,ตอบ,ข้อ,สงสัย,เกี่ยว,กับ,ภาวะ,ลองโควิด,จะ,ทราบ,ได้,อย่างไร,ว่า,เป็น,ลองโควิด,ลองโควิด,ต้อง,ไม่,ใช่,ภาย,ใน,เดือน,ต้อง,หาย,จาก,โควิด,และ,มี,อาการ,ต่อเนื่อง,อย่าง,น้อย,เดือน,ต้อง,แยก,ว่า,ไม่,ได้,เป็น,โรค,อื่น,ที่,เป็นมาก,่อน,เป็น,โควิด,เช่น,โรค,หัวใจ,โรค,ปอด,นอนไม่หลับ,บาง,คน,ไม่,เคย,หา,หมอ,เลย,แต่,เมื่อ,เป็น,โควิด,แล้ว,ได้,ตรวจ,จึง,ได้,พบ,ว่า,เป็น,โรค,อื่นมาก,่อน,แล้ว,อาการ,ที่,อาจ,เป็น,ลองโควิด,ผู้,ป่วย,อาจ,มี,อาการ,เหนื่อย,ไอ,ซึ่ง,มัก,เกี่ยวข้อง,กับ,ระบบ,ทาง,เดิน,หายใจ,ส่วน,บน,ต้อง,ตรวจ,การ,ทำ,งา,ของ,หัวใจ,ปอด,ใน,เบื้อง,ต้น,ว่า,มี,การ,ทำ,งา,ผิด,ปกติ,หรือ,ไม่,เช่น,การ,เจาะ,เลือด,การ,ทำ,คลื่น,ไฟฟ้า,หัวใจ,คน,ไข้,กลุ่ม,ไหน,ที่,ควร,มา,พบ,แพทย์,คน,ไข้,ที่,มี,อาการ,เยอะ,เช่น,นอน,icu,ใช้,เครื่อง,ช่วย,หายใจ,หรือ,เป็น,ผู้,ที่,อยู่,ใน,กลุ่ม,เสี่ยง,เช่น,คน,ที่,มี,อายุ,มาก,มี,โรค,อ้วน,โรค,ประจำ,ตัว,จะ,นัด,มา,เจอ,หมอ,อย่าง,น้อย,ครั้ง,ต่อ,เดือน,อาการ,เริ่มต้น,ตอน,เป็น,โควิด,กับ,ลองโควิด,สัมพันธ์,กัน,หรือ,ไม่,ส่วน,ใหญ่,จะ,สัมพันธ์,กัน,จาก,ข้อมูล,ใน,ประเทศอิตา,ลี,และ,อเมริกา,พบ,ว่า,ผู้,ป่วย,ที่,เป็น,โควิด,และ,รักษา,ตัว,อยู่,ที่,บ้านม,โอกาส,เป็น,ลองโควิด,1015,ภาวะ,misc,กับ,ลองโควิด,ต่าง,กัน,อย่างไร,ภาวะ,misc,multisystem,inflammatory,syndrome,in,children,เป็น,ภาวะ,การ,อักเสบ,ภาย,ใน,ร่างกาย,ของ,เด็ก,หาก,เป็น,ใน,ผู้,ใหญ่,จะ,เรียก,ว่า,misa,multisystem,inflammatory,syndrome,in,adult,ต่าง,จาก,ลองโควิด,ตรง,ที่,หลัง,จาก,ที่,ผู้,ป่วย,หาย,จาก,โควิด,19,จะ,มี,อาการ,อักเสบ,ค่อนข้าง,เยอะ,ทำ,ให้,ร่างกาย,เกิด,การ,ติด,เชื้อ,ขึ้น,อีก,ครั้ง,เช่น,ทำ,ให้,มี,อาการ,เหนื่อยหอบ,ผื่น,ตับ,และ,ไต,อักเสบ,ซึ่ง,อาจ,จะ,ต้อง,รักษา,โดย,การ,รับประทาน,ยา,กดภูมิ,ใน,ขณะ,ที่,ลองโควิด,อาการ,ของ,โรค,จะ,ยังคง,มี,อยู่,ต่อเนื่อง,แต่,อาจ,จะ,ไม่,รุนแรง,มาก,นัก,ไม่,แน่ใจ,ว่า,เป็น,ลองโควิด,ต้อง,ตรวจ,ร่างกาย,เยอะ,ไหม,ไม่,จำเป็น,การ,ซัก,ประวัติ,ตรวจ,ร่างกาย,และ,ดู,ปัจจัย,เสี่ยง,มี,ความ,สำคัญ,หาก,ไม่,แน่ใจ,ว่า,เป็น,ลองโควิด,หรือ,ไม่,อาจ,รับประทาน,ยา,ทั่วไป,เพื่อ,บรรเทา,อาการ,ไป,ก่อน,เช่น,ยา,แก้,ไอ,ยา,คลาย,กังวล,หรือ,การ,รักษา,ด้วย,วิธี,อื่น,เช่น,การ,ทำ,สมาธิ,การ,ฟัง,เพลง,บำบัด,ลองโควิด,อันตราย,ถึง,ชีวิต,หรือ,ไม่,แทบ,ไม่,มี,การ,รายงา,แต่,มัก,จะ,เกิด,จาก,โรค,แทรกซ้อน,ที่,เกิด,หลัง,การ,ติด,โควิด,19,มาก,กว่า,ความ,เชื่อ,เกี่ยว,กับ,ลองโควิด,ฉีด,วัคซีน,ทำ,ให้,เป็น,ลองโควิด,ไม่,จริง,มี,การ,ศึกษา,พบ,ว่า,คน,ที่,ไม่,ฉีด,วัคซีนม,โอกาส,เป็น,ลองโควิด,มาก,กว่า,คน,ที่,ได้,รับ,การ,ฉีด,วัคซีน,ป้องกัน,โควิด,19,เป็น,ลองโควิด,ห้าม,ออก,กำลัง,กาย,ไม่,จริง,แต่,ควร,ออก,กำลัง,กาย,เท่า,ที่,ไหว,เช่น,การ,เดิน,1520,นาที,ต่อ,วัน,หาก,เหนื่อย,ให้,หยุด,พัก,และ,ค่อย,เพิ่ม,ระยะ,เวลา,เมื่อ,ร่างกาย,มี,ความ,ทนทานมาก,ขึ้น,รับประทาน,นม,เปรี้ยว,ช่วย,ให้,หาย,จาก,การ,เป็น,ลองโควิด,ได้,เร็ว,ขึ้น,ไม่,จริง,ยัง,ไม่,มี,การ,ศึกษา,ว่า,รับประทาน,นม,เปรี้ยว,แล้ว,จะ,ช่วย,ให้,หาย,จาก,การ,เป็น,ลองโควิด,ได้,เร็ว,ขึ้น,มี,อาการ,ปวด,ข้อ,ปวด,เข่า,เกิด,จาก,ลองโควิด,เป็น,ไป,ได้,แต่,ส่วน,ใหญ่,มัก,เกิด,จาก,จาก,โรค,ข้อเข่า,ที่,เป็นอยู่,ก่อน,แล้ว,เพียง,แต่,ไม่,เคย,รับ,การ,ตรวจ,วินิจฉัย,มาก,่อน,เลือด,บาง,กรุ๊ป,มี,โอกาส,เป็น,ลองโควิด,มาก,กว่า,กรุ๊ป,เลือด,อื่น,ไม่,จริง,การ,ศึกษา,หลาย,ประเทศ,ยัง,ไม่,พบ,ว่า,กรุ๊ป,เลือด,มี,ผล,ต่อ,การ,เป็น,ลองโควิด,ลองโควิด,เป็น,แล้ว,หาย,ได้,ผู้,ป่วย,ไม่,จำเป็น,ต้อง,มา,หา,หมอ,เพื่อ,ตรวจ,ร่างกาย,หาก,มี,อาการ,ไม่,มาก,แต่,สำหรับ,คน,ที่,อยู่,ใน,กลุ่ม,เสี่ยง,เช่น,ผู้,ป่วย,ที่,นอน,icu,ใช้,เครื่อง,ช่วย,หายใจ,คน,ที่,มี,อายุ,มาก,มี,โรค,อ้วน,โรค,ประจำ,ตัว,ก็,สามารถ,มา,พบ,หมอ,ได้,เพื่อ,ตรวจ,คัดกรอง,อีก,ที,อย่างไร,ก็ตา,พญรพีพรรณรัตนวงศ์นรามอร์ด,ให้,คำ,แนะนำ,ว่า,แม้,สถานการณ์,การ,แพร่,ระบาด,จะ,ลด,ลง,รวม,ถึง,มาตรการ,ต่าง,ได้,รับ,การ,ผ่อนปรนมาก,ขึ้น,แต่,ก็,ไม่,ควร,ประมาท,การ์ด,อย่า,ตก,เพราะ,การ,เป็น,ลองโควิด,ทำ,ให้,เรา,ใช้,ชีวิต,อย่าง,ยากลำบาก,มาก,ขึ้น,ดัง,นั้น,การ,ป้องกัน,ที่,ดี,ที่สุด,คือ,การ,ใส่,หน้า,กาก,อนามัย,เมื่อ,อยู่,ใน,ที่,ชุมชน,หมั่น,ล้าง,มือ,อย่าง,สม่ำเสมอ,ก็,จะ,ช่วย,ให้,เรา,ห่างไกล,จาก,โรค,ไวรัส,โควิด,19,และ,ภาวะ,ลองโควิด,ได้,ข้อมูล,โดย,พญรพีพรรณรัตนวงศ์นรามอร์ด,สาขา,วิชา,โรค,ติด,เชื้อ,ภาค,วิชาอายุรศาสตร์,คณะแพทยศาสตร์โรงพยาบาลรามาธิบดี,มหาวิทยาลัยมหิดล,ตรวจ,โควิด,19,ลองโควิด,long,covid,อาการ,ลองโควิด,วิธี,รักษา,ลองโควิด,การ,ป้องกัน,โควิด'"
      ]
     },
     "execution_count": 30,
     "metadata": {},
     "output_type": "execute_result"
    }
   ],
   "source": [
    "data['text_token'].iloc[0]"
   ]
  },
  {
   "cell_type": "code",
   "execution_count": 31,
   "metadata": {},
   "outputs": [
    {
     "data": {
      "application/vnd.jupyter.widget-view+json": {
       "model_id": "6c745cd8ce73456c8802f32eeb769dd2",
       "version_major": 2,
       "version_minor": 0
      },
      "text/plain": [
       "  0%|          | 0/4771 [00:00<?, ?it/s]"
      ]
     },
     "metadata": {},
     "output_type": "display_data"
    },
    {
     "data": {
      "text/plain": [
       "0                            ลองโควิด,โควิด,อาการ,ตรวจ,ทำ\n",
       "1                           ปาก,เท้า,มือ,อาการ,มือเท้าปาก\n",
       "2                        อาการ,ไข้เลือดออก,ตัว,รักษา,ป่วย\n",
       "3                     อาการ,ไข้เลือดออก,ยุง,เชื้อ,ป้องกัน\n",
       "4                              ผม,วิ่ง,ชัชชาติ,อาจารย์,ทำ\n",
       "                              ...                        \n",
       "4766                        อาหาร,พิษ,อาการ,รับประทาน,น้ำ\n",
       "4767              ตา,facebooktwitterline,บ้าน,ผ่าตัด,เช็ด\n",
       "4768         ราชวิทยาลัยจุฬาภรณ์,โควิด,วิกฤต,ระบาด,ดำเนิน\n",
       "4769                          facebooktwitterline,pm,รู้,\n",
       "4770    assessmentipsosv,technology,health,thailand,mo...\n",
       "Name: textrank, Length: 4771, dtype: object"
      ]
     },
     "execution_count": 31,
     "metadata": {},
     "output_type": "execute_result"
    }
   ],
   "source": [
    "doc_info['textrank'] = token.progress_apply(lambda x : textrank_keyword_extraction(x,5))\n",
    "doc_info['textrank']"
   ]
  },
  {
   "cell_type": "markdown",
   "metadata": {},
   "source": [
    "# RAKE"
   ]
  },
  {
   "cell_type": "code",
   "execution_count": 32,
   "metadata": {},
   "outputs": [
    {
     "name": "stdout",
     "output_type": "stream",
     "text": [
      "คณะแพทยศาสตร์โรงพยาบาลรามาธิบดี,อนพคมสันต์เกียรติรุ่งฤทธิ์,ซีโรโตนินนอร์เอปิเนฟริน,ภาควิชาจิตเวชศาสตร์,มหาวิทยาลัยมหิดล\n"
     ]
    }
   ],
   "source": [
    "from pythainlp.tokenize import word_tokenize\n",
    "from pythainlp.corpus import thai_stopwords\n",
    "from pythainlp.tag import pos_tag\n",
    "\n",
    "def rake_keyword_extraction(text, num_keywords=5):\n",
    "\n",
    "    words = text.split(',')\n",
    "    words = [i for i in words if i != '']\n",
    "    tagged_words = pos_tag(words,corpus='orchid')\n",
    "    nouns = [word for word, tag in tagged_words if tag in ['NPRP','NCMN']]\n",
    "\n",
    "    # Calculate word scores\n",
    "    word_scores = {}\n",
    "    word_freq = {}\n",
    "    for word in nouns:\n",
    "        if word in word_freq:\n",
    "            word_freq[word] += 1\n",
    "        else:\n",
    "            word_freq[word] = 1\n",
    "        if word in word_scores:\n",
    "            word_scores[word] += len(word) / len(nouns)\n",
    "        else:\n",
    "            word_scores[word] = len(word) / len(nouns)\n",
    "\n",
    "    # Calculate keyword scores\n",
    "    keyword_scores = {}\n",
    "    for word in word_scores:\n",
    "        keyword_scores[word] = word_scores[word] / word_freq[word]\n",
    "\n",
    "    # Sort keywords by scores\n",
    "    sorted_keywords = sorted(keyword_scores.items(), key=lambda x: x[1], reverse=True)\n",
    "    \n",
    "    # Extract top N keywords\n",
    "    top_keywords = [keyword for keyword, score in sorted_keywords[:num_keywords]]\n",
    "    top_score = [score for keyword, score in sorted_keywords[:num_keywords]]\n",
    "\n",
    "    keywords = ''\n",
    "\n",
    "    for i in top_keywords:\n",
    "        keywords = keywords +','+i\n",
    "        \n",
    "    return keywords[1:]\n",
    "\n",
    "# Example usage\n",
    "text = data['text_token'].iloc[5]\n",
    "keywords = rake_keyword_extraction(text)\n",
    "print(keywords)"
   ]
  },
  {
   "cell_type": "code",
   "execution_count": 33,
   "metadata": {},
   "outputs": [
    {
     "data": {
      "application/vnd.jupyter.widget-view+json": {
       "model_id": "c537db072ddb4ebd933aadf5e8572a25",
       "version_major": 2,
       "version_minor": 0
      },
      "text/plain": [
       "  0%|          | 0/4771 [00:00<?, ?it/s]"
      ]
     },
     "metadata": {},
     "output_type": "display_data"
    },
    {
     "data": {
      "text/plain": [
       "0       คณะแพทยศาสตร์โรงพยาบาลรามาธิบดี,พญรพีพรรณรัตนว...\n",
       "1       คณะแพทยศาสตร์โรงพยาบาลรามาธิบดี,นพชนเมธเตชะแสน...\n",
       "2       คณะแพทยศาสตร์โรงพยาบาลรามาธิบดี,ผศนพชนเมธเตชะแ...\n",
       "3       คณะแพทยศาสตร์โรงพยาบาลรามาธิบดี,ผศนพชนเมธเตชะแ...\n",
       "4       คณะแพทยศาสตร์โรงพยาบาลรามาธิบดี,กระทรวงทรัพยาก...\n",
       "                              ...                        \n",
       "4766    ศูนย์การแพทย์มะเร็ง,facebooktwitterline,โรงพยา...\n",
       "4767              facebooktwitterline,ผ่าตัด,บ้าน,วิธี,ตา\n",
       "4768    ศาสตราจารย์ดรสมเด็จพระเจ้าน้องนางเธอเจ้าฟ้าจุฬ...\n",
       "4769                               facebooktwitterline,pm\n",
       "4770    facebooktwitterline,assessmentipsosv,moderniza...\n",
       "Name: rake, Length: 4771, dtype: object"
      ]
     },
     "execution_count": 33,
     "metadata": {},
     "output_type": "execute_result"
    }
   ],
   "source": [
    "doc_info['rake'] = token.progress_apply(lambda x : rake_keyword_extraction(x,5))\n",
    "doc_info['rake']"
   ]
  },
  {
   "cell_type": "code",
   "execution_count": 34,
   "metadata": {},
   "outputs": [
    {
     "data": {
      "text/html": [
       "<div>\n",
       "<style scoped>\n",
       "    .dataframe tbody tr th:only-of-type {\n",
       "        vertical-align: middle;\n",
       "    }\n",
       "\n",
       "    .dataframe tbody tr th {\n",
       "        vertical-align: top;\n",
       "    }\n",
       "\n",
       "    .dataframe thead th {\n",
       "        text-align: right;\n",
       "    }\n",
       "</style>\n",
       "<table border=\"1\" class=\"dataframe\">\n",
       "  <thead>\n",
       "    <tr style=\"text-align: right;\">\n",
       "      <th></th>\n",
       "      <th>url</th>\n",
       "      <th>title</th>\n",
       "      <th>content</th>\n",
       "      <th>category</th>\n",
       "      <th>owner source</th>\n",
       "      <th>banner</th>\n",
       "      <th>image</th>\n",
       "      <th>text_token</th>\n",
       "      <th>tf-idf</th>\n",
       "      <th>textrank</th>\n",
       "      <th>rake</th>\n",
       "    </tr>\n",
       "  </thead>\n",
       "  <tbody>\n",
       "    <tr>\n",
       "      <th>0</th>\n",
       "      <td>https://www.rama.mahidol.ac.th/ramachannel/art...</td>\n",
       "      <td>ภาวะลองโควิด (long covid) เป็นแล้วหายไหม วิธีส...</td>\n",
       "      <td>ภาวะลองโควิด (long covid) เป็นแล้วหายไหม วิธีส...</td>\n",
       "      <td>NaN</td>\n",
       "      <td>NaN</td>\n",
       "      <td>NaN</td>\n",
       "      <td>NaN</td>\n",
       "      <td>ภาวะ,ลองโควิด,long,covid,เป็น,แล้ว,หาย,ไหม,วิธ...</td>\n",
       "      <td>ลองโควิด</td>\n",
       "      <td>ลองโควิด,โควิด,อาการ,ตรวจ,ทำ</td>\n",
       "      <td>คณะแพทยศาสตร์โรงพยาบาลรามาธิบดี,พญรพีพรรณรัตนว...</td>\n",
       "    </tr>\n",
       "    <tr>\n",
       "      <th>1</th>\n",
       "      <td>https://www.rama.mahidol.ac.th/ramachannel/art...</td>\n",
       "      <td>โรคมือ เท้า ปาก โรคระบาดที่มากับฝน อาการและวิธ...</td>\n",
       "      <td>โรคมือ เท้า ปาก โรคระบาดที่มากับฝน อาการและวิธ...</td>\n",
       "      <td>NaN</td>\n",
       "      <td>NaN</td>\n",
       "      <td>NaN</td>\n",
       "      <td>NaN</td>\n",
       "      <td>โรค,มือ,เท้า,ปาก,โรค,ระบาด,ที่,มาก,ับ,ฝน,อาการ...</td>\n",
       "      <td>เท้า,มือเท้าปาก,มือ,ปาก</td>\n",
       "      <td>ปาก,เท้า,มือ,อาการ,มือเท้าปาก</td>\n",
       "      <td>คณะแพทยศาสตร์โรงพยาบาลรามาธิบดี,นพชนเมธเตชะแสน...</td>\n",
       "    </tr>\n",
       "    <tr>\n",
       "      <th>2</th>\n",
       "      <td>https://www.rama.mahidol.ac.th/ramachannel/art...</td>\n",
       "      <td>มีวิธีรักษาและดูแลตัวเองเมื่อเป็นไข้เลือดออกอย...</td>\n",
       "      <td>มีวิธีรักษาและดูแลตัวเองเมื่อเป็นไข้เลือดออกอย...</td>\n",
       "      <td>NaN</td>\n",
       "      <td>NaN</td>\n",
       "      <td>NaN</td>\n",
       "      <td>NaN</td>\n",
       "      <td>มี,วิธี,รักษา,และ,ดูแล,ตัว,เอง,เมื่อ,เป็น,ไข้เ...</td>\n",
       "      <td>ไข้เลือดออก,ช็อก</td>\n",
       "      <td>อาการ,ไข้เลือดออก,ตัว,รักษา,ป่วย</td>\n",
       "      <td>คณะแพทยศาสตร์โรงพยาบาลรามาธิบดี,ผศนพชนเมธเตชะแ...</td>\n",
       "    </tr>\n",
       "    <tr>\n",
       "      <th>3</th>\n",
       "      <td>https://www.rama.mahidol.ac.th/ramachannel/art...</td>\n",
       "      <td>รู้ทันสัญญาณเตือนอาการของโรคไข้เลือดออกพร้อมวิ...</td>\n",
       "      <td>รู้ทันสัญญาณเตือนอาการของโรคไข้เลือดออกพร้อมวิ...</td>\n",
       "      <td>NaN</td>\n",
       "      <td>NaN</td>\n",
       "      <td>NaN</td>\n",
       "      <td>NaN</td>\n",
       "      <td>รู้,ทัน,สัญญาณ,เตือน,อาการ,ของ,โรค,ไข้เลือดออก...</td>\n",
       "      <td>ไข้เลือดออก,ยุง</td>\n",
       "      <td>อาการ,ไข้เลือดออก,ยุง,เชื้อ,ป้องกัน</td>\n",
       "      <td>คณะแพทยศาสตร์โรงพยาบาลรามาธิบดี,ผศนพชนเมธเตชะแ...</td>\n",
       "    </tr>\n",
       "    <tr>\n",
       "      <th>4</th>\n",
       "      <td>https://www.rama.mahidol.ac.th/ramachannel/art...</td>\n",
       "      <td>สัมภาษณ์ชัชชาติ เจาะ Life Style กับหมอรามาฯ</td>\n",
       "      <td>สัมภาษณ์ชัชชาติ เจาะ Life Style กับหมอรามาฯ Au...</td>\n",
       "      <td>NaN</td>\n",
       "      <td>NaN</td>\n",
       "      <td>NaN</td>\n",
       "      <td>NaN</td>\n",
       "      <td>สัมภาษณ์,ชัชชาติ,เจาะ,life,style,กับ,หมอรามา,ส...</td>\n",
       "      <td>อาจารย์,วิ่ง,ผม,ชัชชาติ</td>\n",
       "      <td>ผม,วิ่ง,ชัชชาติ,อาจารย์,ทำ</td>\n",
       "      <td>คณะแพทยศาสตร์โรงพยาบาลรามาธิบดี,กระทรวงทรัพยาก...</td>\n",
       "    </tr>\n",
       "    <tr>\n",
       "      <th>...</th>\n",
       "      <td>...</td>\n",
       "      <td>...</td>\n",
       "      <td>...</td>\n",
       "      <td>...</td>\n",
       "      <td>...</td>\n",
       "      <td>...</td>\n",
       "      <td>...</td>\n",
       "      <td>...</td>\n",
       "      <td>...</td>\n",
       "      <td>...</td>\n",
       "      <td>...</td>\n",
       "    </tr>\n",
       "    <tr>\n",
       "      <th>4766</th>\n",
       "      <td>https://www.chulabhornchannel.com/news-activit...</td>\n",
       "      <td>อร่อยปาก ลำบากท้อง อาหารเป็นพิษ ลำไส้อักเสบโรค...</td>\n",
       "      <td>FacebookTwitterLine อร่อยปาก ลำบากท้อง อาหารเป...</td>\n",
       "      <td>health-articles</td>\n",
       "      <td>chulabhorn channel</td>\n",
       "      <td>https://www.chulabhornchannel.com/wp-content/u...</td>\n",
       "      <td>['https://www.chulabhornchannel.com/wp-content...</td>\n",
       "      <td>อร่อย,ปาก,ลำบาก,ท้อง,อาหาร,เป็น,พิษ,ลำ,ไส้,อัก...</td>\n",
       "      <td>อาหาร,พิษ</td>\n",
       "      <td>อาหาร,พิษ,อาการ,รับประทาน,น้ำ</td>\n",
       "      <td>ศูนย์การแพทย์มะเร็ง,facebooktwitterline,โรงพยา...</td>\n",
       "    </tr>\n",
       "    <tr>\n",
       "      <th>4767</th>\n",
       "      <td>https://www.chulabhornchannel.com/health-artic...</td>\n",
       "      <td>วิธีการเช็ดตา หลังผ่าตัดตา เมื่อกลับบ้าน</td>\n",
       "      <td>FacebookTwitterLine</td>\n",
       "      <td>health-articles</td>\n",
       "      <td>chulabhorn channel</td>\n",
       "      <td>https://www.chulabhornchannel.com/wp-content/u...</td>\n",
       "      <td>[]</td>\n",
       "      <td>วิธี,การ,เช็ด,ตา,หลัง,ผ่าตัด,ตา,เมื่อ,กลับ,บ้า...</td>\n",
       "      <td>เช็ด,ผ่าตัด,บ้าน,ตา,facebooktwitterline</td>\n",
       "      <td>ตา,facebooktwitterline,บ้าน,ผ่าตัด,เช็ด</td>\n",
       "      <td>facebooktwitterline,ผ่าตัด,บ้าน,วิธี,ตา</td>\n",
       "    </tr>\n",
       "    <tr>\n",
       "      <th>4768</th>\n",
       "      <td>https://www.chulabhornchannel.com/news-activit...</td>\n",
       "      <td>CRA COVID-19 Chronicle  บันทึกเหตุการณ์โควิด-1...</td>\n",
       "      <td>FacebookTwitterLine CRA COVID-19 Chronicle บัน...</td>\n",
       "      <td>health-articles</td>\n",
       "      <td>chulabhorn channel</td>\n",
       "      <td>https://www.chulabhornchannel.com/wp-content/u...</td>\n",
       "      <td>['https://www.chulabhornchannel.com/wp-content...</td>\n",
       "      <td>cra,covid,19,chronicle,บันทึก,เหตุการณ์,โควิด,...</td>\n",
       "      <td>โควิด,ราชวิทยาลัยจุฬาภรณ์</td>\n",
       "      <td>ราชวิทยาลัยจุฬาภรณ์,โควิด,วิกฤต,ระบาด,ดำเนิน</td>\n",
       "      <td>ศาสตราจารย์ดรสมเด็จพระเจ้าน้องนางเธอเจ้าฟ้าจุฬ...</td>\n",
       "    </tr>\n",
       "    <tr>\n",
       "      <th>4769</th>\n",
       "      <td>https://www.chulabhornchannel.com/health-artic...</td>\n",
       "      <td>รู้เท่ารู้ทัน PM2.5 พาโรคอะไรมาด้วย ?</td>\n",
       "      <td>FacebookTwitterLine</td>\n",
       "      <td>health-articles</td>\n",
       "      <td>chulabhorn channel</td>\n",
       "      <td>https://www.chulabhornchannel.com/wp-content/u...</td>\n",
       "      <td>[]</td>\n",
       "      <td>รู้เท่า,รู้,ทัน,pm,25,พาโรค,อะไร,มา,ด้วย,faceb...</td>\n",
       "      <td>pm,facebooktwitterline</td>\n",
       "      <td>facebooktwitterline,pm,รู้,</td>\n",
       "      <td>facebooktwitterline,pm</td>\n",
       "    </tr>\n",
       "    <tr>\n",
       "      <th>4770</th>\n",
       "      <td>https://www.chulabhornchannel.com/health-artic...</td>\n",
       "      <td>Modernization of Thailand Health Technology As...</td>\n",
       "      <td>FacebookTwitterLine Modernization of Thailand ...</td>\n",
       "      <td>health-articles</td>\n",
       "      <td>chulabhorn channel</td>\n",
       "      <td>https://www.chulabhornchannel.com/wp-content/u...</td>\n",
       "      <td>['https://www.chulabhornchannel.com/wp-content...</td>\n",
       "      <td>modernization,of,thailand,health,technology,as...</td>\n",
       "      <td>thailand,technology,modernization,assessmentip...</td>\n",
       "      <td>assessmentipsosv,technology,health,thailand,mo...</td>\n",
       "      <td>facebooktwitterline,assessmentipsosv,moderniza...</td>\n",
       "    </tr>\n",
       "  </tbody>\n",
       "</table>\n",
       "<p>4771 rows × 11 columns</p>\n",
       "</div>"
      ],
      "text/plain": [
       "                                                    url   \n",
       "0     https://www.rama.mahidol.ac.th/ramachannel/art...  \\\n",
       "1     https://www.rama.mahidol.ac.th/ramachannel/art...   \n",
       "2     https://www.rama.mahidol.ac.th/ramachannel/art...   \n",
       "3     https://www.rama.mahidol.ac.th/ramachannel/art...   \n",
       "4     https://www.rama.mahidol.ac.th/ramachannel/art...   \n",
       "...                                                 ...   \n",
       "4766  https://www.chulabhornchannel.com/news-activit...   \n",
       "4767  https://www.chulabhornchannel.com/health-artic...   \n",
       "4768  https://www.chulabhornchannel.com/news-activit...   \n",
       "4769  https://www.chulabhornchannel.com/health-artic...   \n",
       "4770  https://www.chulabhornchannel.com/health-artic...   \n",
       "\n",
       "                                                  title   \n",
       "0     ภาวะลองโควิด (long covid) เป็นแล้วหายไหม วิธีส...  \\\n",
       "1     โรคมือ เท้า ปาก โรคระบาดที่มากับฝน อาการและวิธ...   \n",
       "2     มีวิธีรักษาและดูแลตัวเองเมื่อเป็นไข้เลือดออกอย...   \n",
       "3     รู้ทันสัญญาณเตือนอาการของโรคไข้เลือดออกพร้อมวิ...   \n",
       "4           สัมภาษณ์ชัชชาติ เจาะ Life Style กับหมอรามาฯ   \n",
       "...                                                 ...   \n",
       "4766  อร่อยปาก ลำบากท้อง อาหารเป็นพิษ ลำไส้อักเสบโรค...   \n",
       "4767           วิธีการเช็ดตา หลังผ่าตัดตา เมื่อกลับบ้าน   \n",
       "4768  CRA COVID-19 Chronicle  บันทึกเหตุการณ์โควิด-1...   \n",
       "4769              รู้เท่ารู้ทัน PM2.5 พาโรคอะไรมาด้วย ?   \n",
       "4770  Modernization of Thailand Health Technology As...   \n",
       "\n",
       "                                                content         category   \n",
       "0     ภาวะลองโควิด (long covid) เป็นแล้วหายไหม วิธีส...              NaN  \\\n",
       "1     โรคมือ เท้า ปาก โรคระบาดที่มากับฝน อาการและวิธ...              NaN   \n",
       "2     มีวิธีรักษาและดูแลตัวเองเมื่อเป็นไข้เลือดออกอย...              NaN   \n",
       "3     รู้ทันสัญญาณเตือนอาการของโรคไข้เลือดออกพร้อมวิ...              NaN   \n",
       "4     สัมภาษณ์ชัชชาติ เจาะ Life Style กับหมอรามาฯ Au...              NaN   \n",
       "...                                                 ...              ...   \n",
       "4766  FacebookTwitterLine อร่อยปาก ลำบากท้อง อาหารเป...  health-articles   \n",
       "4767                                FacebookTwitterLine  health-articles   \n",
       "4768  FacebookTwitterLine CRA COVID-19 Chronicle บัน...  health-articles   \n",
       "4769                                FacebookTwitterLine  health-articles   \n",
       "4770  FacebookTwitterLine Modernization of Thailand ...  health-articles   \n",
       "\n",
       "            owner source                                             banner   \n",
       "0                    NaN                                                NaN  \\\n",
       "1                    NaN                                                NaN   \n",
       "2                    NaN                                                NaN   \n",
       "3                    NaN                                                NaN   \n",
       "4                    NaN                                                NaN   \n",
       "...                  ...                                                ...   \n",
       "4766  chulabhorn channel  https://www.chulabhornchannel.com/wp-content/u...   \n",
       "4767  chulabhorn channel  https://www.chulabhornchannel.com/wp-content/u...   \n",
       "4768  chulabhorn channel  https://www.chulabhornchannel.com/wp-content/u...   \n",
       "4769  chulabhorn channel  https://www.chulabhornchannel.com/wp-content/u...   \n",
       "4770  chulabhorn channel  https://www.chulabhornchannel.com/wp-content/u...   \n",
       "\n",
       "                                                  image   \n",
       "0                                                   NaN  \\\n",
       "1                                                   NaN   \n",
       "2                                                   NaN   \n",
       "3                                                   NaN   \n",
       "4                                                   NaN   \n",
       "...                                                 ...   \n",
       "4766  ['https://www.chulabhornchannel.com/wp-content...   \n",
       "4767                                                 []   \n",
       "4768  ['https://www.chulabhornchannel.com/wp-content...   \n",
       "4769                                                 []   \n",
       "4770  ['https://www.chulabhornchannel.com/wp-content...   \n",
       "\n",
       "                                             text_token   \n",
       "0     ภาวะ,ลองโควิด,long,covid,เป็น,แล้ว,หาย,ไหม,วิธ...  \\\n",
       "1     โรค,มือ,เท้า,ปาก,โรค,ระบาด,ที่,มาก,ับ,ฝน,อาการ...   \n",
       "2     มี,วิธี,รักษา,และ,ดูแล,ตัว,เอง,เมื่อ,เป็น,ไข้เ...   \n",
       "3     รู้,ทัน,สัญญาณ,เตือน,อาการ,ของ,โรค,ไข้เลือดออก...   \n",
       "4     สัมภาษณ์,ชัชชาติ,เจาะ,life,style,กับ,หมอรามา,ส...   \n",
       "...                                                 ...   \n",
       "4766  อร่อย,ปาก,ลำบาก,ท้อง,อาหาร,เป็น,พิษ,ลำ,ไส้,อัก...   \n",
       "4767  วิธี,การ,เช็ด,ตา,หลัง,ผ่าตัด,ตา,เมื่อ,กลับ,บ้า...   \n",
       "4768  cra,covid,19,chronicle,บันทึก,เหตุการณ์,โควิด,...   \n",
       "4769  รู้เท่า,รู้,ทัน,pm,25,พาโรค,อะไร,มา,ด้วย,faceb...   \n",
       "4770  modernization,of,thailand,health,technology,as...   \n",
       "\n",
       "                                                 tf-idf   \n",
       "0                                              ลองโควิด  \\\n",
       "1                               เท้า,มือเท้าปาก,มือ,ปาก   \n",
       "2                                      ไข้เลือดออก,ช็อก   \n",
       "3                                       ไข้เลือดออก,ยุง   \n",
       "4                               อาจารย์,วิ่ง,ผม,ชัชชาติ   \n",
       "...                                                 ...   \n",
       "4766                                          อาหาร,พิษ   \n",
       "4767            เช็ด,ผ่าตัด,บ้าน,ตา,facebooktwitterline   \n",
       "4768                          โควิด,ราชวิทยาลัยจุฬาภรณ์   \n",
       "4769                             pm,facebooktwitterline   \n",
       "4770  thailand,technology,modernization,assessmentip...   \n",
       "\n",
       "                                               textrank   \n",
       "0                          ลองโควิด,โควิด,อาการ,ตรวจ,ทำ  \\\n",
       "1                         ปาก,เท้า,มือ,อาการ,มือเท้าปาก   \n",
       "2                      อาการ,ไข้เลือดออก,ตัว,รักษา,ป่วย   \n",
       "3                   อาการ,ไข้เลือดออก,ยุง,เชื้อ,ป้องกัน   \n",
       "4                            ผม,วิ่ง,ชัชชาติ,อาจารย์,ทำ   \n",
       "...                                                 ...   \n",
       "4766                      อาหาร,พิษ,อาการ,รับประทาน,น้ำ   \n",
       "4767            ตา,facebooktwitterline,บ้าน,ผ่าตัด,เช็ด   \n",
       "4768       ราชวิทยาลัยจุฬาภรณ์,โควิด,วิกฤต,ระบาด,ดำเนิน   \n",
       "4769                        facebooktwitterline,pm,รู้,   \n",
       "4770  assessmentipsosv,technology,health,thailand,mo...   \n",
       "\n",
       "                                                   rake  \n",
       "0     คณะแพทยศาสตร์โรงพยาบาลรามาธิบดี,พญรพีพรรณรัตนว...  \n",
       "1     คณะแพทยศาสตร์โรงพยาบาลรามาธิบดี,นพชนเมธเตชะแสน...  \n",
       "2     คณะแพทยศาสตร์โรงพยาบาลรามาธิบดี,ผศนพชนเมธเตชะแ...  \n",
       "3     คณะแพทยศาสตร์โรงพยาบาลรามาธิบดี,ผศนพชนเมธเตชะแ...  \n",
       "4     คณะแพทยศาสตร์โรงพยาบาลรามาธิบดี,กระทรวงทรัพยาก...  \n",
       "...                                                 ...  \n",
       "4766  ศูนย์การแพทย์มะเร็ง,facebooktwitterline,โรงพยา...  \n",
       "4767            facebooktwitterline,ผ่าตัด,บ้าน,วิธี,ตา  \n",
       "4768  ศาสตราจารย์ดรสมเด็จพระเจ้าน้องนางเธอเจ้าฟ้าจุฬ...  \n",
       "4769                             facebooktwitterline,pm  \n",
       "4770  facebooktwitterline,assessmentipsosv,moderniza...  \n",
       "\n",
       "[4771 rows x 11 columns]"
      ]
     },
     "execution_count": 34,
     "metadata": {},
     "output_type": "execute_result"
    }
   ],
   "source": [
    "doc_info"
   ]
  },
  {
   "cell_type": "markdown",
   "metadata": {},
   "source": [
    "# Predict Keywords"
   ]
  },
  {
   "cell_type": "code",
   "execution_count": 35,
   "metadata": {},
   "outputs": [],
   "source": [
    "def vote_keyword_extraction(text,fitted_Tfidf=tfidf,num_keywords=5):\n",
    "    \n",
    "    predict_tfidf = fitted_Tfidf.transform([text]).toarray()\n",
    "    feature_names = fitted_Tfidf.get_feature_names_out()\n",
    "    predict_tfidf_df = pd.DataFrame(predict_tfidf,columns=feature_names)\n",
    "    tfidf_keywords = ''\n",
    "\n",
    "    for i in predict_tfidf_df.iloc[0][predict_tfidf_df.iloc[0].sort_values(ascending=False) >= 0.25].index.to_list():\n",
    "        tfidf_keywords = tfidf_keywords+','+i\n",
    "    tfidf_keywords = tfidf_keywords[1:]\n",
    "\n",
    "    textrank_keywords = textrank_keyword_extraction(text,num_keywords)\n",
    "    rake_keywords = rake_keyword_extraction(text,num_keywords)\n",
    "    voted_keywords = tfidf_keywords+','+textrank_keywords+','+rake_keywords\n",
    "\n",
    "    return rake_keyword_extraction(voted_keywords,num_keywords)\n",
    "        "
   ]
  },
  {
   "cell_type": "code",
   "execution_count": 36,
   "metadata": {},
   "outputs": [
    {
     "name": "stdout",
     "output_type": "stream",
     "text": [
      "61/61 [==============================] - 0s 5ms/step\n"
     ]
    },
    {
     "data": {
      "text/plain": [
       "'polycysticovarysyndromepcos,ถุงน้ำรังไข่หลายใบ,ฮอร์โมนเพศชาย,อุลตร้าซาวน์,ออกกำลังกาย'"
      ]
     },
     "execution_count": 36,
     "metadata": {},
     "output_type": "execute_result"
    }
   ],
   "source": [
    "text = \"\"\"ถุงน้ำรังไข่หลายใบ (PCOS)\n",
    "\n",
    "                   พญ.เมธาวี อุฬารวงศ์\n",
    "\n",
    "กลุ่มอาการถุงน้ำรังไข่หลายใบ หรือ Polycystic Ovary Syndrome (PCOS) เป็นภาวะที่เกิดจากความผิดปกติของระบบต่อมไร้ท่อหรือฮอร์โมนในร่างกาย ซึ่งยังไม่ทราบสาเหตุที่แน่ชัด ภาวะดังกล่าวส่งผลให้มีการตกไข่ที่ไม่สม่ำเสมอหรือไม่มีการตกไข่ เกิดเป็นลักษณะถุงน้ำเล็กๆหลายๆใบในรังไข่ ร่วมกับมีฮอร์โมนเพศชายสูงขึ้นในร่างกาย ทำให้เกิดลักษณะต่างๆ เช่น สิว หน้ามัน ขนดก นอกจากนี้อาจทำให้เกิดกลุ่มอาการทางเมตาบอลิกตามมา ภาวะนี้พบได้ถึง 1 ใน 10 ในสตรีวัยเจริญพันธุ์และมีแนวโน้มเพิ่มมากขึ้น\n",
    "\n",
    "อาการ\n",
    "\n",
    "1. ระดูผิดปกติ\n",
    "ได้แก่ ระดูออกน้อย คือ มีรอบระดูที่ห่างขึ้น ยาวนานมากกว่า 35 วัน หรือน้อยกว่า 10 รอบต่อปี / ขาดระดู คือ รอบระดูห่างมากกว่า 6 เดือน หรืออาจมีการขาดหายไปของระดู  3 รอบติดต่อกัน\n",
    "\n",
    "2. มีอาการแสดงของฮอร์โมนเพศชายที่สูง เช่น สิว หน้ามัน ผมร่วง ศีรษะล้าน มีขนขึ้นเยอะ มีกล้ามเนื้อแบบผู้ชาย\n",
    "มีภาวะมีบุตรยาก\n",
    "มีภาวะอ้วนหรือน้ำหนักเกิน\n",
    " \n",
    "\n",
    "การวินิจฉัย แพทย์มักวินิจฉัยภาวะ PCOS โดยพิจารณาจากข้อมูลต่อไปนี้\n",
    "\n",
    "ซักประวัติเพื่อดูลักษณะของประจำเดือน ว่ามีประจำเดือนออกน้อย หรือขาดประจำเดือนหรือไม่\n",
    "ตรวจร่างกายเพื่อค้นหาอาการแสดงของฮอร์โมนเพศชายเกิน เช่น สิว หน้ามัน ขนดก ศีรษะล้าน รวมถึงลักษณะที่บ่งชี้ว่ามีภาวะดื้อต่ออินซูลิน เช่น รอยดำบริเวณหลังคอหรือข้อพับ\n",
    "ตรวจอุลตร้าซาวน์ในอุ้งเชิงกราน เพื่อดูลักษณะถุงน้ำหลายใบในรังไข่\n",
    "อาจตรวจเลือดเพื่อดูระดับฮอร์โมนเพศชายในกระแสเลือด ว่าสูงผิดปกติ หรือไม่ ในกรณีที่อาการแสดงไม่ชัดเจน\n",
    " \n",
    "\n",
    "แนวทางการรักษา\n",
    "\n",
    "การรักษาผู้ป่วย PCOS มีจุดประสงค์เพื่อ คุมรอบระดู รักษาอาการแสดงของฮฮร์โมนเพศชายที่สูง ควบคุมกลุ่มอาการทางเมตาบอลิก รวมถึงรักษาภาวะมีบุตรยาก\n",
    "\n",
    "โดยการรักษาแบ่งออกเป็นการใช้ยาและไม่ใช้ยา\n",
    "\n",
    "การรักษาโดยการไม่ใช้ยา จะมุ่งเน้นที่การปรับเปลี่ยนพฤติกรรม ควบคุมอาหาร ลดน้ำหนัก และออกกำลังกาย เพิ่มการเผาผลาญ ซึ่งจะสามารถช่วยให้มีการตกไข่ที่สม่ำเสมอขึ้น และลดความเสี่ยงของกลุ่มอาการทางเมตาบอลิกได้\n",
    "การรักษาโดยการใช้ยา ได้แก่ ยาคุมกำเนิดชนิดฮอร์โมนรวม ยาเม็ดโปรเจสติน หรือห่วงอนามัยชนิดที่มีฮอร์โมน นอกจากนี้ยังมีการใช้ยาเพื่อลดการแสดงออกของฮอร์โมนเพศชายได้\n",
    "ทั้งนี้ หากมีอาการที่เข้าได้กับกลุ่มอาการถุงน้ำรังไข่หลายใบ แนะนำให้พบแพทย์เพื่อตรวจวินิจฉัย ประเมินความเสี่ยง และวางแนวทางการรักษาที่เหมาะสมต่อไป\"\"\"\n",
    "\n",
    "text = remove_stopwords(cleantext_tokenizer(text))\n",
    "vote_keyword_extraction(text)"
   ]
  },
  {
   "cell_type": "code",
   "execution_count": 37,
   "metadata": {},
   "outputs": [
    {
     "name": "stdout",
     "output_type": "stream",
     "text": [
      "32/32 [==============================] - 0s 5ms/step\n"
     ]
    },
    {
     "data": {
      "text/plain": [
       "'พจธีรวุฒิชาญศิริเจริญกุล,hypersensitivity,antihistamine,แพทย์แผนจีน,หลีกเลี่ยง,สเตียรอยด์,ทางเดินหาย,liequelu,ไอหอบหืด,ภูมิแพ้'"
      ]
     },
     "execution_count": 37,
     "metadata": {},
     "output_type": "execute_result"
    }
   ],
   "source": [
    "text = \"\"\"โรคภูมิแพ้กับแพทย์ทางเลือก\n",
    "\n",
    "พจ. ธีรวุฒิ ชาญศิริเจริญกุล\n",
    "\n",
    " \n",
    "\n",
    "โรคภูมิแพ้(hypersensitivity)โรคที่เกิดจาการตอบสนองของร่างกายที่ไวต่อสารเกิดภูมิแพ้ เช่นอาหาร ไรฝุ่น เกสรดอกไม้ ซึ่งจะทำให้เกิดการตอบสนองอักเสบในร่างกาย ซึ่งอาการที่พบได้เช่นภูมิแพ้ทางเดินหายใจ เช่น คัดจมูก มีน้ำมูก จาม ไอ หอบหืด หรือผื่นคันตามตัว คันตา คันจมูก\n",
    "\n",
    "ข้อควรทำ4 ข้อ คือ หลีกเลี่ยง กำจัด รักษา ป้องกัน\n",
    "\n",
    "หลีกเลี่ยงสารก่อให้เกิดภูมิแพ้ เช่น หลีกเลี่ยง อาหารที่ก่อให้เกิดการแพ้ ควันบุหรี่ หรือช่วงเวลาที่มีการฟุ้งกระจายของละอองเกสรดอกไม้\n",
    "กำจัดสารก่อให้เกิดภูมิแพ้ เช่น ผ้าปูที่นอนก็ควรนำไปซักน้ำอุ่นทุกอาทิตย์\n",
    "การรักษา ในทางของการแพทย์แผนปัจจุบัน จะพิจารณาให้ยาแก้แพ้ (antihistamine) หรือยากลุ่ม สเตียรอยด์ได้ ในรูปแบบของการกิน ทาผิว หรือพ่นจมูกได้\n",
    "ซึ่งในมุมของแพทย์แผนจีนโรคภูมิแพ้เกิดได้จากสาเหตุ ลมเย็น หรือความชื้นทำให้อวัยวะภายในเสียสมดุลได้แก่ ปอด ม้าม ไต การรักษาของทางแพทย์แผนจีน สามารถทำได้หลายวิธี เช่น\n",
    "\n",
    "1.การฝังเข็มซึ่งจุดที่เลือกใช้ได้แก่ จุดYin Xiang (LI 20) ซึ่งเป็นจุดบริเวณปีกจมูก ใช้รักษาโรคที่เกี่ยวกับภูมิแพ้ จุดLie que (LU 7)ซึ่งเป็นจุดบริเวณข้อมือ ที่อยู่บนเส้นลมปราณปอดช่วยทำให้ปอดทำงานได้ดีมากขึ้นขับเสมหะได้ดีขึ้น\"\"\"\n",
    "text = remove_stopwords(cleantext_tokenizer(text))\n",
    "vote_keyword_extraction(text,num_keywords=10)"
   ]
  },
  {
   "cell_type": "code",
   "execution_count": 38,
   "metadata": {},
   "outputs": [
    {
     "name": "stdout",
     "output_type": "stream",
     "text": [
      "88/88 [==============================] - 0s 4ms/step\n"
     ]
    },
    {
     "data": {
      "text/plain": [
       "'deepspacefoodchallenge,canadianspaceagency,องค์การอวกาศแคนาดา,สหรัฐอเมริกา,หล่อเลี้ยง,เทคโนโลยี,ประเทศไทย,รับประทาน,ภัยพิบัติ,ผลิตภัณฑ์'"
      ]
     },
     "execution_count": 38,
     "metadata": {},
     "output_type": "execute_result"
    }
   ],
   "source": [
    "text = \"\"\"NASA พร้อมทุ่มเงิน 33 ล้านบาท จัดแข่งขัน Deep Space Food Challenge สร้างนวัตกรรมอาหารนักบินอวกาศ เมื่อ NASA เตรียมส่งนักบินอวกาศเดินทางสำรวจอวกาศด้วยระยะทางที่ไกลจากโลกมากกว่าที่เคย ทาง NASA เองจึงมีเป้าหมายที่จะยกระดับการผลิตแหล่งหล่อเลี้ยงชีวิตที่สำคัญ นั่นคือ “อาหาร”\n",
    "\n",
    "          การใช้เทคโนโลยีในการผลิตอาหารเพื่อนักบินอวกาศในอนาคต สิ่งที่ต้องใส่ใจก็คือ คุณค่าทางโภชนาการ ความอร่อย และความรู้สึกพึงพอใจ ในภารกิจอวกาศที่มีระยะเวลายาวนาน จะช่วยทำให้พวกเขามีพลังงานที่จำเป็นในการค้นพบอันยิ่งใหญ่ต่อสิ่งที่มนุษย์ยังไม่เคยรู้จักมาก่อนในห้วงอวกาศ\n",
    "\n",
    "          NASA ได้ทำงานร่วมกับ Canadian Space Agency (องค์การอวกาศแคนาดา) เชิญชวนให้ผู้คนทั่วโลกได้ช่วยพัฒนาเทคโนโลยีหรือระบบการผลิตอาหารที่เป็นนวัตกรรมและมีความยั่งยืน โดยต้องการใช้ทรัพยากรให้น้อยที่สุดและผลิตของเสียให้น้อยที่สุดอีกด้วย ภายใต้การแข่งขันที่เรียกว่า “Deep Space Food Challenge” โดยมีกติกาคือ ให้ทีมที่เข้าร่วมแข่งขัน ออกแบบ สร้าง และสาธิตต้นแบบของเทคโนโลยีการผลิตอาหาร ซึ่งนำเสนอผลิตภัณฑ์ทางโภชนาการหรืออาหารที่เป็นจริง\n",
    "\n",
    "          อย่างที่เราทราบกันดีว่า เมื่อเวลาผ่านไปนานเรื่อยๆ อาหารจะสูญเสียคุณค่าทางโภชนาการลงไป นั่นหมายความว่าสำหรับภารกิจหลายปีบนดาวอังคาร การนำอาหารสำเร็จรูปมาบรรจุเป็นอาหารอวกาศไม่เหมาะสำหรับการรักษาสุขภาพร่างกายของนักบินอวกาศ นอกจากนี้ ความไม่มั่นคงด้านอาหารยังเป็นปัญหาเรื้อรังที่สำคัญของโลก ทั้งในชุมชนเมืองและในชนบท\n",
    "\n",
    "          ภัยพิบัติต่างๆ ที่เกิดขึ้นบนโลกของเรา ก็เป็นอีกเหตุผลหนึ่งที่ทำให้ปัญหาการขาดแคลนอาหารย่ำแย่ลงไปอีก ดังนั้นเพื่อให้เกิดทางออกของปัญหานี้ การพัฒนานวัตกรรมขั้นสูงของระบบผลิตอาหารที่มีขนาดกะทัดรัด เช่น การแข่งขัน “Deep Space Food Challenge” ของ NASA อาจช่วยให้มีอุปกรณ์ผลิตอาหารใช้ในบ้านหรือชุมชนที่ประสบภัยน้ำท่วมและภัยแล้ง ด้วยเทคโนโลยีใหม่ที่สามารถปรับใช้ได้อย่างรวดเร็วหลังเกิดภัยพิบัติ\n",
    "\n",
    "          และในตอนนี้ NASA และ Canadian Space Agency ได้ร่วมกันเปิดเฟสที่ 2 ของโครงการแข่งขัน Deep Space Food Challenge โดยมีเป้าหมายเพื่อพัฒนาเทคโนโลยีระบบการผลิตอาหารแบบใหม่สำหรับภารกิจห้วงอวกาศระยะยาว โดยในการแข่งขันเฟสที่ 1 สิ้นสุดลงเมื่อเดือนตุลาคม 2564 ทาง NASA ได้มอบเงินรางวัลให้กับทีมที่ผ่านการคัดเลือกจำนวน 18 ทีม รวมเป็นเงิน 450,000 เหรียญสหรัฐฯ (เฉพาะทีมที่เป็นพลเมืองสหรัฐฯ) สำหรับสนับสนุนแนวคิดด้านเทคโนโลยีการผลิตอาหารที่เป็นนวัตกรรมใหม่ ใช้ผลิตอาหารที่ปลอดภัย ยอมรับได้ ลดการใช้ทรัพยากร มีคุณภาพสูง น่ารับประทาน และมีคุณค่าทางโภชนาการ\n",
    "\n",
    "          นอกจากนี้ทาง NASA และ Canadian Space Agency ยังได้ประกาศยกย่องทีมจากนานาชาติ จำนวน 10 ทีม ที่ผลงานได้ชนะการประกวดในประเภททีมนานาชาติ สามารถดูรายชื่อทั้ง 10 ทีม ได้ที่ลิงก์ \n",
    "\n",
    "          ซึ่งเป็นที่น่ายินดีว่าทีม KEETA จากประเทศไทย ก็เป็น 1 ใน 10 ทีม ที่ได้ชนะการประกวดในประเภททีมนานาชาติของเฟส 1 นี้ด้วย ดังที่เป็นข่าวใหญ่ในสื่อของไทยเมื่อไม่นานมานี้ สามารถรับชมการสัมภาษณ์ทีม KEETA ได้ที่ลิงก์ \n",
    "\n",
    "          NASA ได้เชิญชวนทั้งทีมที่จะสมัครใหม่และทีมจากเฟสที่ 1 เข้าสู่การแข่งขันในเฟสที่ 2 ซึ่งกำหนดให้ทีมที่เข้าร่วมแข่งขันจะต้องสร้างและสาธิตเครื่องต้นแบบการผลิตอาหาร โดยผู้เข้าร่วมการแข่งขันจากสหรัฐอเมริกาสามารถแข่งขันในเฟสที่ 2 เพื่อชิงเงินรางวัลสูงถึง 1 ล้านเหรียญสหรัฐ หรือประมาณ 33 ล้านบาท เพื่อต่อยอดสู่การผลิตอาหารสำหรับนักบินอวกาศ 4 คน ที่จะต้องปฏิบัติภารกิจในอวกาศนาน 3 ปี\n",
    "\n",
    "          \"\"\"\n",
    "text = remove_stopwords(cleantext_tokenizer(text))\n",
    "vote_keyword_extraction(text,num_keywords=10)"
   ]
  },
  {
   "cell_type": "markdown",
   "metadata": {},
   "source": [
    "# vote"
   ]
  },
  {
   "cell_type": "code",
   "execution_count": 39,
   "metadata": {},
   "outputs": [
    {
     "data": {
      "text/plain": [
       "0       ลองโควิด,ลองโควิด,โควิด,อาการ,ตรวจ,ทำ,คณะแพทยศ...\n",
       "1       เท้า,มือเท้าปาก,มือ,ปาก,ปาก,เท้า,มือ,อาการ,มือ...\n",
       "2       ไข้เลือดออก,ช็อก,อาการ,ไข้เลือดออก,ตัว,รักษา,ป...\n",
       "3       ไข้เลือดออก,ยุง,อาการ,ไข้เลือดออก,ยุง,เชื้อ,ป้...\n",
       "4       อาจารย์,วิ่ง,ผม,ชัชชาติ,ผม,วิ่ง,ชัชชาติ,อาจารย...\n",
       "                              ...                        \n",
       "4766    อาหาร,พิษ,อาหาร,พิษ,อาการ,รับประทาน,น้ำ,ศูนย์ก...\n",
       "4767    เช็ด,ผ่าตัด,บ้าน,ตา,facebooktwitterline,ตา,fac...\n",
       "4768    โควิด,ราชวิทยาลัยจุฬาภรณ์,ราชวิทยาลัยจุฬาภรณ์,...\n",
       "4769    pm,facebooktwitterline,facebooktwitterline,pm,...\n",
       "4770    thailand,technology,modernization,assessmentip...\n",
       "Length: 4771, dtype: object"
      ]
     },
     "execution_count": 39,
     "metadata": {},
     "output_type": "execute_result"
    }
   ],
   "source": [
    "vote_df = doc_info['tf-idf']+','+doc_info['textrank']+','+doc_info['rake']\n",
    "vote_df"
   ]
  },
  {
   "cell_type": "code",
   "execution_count": 40,
   "metadata": {},
   "outputs": [
    {
     "data": {
      "application/vnd.jupyter.widget-view+json": {
       "model_id": "0036dc118d544a9fb3ba8cd1e3aa0f3c",
       "version_major": 2,
       "version_minor": 0
      },
      "text/plain": [
       "  0%|          | 0/4771 [00:00<?, ?it/s]"
      ]
     },
     "metadata": {},
     "output_type": "display_data"
    },
    {
     "data": {
      "text/plain": [
       "0       คณะแพทยศาสตร์โรงพยาบาลรามาธิบดี,พญรพีพรรณรัตนว...\n",
       "1       คณะแพทยศาสตร์โรงพยาบาลรามาธิบดี,นพชนเมธเตชะแสน...\n",
       "2       คณะแพทยศาสตร์โรงพยาบาลรามาธิบดี,ผศนพชนเมธเตชะแ...\n",
       "3       คณะแพทยศาสตร์โรงพยาบาลรามาธิบดี,ผศนพชนเมธเตชะแ...\n",
       "4       คณะแพทยศาสตร์โรงพยาบาลรามาธิบดี,กระทรวงทรัพยาก...\n",
       "                              ...                        \n",
       "4766    facebooktwitterline,ศูนย์การแพทย์มะเร็ง,โรงพยา...\n",
       "4767              facebooktwitterline,ผ่าตัด,บ้าน,วิธี,ตา\n",
       "4768    ศาสตราจารย์ดรสมเด็จพระเจ้าน้องนางเธอเจ้าฟ้าจุฬ...\n",
       "4769                               facebooktwitterline,pm\n",
       "4770    facebooktwitterline,assessmentipsosv,moderniza...\n",
       "Name: vote_keywords, Length: 4771, dtype: object"
      ]
     },
     "execution_count": 40,
     "metadata": {},
     "output_type": "execute_result"
    }
   ],
   "source": [
    "voted_keywords_data = vote_df.progress_apply(lambda x : vote_keyword_extraction(x,num_keywords=10))\n",
    "doc_info['vote_keywords'] = voted_keywords_data\n",
    "doc_info['vote_keywords']"
   ]
  },
  {
   "cell_type": "code",
   "execution_count": 49,
   "metadata": {},
   "outputs": [
    {
     "data": {
      "text/plain": [
       "'คณะแพทยศาสตร์โรงพยาบาลรามาธิบดี,พญรพีพรรณรัตนวงศ์นรามอร์ด,มหาวิทยาลัยมหิดล,วิชาอายุรศาสตร์,inflammatory,ลองโควิด,โควิด,อาการ'"
      ]
     },
     "execution_count": 49,
     "metadata": {},
     "output_type": "execute_result"
    }
   ],
   "source": [
    "voted_keywords_data.iloc[0]"
   ]
  },
  {
   "cell_type": "code",
   "execution_count": 42,
   "metadata": {},
   "outputs": [],
   "source": [
    "# from sklearn.feature_extraction.text import TfidfVectorizer\n",
    "\n",
    "# def split_text(text):\n",
    "#     return text.split(',')\n",
    "\n",
    "# tfidf = TfidfVectorizer(tokenizer=split_text,max_df=0.7)\n",
    "# X_tfidf = tfidf.fit_transform(vote_df).toarray()\n",
    "# vocab = tfidf.vocabulary_\n",
    "# reverse_vocab = {v:k for k,v in vocab.items()}\n",
    "# feature_names = tfidf.get_feature_names_out()\n",
    "# df_tfidf = pd.DataFrame(X_tfidf,columns=feature_names)"
   ]
  },
  {
   "cell_type": "code",
   "execution_count": 43,
   "metadata": {},
   "outputs": [],
   "source": [
    "# words_importance = []\n",
    "# for i in tqdm(range(len(df_tfidf))):\n",
    "#     words_importance.append(df_tfidf.iloc[i][df_tfidf.iloc[i].sort_values(ascending=False) >= 0.25].index.to_list())"
   ]
  },
  {
   "cell_type": "code",
   "execution_count": 44,
   "metadata": {},
   "outputs": [],
   "source": [
    "# voted_keyword = []\n",
    "# for i in words_importance:\n",
    "#     txt = ''\n",
    "#     for j in i:\n",
    "#         txt = txt +','+j\n",
    "    \n",
    "#     txt = txt[1:]\n",
    "#     voted_keyword.append(txt)"
   ]
  },
  {
   "cell_type": "code",
   "execution_count": 45,
   "metadata": {},
   "outputs": [],
   "source": [
    "# voted_keyword"
   ]
  },
  {
   "cell_type": "markdown",
   "metadata": {},
   "source": [
    "# Bertopic"
   ]
  },
  {
   "cell_type": "code",
   "execution_count": 46,
   "metadata": {},
   "outputs": [
    {
     "name": "stdout",
     "output_type": "stream",
     "text": [
      "set seed completed\n"
     ]
    }
   ],
   "source": [
    "import numpy as np\n",
    "import torch\n",
    "import random\n",
    "import os\n",
    "\n",
    "def set_seed(seed):\n",
    "    torch.manual_seed(seed)\n",
    "    torch.cuda.manual_seed_all(seed)\n",
    "    torch.backends.cudnn.deterministic = True\n",
    "    torch.backends.cudnn.benchmark = False\n",
    "    np.random.seed(seed)\n",
    "    random.seed(seed)\n",
    "    os.environ['PYTHONHASHSEED'] = str(seed)\n",
    "    print('set seed completed')\n",
    "\n",
    "set_seed(42)"
   ]
  },
  {
   "cell_type": "code",
   "execution_count": 47,
   "metadata": {},
   "outputs": [],
   "source": [
    "# #หา params ที่ดีที่สุด\n",
    "# from umap import UMAP\n",
    "# from sklearn.feature_extraction.text import CountVectorizer\n",
    "# from bertopic import BERTopic\n",
    "# from sklearn.metrics import silhouette_score\n",
    "# from sklearn.feature_extraction.text import TfidfVectorizer\n",
    "# from sentence_transformers import SentenceTransformer\n",
    "# from hdbscan import HDBSCAN\n",
    "\n",
    "# # Initialize the range of values for n_components and n_neighbors\n",
    "# n_components_range = range(3, 10,3)\n",
    "# n_neighbors_range = range(5, 20,5)\n",
    "\n",
    "# # Variables to store the best n_components, best n_neighbors, and best Silhouette Score\n",
    "# best_n_components = -1\n",
    "# best_n_neighbors = -1\n",
    "# best_score = -1\n",
    "\n",
    "# #sbert\n",
    "# sbert_model = SentenceTransformer('paraphrase-multilingual-mpnet-base-v2')\n",
    "\n",
    "# #hdbscan\n",
    "# hdbscan_model = HDBSCAN(min_cluster_size=10, prediction_data=True, min_samples=3)\n",
    "\n",
    "# #tf-idf\n",
    "# def split_text(text):\n",
    "#     return text.split(',')\n",
    "\n",
    "# vectorizer_model = TfidfVectorizer(tokenizer=split_text, lowercase=False)\n",
    "\n",
    "# # Iterate over the range of n_components and n_neighbors\n",
    "# for n_components in tqdm(n_components_range, desc=\"n_component\"):\n",
    "#     for n_neighbors in tqdm(n_neighbors_range, desc=\"n_neighbor\"):\n",
    "#         # Initiate UMAP\n",
    "#         umap_model = UMAP(n_neighbors=n_neighbors,\n",
    "#                           n_components=n_components,\n",
    "#                           min_dist=0.0,\n",
    "#                           metric='cosine',\n",
    "#                           random_state=42,\n",
    "#                           n_epochs=5000)\n",
    "\n",
    "#         # Initiate BERTopic\n",
    "#         topic_model = BERTopic(umap_model=umap_model,\n",
    "#                                vectorizer_model=vectorizer_model,\n",
    "#                                language=\"multilingual\",\n",
    "#                                calculate_probabilities=True,\n",
    "#                                verbose=True, \n",
    "#                                top_n_words = 3,\n",
    "#                                n_gram_range = (1,2),\n",
    "#                                embedding_model = sbert_model,\n",
    "#                                hdbscan_model = hdbscan_model,\n",
    "#                                min_topic_size = 5\n",
    "#                                )\n",
    "\n",
    "#         # Run BERTopic model\n",
    "#         topics, probs = topic_model.fit_transform(voted_keyword)\n",
    "\n",
    "#         # Compute the Silhouette Score\n",
    "#         embedding = topic_model.umap_model.embedding_\n",
    "#         silhouette_avg = silhouette_score(embedding, topics)\n",
    "\n",
    "#         # Check if the current score is better than the previous best score\n",
    "#         if silhouette_avg > best_score:\n",
    "#             best_score = silhouette_avg\n",
    "#             best_n_components = n_components\n",
    "#             best_n_neighbors = n_neighbors\n",
    "\n",
    "# # Print the best n_components, best n_neighbors, and best Silhouette Score\n",
    "# print(\"Best n_components:\", best_n_components)\n",
    "# print(\"Best n_neighbors:\", best_n_neighbors)\n",
    "# print(\"Best Silhouette Score:\", best_score)"
   ]
  },
  {
   "cell_type": "code",
   "execution_count": 48,
   "metadata": {},
   "outputs": [
    {
     "ename": "ImportError",
     "evalue": "cannot import name 'ModelMetaclass' from 'pydantic.main' (c:\\Users\\Asus\\AppData\\Local\\Programs\\Python\\Python311\\Lib\\site-packages\\pydantic\\main.py)",
     "output_type": "error",
     "traceback": [
      "\u001b[1;31m---------------------------------------------------------------------------\u001b[0m",
      "\u001b[1;31mImportError\u001b[0m                               Traceback (most recent call last)",
      "Cell \u001b[1;32mIn[48], line 3\u001b[0m\n\u001b[0;32m      1\u001b[0m \u001b[38;5;28;01mfrom\u001b[39;00m \u001b[38;5;21;01mumap\u001b[39;00m \u001b[38;5;28;01mimport\u001b[39;00m UMAP\n\u001b[0;32m      2\u001b[0m \u001b[38;5;28;01mfrom\u001b[39;00m \u001b[38;5;21;01msklearn\u001b[39;00m\u001b[38;5;21;01m.\u001b[39;00m\u001b[38;5;21;01mfeature_extraction\u001b[39;00m\u001b[38;5;21;01m.\u001b[39;00m\u001b[38;5;21;01mtext\u001b[39;00m \u001b[38;5;28;01mimport\u001b[39;00m TfidfVectorizer\n\u001b[1;32m----> 3\u001b[0m \u001b[38;5;28;01mfrom\u001b[39;00m \u001b[38;5;21;01mbertopic\u001b[39;00m \u001b[38;5;28;01mimport\u001b[39;00m BERTopic\n\u001b[0;32m      4\u001b[0m \u001b[38;5;28;01mfrom\u001b[39;00m \u001b[38;5;21;01msentence_transformers\u001b[39;00m \u001b[38;5;28;01mimport\u001b[39;00m SentenceTransformer\n\u001b[0;32m      5\u001b[0m \u001b[38;5;28;01mfrom\u001b[39;00m \u001b[38;5;21;01mhdbscan\u001b[39;00m \u001b[38;5;28;01mimport\u001b[39;00m HDBSCAN\n",
      "File \u001b[1;32mc:\\Users\\Asus\\AppData\\Local\\Programs\\Python\\Python311\\Lib\\site-packages\\bertopic\\__init__.py:1\u001b[0m\n\u001b[1;32m----> 1\u001b[0m \u001b[38;5;28;01mfrom\u001b[39;00m \u001b[38;5;21;01mbertopic\u001b[39;00m\u001b[38;5;21;01m.\u001b[39;00m\u001b[38;5;21;01m_bertopic\u001b[39;00m \u001b[38;5;28;01mimport\u001b[39;00m BERTopic\n\u001b[0;32m      3\u001b[0m __version__ \u001b[38;5;241m=\u001b[39m \u001b[38;5;124m\"\u001b[39m\u001b[38;5;124m0.15.0\u001b[39m\u001b[38;5;124m\"\u001b[39m\n\u001b[0;32m      5\u001b[0m __all__ \u001b[38;5;241m=\u001b[39m [\n\u001b[0;32m      6\u001b[0m     \u001b[38;5;124m\"\u001b[39m\u001b[38;5;124mBERTopic\u001b[39m\u001b[38;5;124m\"\u001b[39m,\n\u001b[0;32m      7\u001b[0m ]\n",
      "File \u001b[1;32mc:\\Users\\Asus\\AppData\\Local\\Programs\\Python\\Python311\\Lib\\site-packages\\bertopic\\_bertopic.py:49\u001b[0m\n\u001b[0;32m     47\u001b[0m \u001b[38;5;28;01mfrom\u001b[39;00m \u001b[38;5;21;01mbertopic\u001b[39;00m\u001b[38;5;21;01m.\u001b[39;00m\u001b[38;5;21;01mcluster\u001b[39;00m \u001b[38;5;28;01mimport\u001b[39;00m BaseCluster\n\u001b[0;32m     48\u001b[0m \u001b[38;5;28;01mfrom\u001b[39;00m \u001b[38;5;21;01mbertopic\u001b[39;00m\u001b[38;5;21;01m.\u001b[39;00m\u001b[38;5;21;01mbackend\u001b[39;00m \u001b[38;5;28;01mimport\u001b[39;00m BaseEmbedder\n\u001b[1;32m---> 49\u001b[0m \u001b[38;5;28;01mfrom\u001b[39;00m \u001b[38;5;21;01mbertopic\u001b[39;00m\u001b[38;5;21;01m.\u001b[39;00m\u001b[38;5;21;01mrepresentation\u001b[39;00m\u001b[38;5;21;01m.\u001b[39;00m\u001b[38;5;21;01m_mmr\u001b[39;00m \u001b[38;5;28;01mimport\u001b[39;00m mmr\n\u001b[0;32m     50\u001b[0m \u001b[38;5;28;01mfrom\u001b[39;00m \u001b[38;5;21;01mbertopic\u001b[39;00m\u001b[38;5;21;01m.\u001b[39;00m\u001b[38;5;21;01mbackend\u001b[39;00m\u001b[38;5;21;01m.\u001b[39;00m\u001b[38;5;21;01m_utils\u001b[39;00m \u001b[38;5;28;01mimport\u001b[39;00m select_backend\n\u001b[0;32m     51\u001b[0m \u001b[38;5;28;01mfrom\u001b[39;00m \u001b[38;5;21;01mbertopic\u001b[39;00m\u001b[38;5;21;01m.\u001b[39;00m\u001b[38;5;21;01mvectorizers\u001b[39;00m \u001b[38;5;28;01mimport\u001b[39;00m ClassTfidfTransformer\n",
      "File \u001b[1;32mc:\\Users\\Asus\\AppData\\Local\\Programs\\Python\\Python311\\Lib\\site-packages\\bertopic\\representation\\__init__.py:37\u001b[0m\n\u001b[0;32m     35\u001b[0m \u001b[38;5;66;03m# POS using Spacy\u001b[39;00m\n\u001b[0;32m     36\u001b[0m \u001b[38;5;28;01mtry\u001b[39;00m:\n\u001b[1;32m---> 37\u001b[0m     \u001b[38;5;28;01mfrom\u001b[39;00m \u001b[38;5;21;01mbertopic\u001b[39;00m\u001b[38;5;21;01m.\u001b[39;00m\u001b[38;5;21;01mrepresentation\u001b[39;00m\u001b[38;5;21;01m.\u001b[39;00m\u001b[38;5;21;01m_pos\u001b[39;00m \u001b[38;5;28;01mimport\u001b[39;00m PartOfSpeech\n\u001b[0;32m     38\u001b[0m \u001b[38;5;28;01mexcept\u001b[39;00m \u001b[38;5;167;01mModuleNotFoundError\u001b[39;00m:\n\u001b[0;32m     39\u001b[0m     PartOfSpeech \u001b[38;5;241m=\u001b[39m NotInstalled(\u001b[38;5;124m\"\u001b[39m\u001b[38;5;124mPart of Speech with Spacy\u001b[39m\u001b[38;5;124m\"\u001b[39m, \u001b[38;5;124m\"\u001b[39m\u001b[38;5;124mspacy\u001b[39m\u001b[38;5;124m\"\u001b[39m)\n",
      "File \u001b[1;32mc:\\Users\\Asus\\AppData\\Local\\Programs\\Python\\Python311\\Lib\\site-packages\\bertopic\\representation\\_pos.py:5\u001b[0m\n\u001b[0;32m      2\u001b[0m \u001b[38;5;28;01mimport\u001b[39;00m \u001b[38;5;21;01mnumpy\u001b[39;00m \u001b[38;5;28;01mas\u001b[39;00m \u001b[38;5;21;01mnp\u001b[39;00m\n\u001b[0;32m      3\u001b[0m \u001b[38;5;28;01mimport\u001b[39;00m \u001b[38;5;21;01mpandas\u001b[39;00m \u001b[38;5;28;01mas\u001b[39;00m \u001b[38;5;21;01mpd\u001b[39;00m\n\u001b[1;32m----> 5\u001b[0m \u001b[38;5;28;01mimport\u001b[39;00m \u001b[38;5;21;01mspacy\u001b[39;00m\n\u001b[0;32m      6\u001b[0m \u001b[38;5;28;01mfrom\u001b[39;00m \u001b[38;5;21;01mspacy\u001b[39;00m\u001b[38;5;21;01m.\u001b[39;00m\u001b[38;5;21;01mmatcher\u001b[39;00m \u001b[38;5;28;01mimport\u001b[39;00m Matcher\n\u001b[0;32m      7\u001b[0m \u001b[38;5;28;01mfrom\u001b[39;00m \u001b[38;5;21;01mspacy\u001b[39;00m\u001b[38;5;21;01m.\u001b[39;00m\u001b[38;5;21;01mlanguage\u001b[39;00m \u001b[38;5;28;01mimport\u001b[39;00m Language\n",
      "File \u001b[1;32mc:\\Users\\Asus\\AppData\\Local\\Programs\\Python\\Python311\\Lib\\site-packages\\spacy\\__init__.py:6\u001b[0m\n\u001b[0;32m      3\u001b[0m \u001b[38;5;28;01mfrom\u001b[39;00m \u001b[38;5;21;01mtyping\u001b[39;00m \u001b[38;5;28;01mimport\u001b[39;00m Any, Dict, Iterable, Union\n\u001b[0;32m      5\u001b[0m \u001b[38;5;66;03m# set library-specific custom warning handling before doing anything else\u001b[39;00m\n\u001b[1;32m----> 6\u001b[0m \u001b[38;5;28;01mfrom\u001b[39;00m \u001b[38;5;21;01m.\u001b[39;00m\u001b[38;5;21;01merrors\u001b[39;00m \u001b[38;5;28;01mimport\u001b[39;00m setup_default_warnings\n\u001b[0;32m      8\u001b[0m setup_default_warnings()  \u001b[38;5;66;03m# noqa: E402\u001b[39;00m\n\u001b[0;32m     10\u001b[0m \u001b[38;5;66;03m# These are imported as part of the API\u001b[39;00m\n",
      "File \u001b[1;32mc:\\Users\\Asus\\AppData\\Local\\Programs\\Python\\Python311\\Lib\\site-packages\\spacy\\errors.py:3\u001b[0m\n\u001b[0;32m      1\u001b[0m \u001b[38;5;28;01mimport\u001b[39;00m \u001b[38;5;21;01mwarnings\u001b[39;00m\n\u001b[1;32m----> 3\u001b[0m \u001b[38;5;28;01mfrom\u001b[39;00m \u001b[38;5;21;01m.\u001b[39;00m\u001b[38;5;21;01mcompat\u001b[39;00m \u001b[38;5;28;01mimport\u001b[39;00m Literal\n\u001b[0;32m      6\u001b[0m \u001b[38;5;28;01mclass\u001b[39;00m \u001b[38;5;21;01mErrorsWithCodes\u001b[39;00m(\u001b[38;5;28mtype\u001b[39m):\n\u001b[0;32m      7\u001b[0m     \u001b[38;5;28;01mdef\u001b[39;00m \u001b[38;5;21m__getattribute__\u001b[39m(\u001b[38;5;28mself\u001b[39m, code):\n",
      "File \u001b[1;32mc:\\Users\\Asus\\AppData\\Local\\Programs\\Python\\Python311\\Lib\\site-packages\\spacy\\compat.py:4\u001b[0m\n\u001b[0;32m      1\u001b[0m \u001b[38;5;124;03m\"\"\"Helpers for Python and platform compatibility.\"\"\"\u001b[39;00m\n\u001b[0;32m      2\u001b[0m \u001b[38;5;28;01mimport\u001b[39;00m \u001b[38;5;21;01msys\u001b[39;00m\n\u001b[1;32m----> 4\u001b[0m \u001b[38;5;28;01mfrom\u001b[39;00m \u001b[38;5;21;01mthinc\u001b[39;00m\u001b[38;5;21;01m.\u001b[39;00m\u001b[38;5;21;01mutil\u001b[39;00m \u001b[38;5;28;01mimport\u001b[39;00m copy_array\n\u001b[0;32m      6\u001b[0m \u001b[38;5;28;01mtry\u001b[39;00m:\n\u001b[0;32m      7\u001b[0m     \u001b[38;5;28;01mimport\u001b[39;00m \u001b[38;5;21;01mcPickle\u001b[39;00m \u001b[38;5;28;01mas\u001b[39;00m \u001b[38;5;21;01mpickle\u001b[39;00m\n",
      "File \u001b[1;32mc:\\Users\\Asus\\AppData\\Local\\Programs\\Python\\Python311\\Lib\\site-packages\\thinc\\__init__.py:5\u001b[0m\n\u001b[0;32m      2\u001b[0m \u001b[38;5;28;01mimport\u001b[39;00m \u001b[38;5;21;01mnumpy\u001b[39;00m\n\u001b[0;32m      4\u001b[0m \u001b[38;5;28;01mfrom\u001b[39;00m \u001b[38;5;21;01m.\u001b[39;00m\u001b[38;5;21;01mabout\u001b[39;00m \u001b[38;5;28;01mimport\u001b[39;00m __version__\n\u001b[1;32m----> 5\u001b[0m \u001b[38;5;28;01mfrom\u001b[39;00m \u001b[38;5;21;01m.\u001b[39;00m\u001b[38;5;21;01mconfig\u001b[39;00m \u001b[38;5;28;01mimport\u001b[39;00m registry\n\u001b[0;32m      8\u001b[0m \u001b[38;5;66;03m# fmt: off\u001b[39;00m\n\u001b[0;32m      9\u001b[0m __all__ \u001b[38;5;241m=\u001b[39m [\n\u001b[0;32m     10\u001b[0m     \u001b[38;5;124m\"\u001b[39m\u001b[38;5;124mregistry\u001b[39m\u001b[38;5;124m\"\u001b[39m,\n\u001b[0;32m     11\u001b[0m     \u001b[38;5;124m\"\u001b[39m\u001b[38;5;124m__version__\u001b[39m\u001b[38;5;124m\"\u001b[39m,\n\u001b[0;32m     12\u001b[0m ]\n",
      "File \u001b[1;32mc:\\Users\\Asus\\AppData\\Local\\Programs\\Python\\Python311\\Lib\\site-packages\\thinc\\config.py:2\u001b[0m\n\u001b[0;32m      1\u001b[0m \u001b[38;5;28;01mimport\u001b[39;00m \u001b[38;5;21;01mcatalogue\u001b[39;00m\n\u001b[1;32m----> 2\u001b[0m \u001b[38;5;28;01mimport\u001b[39;00m \u001b[38;5;21;01mconfection\u001b[39;00m\n\u001b[0;32m      3\u001b[0m \u001b[38;5;28;01mfrom\u001b[39;00m \u001b[38;5;21;01mconfection\u001b[39;00m \u001b[38;5;28;01mimport\u001b[39;00m Config, ConfigValidationError, Promise, VARIABLE_RE\n\u001b[0;32m      4\u001b[0m \u001b[38;5;28;01mfrom\u001b[39;00m \u001b[38;5;21;01m.\u001b[39;00m\u001b[38;5;21;01mtypes\u001b[39;00m \u001b[38;5;28;01mimport\u001b[39;00m Decorator\n",
      "File \u001b[1;32mc:\\Users\\Asus\\AppData\\Local\\Programs\\Python\\Python311\\Lib\\site-packages\\confection\\__init__.py:11\u001b[0m\n\u001b[0;32m      9\u001b[0m \u001b[38;5;28;01mfrom\u001b[39;00m \u001b[38;5;21;01mpathlib\u001b[39;00m \u001b[38;5;28;01mimport\u001b[39;00m Path\n\u001b[0;32m     10\u001b[0m \u001b[38;5;28;01mfrom\u001b[39;00m \u001b[38;5;21;01mpydantic\u001b[39;00m \u001b[38;5;28;01mimport\u001b[39;00m BaseModel, create_model, ValidationError, Extra\n\u001b[1;32m---> 11\u001b[0m \u001b[38;5;28;01mfrom\u001b[39;00m \u001b[38;5;21;01mpydantic\u001b[39;00m\u001b[38;5;21;01m.\u001b[39;00m\u001b[38;5;21;01mmain\u001b[39;00m \u001b[38;5;28;01mimport\u001b[39;00m ModelMetaclass\n\u001b[0;32m     12\u001b[0m \u001b[38;5;28;01mfrom\u001b[39;00m \u001b[38;5;21;01mpydantic\u001b[39;00m\u001b[38;5;21;01m.\u001b[39;00m\u001b[38;5;21;01mfields\u001b[39;00m \u001b[38;5;28;01mimport\u001b[39;00m ModelField\n\u001b[0;32m     13\u001b[0m \u001b[38;5;28;01mimport\u001b[39;00m \u001b[38;5;21;01msrsly\u001b[39;00m\n",
      "\u001b[1;31mImportError\u001b[0m: cannot import name 'ModelMetaclass' from 'pydantic.main' (c:\\Users\\Asus\\AppData\\Local\\Programs\\Python\\Python311\\Lib\\site-packages\\pydantic\\main.py)"
     ]
    }
   ],
   "source": [
    "from umap import UMAP\n",
    "from sklearn.feature_extraction.text import TfidfVectorizer\n",
    "from bertopic import BERTopic\n",
    "from sentence_transformers import SentenceTransformer\n",
    "from hdbscan import HDBSCAN\n",
    "\n",
    "#sbert\n",
    "sbert_model = SentenceTransformer('paraphrase-multilingual-mpnet-base-v2')\n",
    "\n",
    "#hdbscan\n",
    "hdbscan_model = HDBSCAN(min_cluster_size=10, prediction_data=True, min_samples=3)\n",
    "\n",
    "#tf-idf\n",
    "def split_text(text):\n",
    "    return text.split(',')\n",
    "\n",
    "vectorizer_model = TfidfVectorizer(tokenizer=split_text, lowercase=False)\n",
    "\n",
    "#UMAP\n",
    "best_umap_model = UMAP(n_neighbors = 3,\n",
    "                       n_components = 2,\n",
    "                       min_dist = 0.0,\n",
    "                       metric = 'euclidean',\n",
    "                       random_state = 42,\n",
    "                       n_epochs = 5000)\n",
    "\n",
    "# Initialize BERTopic with the best UMAP model and CountVectorizer\n",
    "best_topic_model = BERTopic(umap_model = best_umap_model,\n",
    "                            vectorizer_model = vectorizer_model,\n",
    "                            language = \"multilingual\",\n",
    "                            calculate_probabilities = True,\n",
    "                            verbose = True, \n",
    "                            top_n_words = 3,#3\n",
    "                            n_gram_range = (1,4),#(1,4)\n",
    "                            embedding_model = sbert_model,\n",
    "                            hdbscan_model = hdbscan_model,\n",
    "                            min_topic_size = 5\n",
    "                            )\n",
    "\n",
    "# Fit and transform the data using the best BERTopic model\n",
    "topics, probs = best_topic_model.fit_transform(vote_df)\n",
    "\n",
    "# Get the UMAP projection\n",
    "embedding = best_topic_model.umap_model.embedding_\n",
    "\n",
    "from sklearn.metrics import silhouette_score\n",
    "\n",
    "silhouette_avg = silhouette_score(embedding, topics)\n",
    "\n",
    "print(\"The silhouette score is:\", silhouette_avg)"
   ]
  },
  {
   "cell_type": "code",
   "execution_count": null,
   "metadata": {},
   "outputs": [
    {
     "data": {
      "text/html": [
       "<div>\n",
       "<style scoped>\n",
       "    .dataframe tbody tr th:only-of-type {\n",
       "        vertical-align: middle;\n",
       "    }\n",
       "\n",
       "    .dataframe tbody tr th {\n",
       "        vertical-align: top;\n",
       "    }\n",
       "\n",
       "    .dataframe thead th {\n",
       "        text-align: right;\n",
       "    }\n",
       "</style>\n",
       "<table border=\"1\" class=\"dataframe\">\n",
       "  <thead>\n",
       "    <tr style=\"text-align: right;\">\n",
       "      <th></th>\n",
       "      <th>Topic</th>\n",
       "      <th>Count</th>\n",
       "      <th>Name</th>\n",
       "      <th>Representation</th>\n",
       "      <th>Representative_Docs</th>\n",
       "    </tr>\n",
       "  </thead>\n",
       "  <tbody>\n",
       "    <tr>\n",
       "      <th>0</th>\n",
       "      <td>-1</td>\n",
       "      <td>440</td>\n",
       "      <td>-1_cloudflare_มาลาเรีย_ศูนย์อุบัติเหตุ</td>\n",
       "      <td>[cloudflare, มาลาเรีย, ศูนย์อุบัติเหตุ]</td>\n",
       "      <td>[email,cloudflare,cloudflare,email,website,pro...</td>\n",
       "    </tr>\n",
       "    <tr>\n",
       "      <th>1</th>\n",
       "      <td>0</td>\n",
       "      <td>58</td>\n",
       "      <td>0_นพปรัชญ์พิพัฒน์วัฒนา_พยาบาลพริ้นซ์สุวรรณภูมิ...</td>\n",
       "      <td>[นพปรัชญ์พิพัฒน์วัฒนา, พยาบาลพริ้นซ์สุวรรณภูมิ...</td>\n",
       "      <td>[ตา,ตา,ทำ,แพทย์,ตรวจ,อาการ,โรงพยาบาลพริ้นซ์สุว...</td>\n",
       "    </tr>\n",
       "    <tr>\n",
       "      <th>2</th>\n",
       "      <td>1</td>\n",
       "      <td>52</td>\n",
       "      <td>1_development_ภาษา_พญคคนางณ์จันทรภักดี</td>\n",
       "      <td>[development, ภาษา, พญคคนางณ์จันทรภักดี]</td>\n",
       "      <td>[แม่,เด็ก,ลูก,พ่อ,เด็ก,ลูก,แม่,พ่อ,นม,พญคคนางณ...</td>\n",
       "    </tr>\n",
       "    <tr>\n",
       "      <th>3</th>\n",
       "      <td>2</td>\n",
       "      <td>47</td>\n",
       "      <td>2_หัวใจ_โรงพยาบาลพิษณุเวช หัวใจ_electrocardiog...</td>\n",
       "      <td>[หัวใจ, โรงพยาบาลพิษณุเวช หัวใจ, electrocardio...</td>\n",
       "      <td>[หัวใจ,ตรวจ,คลื่น,หัวใจ,ตรวจ,คลื่น,ไฟฟ้า,ปกติ,...</td>\n",
       "    </tr>\n",
       "    <tr>\n",
       "      <th>4</th>\n",
       "      <td>3</td>\n",
       "      <td>47</td>\n",
       "      <td>3_เต้านม_คลำ_เอกซเรย์เต้านม</td>\n",
       "      <td>[เต้านม, คลำ, เอกซเรย์เต้านม]</td>\n",
       "      <td>[เต้านม,ลาน,นม,คลำ,เต้านม,นม,คลำ,ทำ,ตรวจ,ศูนย์...</td>\n",
       "    </tr>\n",
       "    <tr>\n",
       "      <th>...</th>\n",
       "      <td>...</td>\n",
       "      <td>...</td>\n",
       "      <td>...</td>\n",
       "      <td>...</td>\n",
       "      <td>...</td>\n",
       "    </tr>\n",
       "    <tr>\n",
       "      <th>200</th>\n",
       "      <td>199</td>\n",
       "      <td>10</td>\n",
       "      <td>199_photopheresis_กุหลาบ_บาดแผล</td>\n",
       "      <td>[photopheresis, กุหลาบ, บาดแผล]</td>\n",
       "      <td>[ปฐมพยาบาล,บาดแผล,แผล,บาดแผล,แพทย์,ข้อ,น้ำ,โรง...</td>\n",
       "    </tr>\n",
       "    <tr>\n",
       "      <th>201</th>\n",
       "      <td>200</td>\n",
       "      <td>10</td>\n",
       "      <td>200_ซึมเศร้า_ศูนย์จิตรักษ์_schizophrenia</td>\n",
       "      <td>[ซึมเศร้า, ศูนย์จิตรักษ์, schizophrenia]</td>\n",
       "      <td>[ซึมเศร้า,ซึมเศร้า,รักษา,ทำ,อารมณ์,ชีวิต,infob...</td>\n",
       "    </tr>\n",
       "    <tr>\n",
       "      <th>202</th>\n",
       "      <td>201</td>\n",
       "      <td>10</td>\n",
       "      <td>201_ลืม_เนื้องอกสมอง_ซ้ำแล้วซ้ำ</td>\n",
       "      <td>[ลืม, เนื้องอกสมอง, ซ้ำแล้วซ้ำ]</td>\n",
       "      <td>[สมอง,ลืม,ขี้,ทำ,สมอง,ลืม,อาการ,งา,เครื่องดื่ม...</td>\n",
       "    </tr>\n",
       "    <tr>\n",
       "      <th>203</th>\n",
       "      <td>202</td>\n",
       "      <td>10</td>\n",
       "      <td>202_เอื้อกานต์_มีบุตรยาก_isolation</td>\n",
       "      <td>[เอื้อกานต์, มีบุตรยาก, isolation]</td>\n",
       "      <td>[เด็ก,สถานการณ์,ปกครอง,เด็ก,ติด,เชื้อ,สถานการณ...</td>\n",
       "    </tr>\n",
       "    <tr>\n",
       "      <th>204</th>\n",
       "      <td>203</td>\n",
       "      <td>10</td>\n",
       "      <td>203_bhqeyebangkokhospitalcom_comprehensive_ต้อ...</td>\n",
       "      <td>[bhqeyebangkokhospitalcom, comprehensive, ต้อเ...</td>\n",
       "      <td>[สายตา,ตา,ตา,สายตา,วัย,เสื่อม,รักษา,bhqeyebang...</td>\n",
       "    </tr>\n",
       "  </tbody>\n",
       "</table>\n",
       "<p>205 rows × 5 columns</p>\n",
       "</div>"
      ],
      "text/plain": [
       "     Topic  Count                                               Name   \n",
       "0       -1    440             -1_cloudflare_มาลาเรีย_ศูนย์อุบัติเหตุ  \\\n",
       "1        0     58  0_นพปรัชญ์พิพัฒน์วัฒนา_พยาบาลพริ้นซ์สุวรรณภูมิ...   \n",
       "2        1     52             1_development_ภาษา_พญคคนางณ์จันทรภักดี   \n",
       "3        2     47  2_หัวใจ_โรงพยาบาลพิษณุเวช หัวใจ_electrocardiog...   \n",
       "4        3     47                        3_เต้านม_คลำ_เอกซเรย์เต้านม   \n",
       "..     ...    ...                                                ...   \n",
       "200    199     10                    199_photopheresis_กุหลาบ_บาดแผล   \n",
       "201    200     10           200_ซึมเศร้า_ศูนย์จิตรักษ์_schizophrenia   \n",
       "202    201     10                    201_ลืม_เนื้องอกสมอง_ซ้ำแล้วซ้ำ   \n",
       "203    202     10                 202_เอื้อกานต์_มีบุตรยาก_isolation   \n",
       "204    203     10  203_bhqeyebangkokhospitalcom_comprehensive_ต้อ...   \n",
       "\n",
       "                                        Representation   \n",
       "0              [cloudflare, มาลาเรีย, ศูนย์อุบัติเหตุ]  \\\n",
       "1    [นพปรัชญ์พิพัฒน์วัฒนา, พยาบาลพริ้นซ์สุวรรณภูมิ...   \n",
       "2             [development, ภาษา, พญคคนางณ์จันทรภักดี]   \n",
       "3    [หัวใจ, โรงพยาบาลพิษณุเวช หัวใจ, electrocardio...   \n",
       "4                        [เต้านม, คลำ, เอกซเรย์เต้านม]   \n",
       "..                                                 ...   \n",
       "200                    [photopheresis, กุหลาบ, บาดแผล]   \n",
       "201           [ซึมเศร้า, ศูนย์จิตรักษ์, schizophrenia]   \n",
       "202                    [ลืม, เนื้องอกสมอง, ซ้ำแล้วซ้ำ]   \n",
       "203                 [เอื้อกานต์, มีบุตรยาก, isolation]   \n",
       "204  [bhqeyebangkokhospitalcom, comprehensive, ต้อเ...   \n",
       "\n",
       "                                   Representative_Docs  \n",
       "0    [email,cloudflare,cloudflare,email,website,pro...  \n",
       "1    [ตา,ตา,ทำ,แพทย์,ตรวจ,อาการ,โรงพยาบาลพริ้นซ์สุว...  \n",
       "2    [แม่,เด็ก,ลูก,พ่อ,เด็ก,ลูก,แม่,พ่อ,นม,พญคคนางณ...  \n",
       "3    [หัวใจ,ตรวจ,คลื่น,หัวใจ,ตรวจ,คลื่น,ไฟฟ้า,ปกติ,...  \n",
       "4    [เต้านม,ลาน,นม,คลำ,เต้านม,นม,คลำ,ทำ,ตรวจ,ศูนย์...  \n",
       "..                                                 ...  \n",
       "200  [ปฐมพยาบาล,บาดแผล,แผล,บาดแผล,แพทย์,ข้อ,น้ำ,โรง...  \n",
       "201  [ซึมเศร้า,ซึมเศร้า,รักษา,ทำ,อารมณ์,ชีวิต,infob...  \n",
       "202  [สมอง,ลืม,ขี้,ทำ,สมอง,ลืม,อาการ,งา,เครื่องดื่ม...  \n",
       "203  [เด็ก,สถานการณ์,ปกครอง,เด็ก,ติด,เชื้อ,สถานการณ...  \n",
       "204  [สายตา,ตา,ตา,สายตา,วัย,เสื่อม,รักษา,bhqeyebang...  \n",
       "\n",
       "[205 rows x 5 columns]"
      ]
     },
     "execution_count": 51,
     "metadata": {},
     "output_type": "execute_result"
    }
   ],
   "source": [
    "best_topic_model.get_topic_info()"
   ]
  },
  {
   "cell_type": "code",
   "execution_count": null,
   "metadata": {},
   "outputs": [
    {
     "name": "stderr",
     "output_type": "stream",
     "text": [
      "100%|██████████| 203/203 [00:01<00:00, 145.73it/s]\n"
     ]
    },
    {
     "data": {
      "application/vnd.plotly.v1+json": {
       "config": {
        "plotlyServerURL": "https://plot.ly"
       },
       "data": [
        {
         "hoverinfo": "text",
         "marker": {
          "color": "rgb(61,153,112)"
         },
         "mode": "lines",
         "text": [
          "บอด_เครื่องดื่มแอลกอฮอล์ _fibroscan",
          "",
          "",
          "นพปรัชญ์พิพัฒน์วัฒนา_พยาบาลพริ้นซ์สุวรรณภูมิ_นพเกษมศักดิ์พยุงธนทรัพย์"
         ],
         "type": "scatter",
         "x": [
          0,
          0.8604191191140541,
          0.8604191191140541,
          0
         ],
         "xaxis": "x",
         "y": [
          -15,
          -15,
          -25,
          -25
         ],
         "yaxis": "y"
        },
        {
         "hoverinfo": "text",
         "marker": {
          "color": "rgb(61,153,112)"
         },
         "mode": "lines",
         "text": [
          "ลมแดด_ร้อน_heatstroke",
          "",
          "",
          "นพปรัชญ์พิพัฒน์วัฒนา_พยาบาลพริ้นซ์สุวรรณภูมิ_นพเกษมศักดิ์พยุงธนทรัพย์"
         ],
         "type": "scatter",
         "x": [
          0,
          0.9104078442605189,
          0.9104078442605189,
          0.8604191191140541
         ],
         "xaxis": "x",
         "y": [
          -5,
          -5,
          -20,
          -20
         ],
         "yaxis": "y"
        },
        {
         "hoverinfo": "text",
         "marker": {
          "color": "rgb(61,153,112)"
         },
         "mode": "lines",
         "text": [
          "ลมแดด_ร้อน_heatstroke",
          "",
          "",
          "photopheresis_กุหลาบ_บาดแผล"
         ],
         "type": "scatter",
         "x": [
          0.9104078442605189,
          0.9595830242505183,
          0.9595830242505183,
          0
         ],
         "xaxis": "x",
         "y": [
          -12.5,
          -12.5,
          -35,
          -35
         ],
         "yaxis": "y"
        },
        {
         "hoverinfo": "text",
         "marker": {
          "color": "rgb(61,153,112)"
         },
         "mode": "lines",
         "text": [
          "โรงพยาบาลพิษณุเวช _รายละเอียด_นพอธินันท์ชัญญาวงศ์ศักดิ์ดู",
          "",
          "",
          "ดู_พยาบาลพริ้นซ์สุวรรณภูมิ_โรงพยาบาลพิษณุเวช เล็บ"
         ],
         "type": "scatter",
         "x": [
          0,
          0.6334747681469783,
          0.6334747681469783,
          0
         ],
         "xaxis": "x",
         "y": [
          -55,
          -55,
          -65,
          -65
         ],
         "yaxis": "y"
        },
        {
         "hoverinfo": "text",
         "marker": {
          "color": "rgb(61,153,112)"
         },
         "mode": "lines",
         "text": [
          "บทความ_แพ็กเกจโปรโมชั่น_ราคา",
          "",
          "",
          "แพ็กเกจโปรโมชั่น _โรงพยาบาลพิษณุเวช_ดู"
         ],
         "type": "scatter",
         "x": [
          0.6334747681469783,
          0.7702706980704912,
          0.7702706980704912,
          0
         ],
         "xaxis": "x",
         "y": [
          -60,
          -60,
          -75,
          -75
         ],
         "yaxis": "y"
        },
        {
         "hoverinfo": "text",
         "marker": {
          "color": "rgb(61,153,112)"
         },
         "mode": "lines",
         "text": [
          "โรงพยาบาลพิษณุเวช เสื่อม_ข้อเข่า_แพ็กเกจโปรโมชั่น หัก",
          "",
          "",
          "แพ็กเกจโปรโมชั่น _โรงพยาบาลพิษณุเวช_ดู"
         ],
         "type": "scatter",
         "x": [
          0,
          0.8566376466270167,
          0.8566376466270167,
          0.7702706980704912
         ],
         "xaxis": "x",
         "y": [
          -45,
          -45,
          -67.5,
          -67.5
         ],
         "yaxis": "y"
        },
        {
         "hoverinfo": "text",
         "marker": {
          "color": "rgb(61,153,112)"
         },
         "mode": "lines",
         "text": [
          "โรงพยาบาลพิษณุเวช เสื่อม_ข้อเข่า_แพ็กเกจโปรโมชั่น หัก",
          "",
          "",
          "บริจาค_princsuvarnabhumipodcast_โรงพยาบาลพิษณุเวช ไต"
         ],
         "type": "scatter",
         "x": [
          0.8566376466270167,
          0.9051265099383271,
          0.9051265099383271,
          0
         ],
         "xaxis": "x",
         "y": [
          -56.25,
          -56.25,
          -85,
          -85
         ],
         "yaxis": "y"
        },
        {
         "hoverinfo": "text",
         "marker": {
          "color": "rgb(61,153,112)"
         },
         "mode": "lines",
         "text": [
          "โรงพยาบาลพิษณุเวช เสื่อม_ข้อเข่า_แพ็กเกจโปรโมชั่น หัก",
          "",
          "",
          "บริจาค_princsuvarnabhumipodcast_โรงพยาบาลพิษณุเวช ไต"
         ],
         "type": "scatter",
         "x": [
          0.9595830242505183,
          0.9786351101905079,
          0.9786351101905079,
          0.9051265099383271
         ],
         "xaxis": "x",
         "y": [
          -23.75,
          -23.75,
          -70.625,
          -70.625
         ],
         "yaxis": "y"
        },
        {
         "hoverinfo": "text",
         "marker": {
          "color": "rgb(255,65,54)"
         },
         "mode": "lines",
         "text": [
          "โรงพยาบาลพริ้นซ์ แพ็กเกจโปรโมชั่น_แพ็กเกจโปรโมชั่น แพ็กเกจโปรโมชั่น_ประเทศ",
          "",
          "",
          "โรงพยาบาลพิษณุเวช แพ็กเกจโปรโมชั่น_บริการ_comprehensive"
         ],
         "type": "scatter",
         "x": [
          0,
          0.6631387904015851,
          0.6631387904015851,
          0
         ],
         "xaxis": "x",
         "y": [
          -95,
          -95,
          -105,
          -105
         ],
         "yaxis": "y"
        },
        {
         "hoverinfo": "text",
         "marker": {
          "color": "rgb(255,65,54)"
         },
         "mode": "lines",
         "text": [
          "แพ็กเกจโปรโมชั่น_ราคา_ค้นหา",
          "",
          "",
          "โรงพยาบาลพริ้นซ์ แพทย์_โรงพยาบาลพิษณุเวช แพทย์_คุกคาม"
         ],
         "type": "scatter",
         "x": [
          0.6631387904015851,
          0.8166169735152073,
          0.8166169735152073,
          0
         ],
         "xaxis": "x",
         "y": [
          -100,
          -100,
          -115,
          -115
         ],
         "yaxis": "y"
        },
        {
         "hoverinfo": "text",
         "marker": {
          "color": "rgb(255,65,54)"
         },
         "mode": "lines",
         "text": [
          "แพ็กเกจโปรโมชั่น_ราคา_ค้นหา",
          "",
          "",
          "kcal_พยาบาลเปาโลโชคชัย เบาหวาน_ขนม"
         ],
         "type": "scatter",
         "x": [
          0.8166169735152073,
          0.9494237102326626,
          0.9494237102326626,
          0
         ],
         "xaxis": "x",
         "y": [
          -107.5,
          -107.5,
          -125,
          -125
         ],
         "yaxis": "y"
        },
        {
         "hoverinfo": "text",
         "marker": {
          "color": "rgb(0,116,217)"
         },
         "mode": "lines",
         "text": [
          "แพ็กเกจโปรโมชั่น_ราคา_ค้นหา",
          "",
          "",
          "kcal_พยาบาลเปาโลโชคชัย เบาหวาน_ขนม"
         ],
         "type": "scatter",
         "x": [
          0.9786351101905079,
          1.055624958015637,
          1.055624958015637,
          0.9494237102326626
         ],
         "xaxis": "x",
         "y": [
          -47.1875,
          -47.1875,
          -116.25,
          -116.25
         ],
         "yaxis": "y"
        },
        {
         "hoverinfo": "text",
         "marker": {
          "color": "rgb(35,205,205)"
         },
         "mode": "lines",
         "text": [
          "ไข่_iui_ตัน",
          "",
          "",
          "icsi_ซีสต์_embryoscope"
         ],
         "type": "scatter",
         "x": [
          0,
          0.7484494282900276,
          0.7484494282900276,
          0
         ],
         "xaxis": "x",
         "y": [
          -135,
          -135,
          -145,
          -145
         ],
         "yaxis": "y"
        },
        {
         "hoverinfo": "text",
         "marker": {
          "color": "rgb(35,205,205)"
         },
         "mode": "lines",
         "text": [
          "ไข่_iui_ตัน",
          "",
          "",
          "โรงพยาบาลกรุงเทพจันทร์เสาร์_bhqfertility_อสุจิ"
         ],
         "type": "scatter",
         "x": [
          0.7484494282900276,
          0.8073325696301062,
          0.8073325696301062,
          0
         ],
         "xaxis": "x",
         "y": [
          -140,
          -140,
          -155,
          -155
         ],
         "yaxis": "y"
        },
        {
         "hoverinfo": "text",
         "marker": {
          "color": "rgb(35,205,205)"
         },
         "mode": "lines",
         "text": [
          "ไข่_iui_ตัน",
          "",
          "",
          "พันธุกรรม_โครโมโซม_มีบุตรยาก"
         ],
         "type": "scatter",
         "x": [
          0.8073325696301062,
          0.8719874234650358,
          0.8719874234650358,
          0
         ],
         "xaxis": "x",
         "y": [
          -147.5,
          -147.5,
          -165,
          -165
         ],
         "yaxis": "y"
        },
        {
         "hoverinfo": "text",
         "marker": {
          "color": "rgb(133,20,75)"
         },
         "mode": "lines",
         "text": [
          "พยาบาลเปาโลโชคชัย แม่_นายแพทย์วิเชียรจิระบุญศรีศัลยแพทย์_นายแพทย์เพชรวัชรสินธุ์",
          "",
          "",
          "พยาบาลเปาโลโชคชัย แม่_แม่_โรงพยาบาลเปาโลเกษตร แม่"
         ],
         "type": "scatter",
         "x": [
          0,
          0.6317343487559813,
          0.6317343487559813,
          0
         ],
         "xaxis": "x",
         "y": [
          -175,
          -175,
          -185,
          -185
         ],
         "yaxis": "y"
        },
        {
         "hoverinfo": "text",
         "marker": {
          "color": "rgb(133,20,75)"
         },
         "mode": "lines",
         "text": [
          "ครรภ์_highlights_นพสุรเชษฐ์อภินิล",
          "",
          "",
          "รศดรนพบุญศรีจันทร์รัชชกูล_ครรภ์_กำเนิด"
         ],
         "type": "scatter",
         "x": [
          0,
          0.8002381875217666,
          0.8002381875217666,
          0
         ],
         "xaxis": "x",
         "y": [
          -195,
          -195,
          -205,
          -205
         ],
         "yaxis": "y"
        },
        {
         "hoverinfo": "text",
         "marker": {
          "color": "rgb(133,20,75)"
         },
         "mode": "lines",
         "text": [
          "ครรภ์_highlights_นพสุรเชษฐ์อภินิล",
          "",
          "",
          "receptivity_แท้ง_ครรภ์"
         ],
         "type": "scatter",
         "x": [
          0.8002381875217666,
          0.8630266481181592,
          0.8630266481181592,
          0
         ],
         "xaxis": "x",
         "y": [
          -200,
          -200,
          -215,
          -215
         ],
         "yaxis": "y"
        },
        {
         "hoverinfo": "text",
         "marker": {
          "color": "rgb(133,20,75)"
         },
         "mode": "lines",
         "text": [
          "ห้อง_แม่_บทความ",
          "",
          "",
          "receptivity_แท้ง_ครรภ์"
         ],
         "type": "scatter",
         "x": [
          0.6317343487559813,
          0.9813314828667388,
          0.9813314828667388,
          0.8630266481181592
         ],
         "xaxis": "x",
         "y": [
          -180,
          -180,
          -207.5,
          -207.5
         ],
         "yaxis": "y"
        },
        {
         "hoverinfo": "text",
         "marker": {
          "color": "rgb(255,220,0)"
         },
         "mode": "lines",
         "text": [
          "ทารก_ศูนย์สุขภาพ แม่_พยาบาลกรุงเทพแชร์",
          "",
          "",
          "ศูนย์สุขภาพ_บทบาท_สิ้นสุด"
         ],
         "type": "scatter",
         "x": [
          0,
          0.7856277868495477,
          0.7856277868495477,
          0
         ],
         "xaxis": "x",
         "y": [
          -235,
          -235,
          -245,
          -245
         ],
         "yaxis": "y"
        },
        {
         "hoverinfo": "text",
         "marker": {
          "color": "rgb(255,220,0)"
         },
         "mode": "lines",
         "text": [
          "นมแม่_นม_breastfeeding",
          "",
          "",
          "ศูนย์สุขภาพ_บทบาท_สิ้นสุด"
         ],
         "type": "scatter",
         "x": [
          0,
          0.9250955972812634,
          0.9250955972812634,
          0.7856277868495477
         ],
         "xaxis": "x",
         "y": [
          -225,
          -225,
          -240,
          -240
         ],
         "yaxis": "y"
        },
        {
         "hoverinfo": "text",
         "marker": {
          "color": "rgb(0,116,217)"
         },
         "mode": "lines",
         "text": [
          "นมแม่_นม_breastfeeding",
          "",
          "",
          "ศูนย์สุขภาพ_บทบาท_สิ้นสุด"
         ],
         "type": "scatter",
         "x": [
          0.9813314828667388,
          1.0176407844420046,
          1.0176407844420046,
          0.9250955972812634
         ],
         "xaxis": "x",
         "y": [
          -193.75,
          -193.75,
          -232.5,
          -232.5
         ],
         "yaxis": "y"
        },
        {
         "hoverinfo": "text",
         "marker": {
          "color": "rgb(0,116,217)"
         },
         "mode": "lines",
         "text": [
          "นมแม่_นม_breastfeeding",
          "",
          "",
          "ศูนย์สุขภาพ_บทบาท_สิ้นสุด"
         ],
         "type": "scatter",
         "x": [
          0.8719874234650358,
          1.3700154483888338,
          1.3700154483888338,
          1.0176407844420046
         ],
         "xaxis": "x",
         "y": [
          -156.25,
          -156.25,
          -213.125,
          -213.125
         ],
         "yaxis": "y"
        },
        {
         "hoverinfo": "text",
         "marker": {
          "color": "rgb(40,35,35)"
         },
         "mode": "lines",
         "text": [
          "ปัสสาวะ_ไต_เล็ด",
          "",
          "",
          "incontinence_ปัสสาวะ_อุดตัน"
         ],
         "type": "scatter",
         "x": [
          0,
          0.8569116410890764,
          0.8569116410890764,
          0
         ],
         "xaxis": "x",
         "y": [
          -265,
          -265,
          -275,
          -275
         ],
         "yaxis": "y"
        },
        {
         "hoverinfo": "text",
         "marker": {
          "color": "rgb(40,35,35)"
         },
         "mode": "lines",
         "text": [
          "kidney_blood_nephritisfsgs",
          "",
          "",
          "incontinence_ปัสสาวะ_อุดตัน"
         ],
         "type": "scatter",
         "x": [
          0,
          0.9712471363333125,
          0.9712471363333125,
          0.8569116410890764
         ],
         "xaxis": "x",
         "y": [
          -255,
          -255,
          -270,
          -270
         ],
         "yaxis": "y"
        },
        {
         "hoverinfo": "text",
         "marker": {
          "color": "rgb(61,153,112)"
         },
         "mode": "lines",
         "text": [
          "helicobacter_กระเพาะ_gastrointestinal",
          "",
          "",
          "กรด_ย้อน_ตั้งอรุณสันติ"
         ],
         "type": "scatter",
         "x": [
          0,
          0.8945930844536324,
          0.8945930844536324,
          0
         ],
         "xaxis": "x",
         "y": [
          -285,
          -285,
          -295,
          -295
         ],
         "yaxis": "y"
        },
        {
         "hoverinfo": "text",
         "marker": {
          "color": "rgb(255,65,54)"
         },
         "mode": "lines",
         "text": [
          "พอร์ตเคมีบำบัด_ขอด_ฟอก",
          "",
          "",
          "extraperitoneal_เลื่อน_ชิ้นเนื้อต่อมลูก"
         ],
         "type": "scatter",
         "x": [
          0,
          0.858709413648263,
          0.858709413648263,
          0
         ],
         "xaxis": "x",
         "y": [
          -305,
          -305,
          -315,
          -315
         ],
         "yaxis": "y"
        },
        {
         "hoverinfo": "text",
         "marker": {
          "color": "rgb(255,65,54)"
         },
         "mode": "lines",
         "text": [
          "พอร์ตเคมีบำบัด_ขอด_ฟอก",
          "",
          "",
          "ท้อง_แน่นหน้าอก_bhqsurgery"
         ],
         "type": "scatter",
         "x": [
          0.858709413648263,
          0.9331037712967639,
          0.9331037712967639,
          0
         ],
         "xaxis": "x",
         "y": [
          -310,
          -310,
          -325,
          -325
         ],
         "yaxis": "y"
        },
        {
         "hoverinfo": "text",
         "marker": {
          "color": "rgb(0,116,217)"
         },
         "mode": "lines",
         "text": [
          "พอร์ตเคมีบำบัด_ขอด_ฟอก",
          "",
          "",
          "ท้อง_แน่นหน้าอก_bhqsurgery"
         ],
         "type": "scatter",
         "x": [
          0.8945930844536324,
          1.0151488713154102,
          1.0151488713154102,
          0.9331037712967639
         ],
         "xaxis": "x",
         "y": [
          -290,
          -290,
          -317.5,
          -317.5
         ],
         "yaxis": "y"
        },
        {
         "hoverinfo": "text",
         "marker": {
          "color": "rgb(0,116,217)"
         },
         "mode": "lines",
         "text": [
          "พอร์ตเคมีบำบัด_ขอด_ฟอก",
          "",
          "",
          "ท้อง_แน่นหน้าอก_bhqsurgery"
         ],
         "type": "scatter",
         "x": [
          0.9712471363333125,
          1.0488081758412806,
          1.0488081758412806,
          1.0151488713154102
         ],
         "xaxis": "x",
         "y": [
          -262.5,
          -262.5,
          -303.75,
          -303.75
         ],
         "yaxis": "y"
        },
        {
         "hoverinfo": "text",
         "marker": {
          "color": "rgb(35,205,205)"
         },
         "mode": "lines",
         "text": [
          "httpswwwbangkokhospitalcom_พยาบาลข่าวสาร_อ้อมกอด",
          "",
          "",
          "httpswwwbangkokhospitalcom_ข้อมูล_พยาบาลข่าวสาร"
         ],
         "type": "scatter",
         "x": [
          0,
          0.7472547422020812,
          0.7472547422020812,
          0
         ],
         "xaxis": "x",
         "y": [
          -335,
          -335,
          -345,
          -345
         ],
         "yaxis": "y"
        },
        {
         "hoverinfo": "text",
         "marker": {
          "color": "rgb(0,116,217)"
         },
         "mode": "lines",
         "text": [
          "httpswwwbangkokhospitalcom_พยาบาลข่าวสาร_อ้อมกอด",
          "",
          "",
          "httpswwwbangkokhospitalcom_ข้อมูล_พยาบาลข่าวสาร"
         ],
         "type": "scatter",
         "x": [
          1.0488081758412806,
          1.1602172439616543,
          1.1602172439616543,
          0.7472547422020812
         ],
         "xaxis": "x",
         "y": [
          -283.125,
          -283.125,
          -340,
          -340
         ],
         "yaxis": "y"
        },
        {
         "hoverinfo": "text",
         "marker": {
          "color": "rgb(61,153,112)"
         },
         "mode": "lines",
         "text": [
          "กล้อง_คุณสุภาพสตรี_ช็อคโกแลตซีสต์",
          "",
          "",
          "tavi_พยาบาลเปาโลโชคชัย ส่อง_พยาบาลเปาโลโชคชัย ไทรอยด์"
         ],
         "type": "scatter",
         "x": [
          0,
          0.8270988010873632,
          0.8270988010873632,
          0
         ],
         "xaxis": "x",
         "y": [
          -365,
          -365,
          -375,
          -375
         ],
         "yaxis": "y"
        },
        {
         "hoverinfo": "text",
         "marker": {
          "color": "rgb(61,153,112)"
         },
         "mode": "lines",
         "text": [
          "หมอภัคพงศ์วัฒนโอฬาร_หมอสันติพงศ์ภัณฑารักษ์_นายแพทย์สันติพงศ์ภัณฑารักษ์",
          "",
          "",
          "tavi_พยาบาลเปาโลโชคชัย ส่อง_พยาบาลเปาโลโชคชัย ไทรอยด์"
         ],
         "type": "scatter",
         "x": [
          0,
          0.9096205716356585,
          0.9096205716356585,
          0.8270988010873632
         ],
         "xaxis": "x",
         "y": [
          -355,
          -355,
          -370,
          -370
         ],
         "yaxis": "y"
        },
        {
         "hoverinfo": "text",
         "marker": {
          "color": "rgb(255,65,54)"
         },
         "mode": "lines",
         "text": [
          "ไทรอยด์_ต่อม_ฮอร์โมน",
          "",
          "",
          "ไทรอยด์_thyroiditis_fistula"
         ],
         "type": "scatter",
         "x": [
          0,
          0.8504769745286751,
          0.8504769745286751,
          0
         ],
         "xaxis": "x",
         "y": [
          -395,
          -395,
          -405,
          -405
         ],
         "yaxis": "y"
        },
        {
         "hoverinfo": "text",
         "marker": {
          "color": "rgb(255,65,54)"
         },
         "mode": "lines",
         "text": [
          "vitamin_บรรจุ_ไทรอยด์",
          "",
          "",
          "ไทรอยด์_thyroiditis_fistula"
         ],
         "type": "scatter",
         "x": [
          0,
          0.9114350707314817,
          0.9114350707314817,
          0.8504769745286751
         ],
         "xaxis": "x",
         "y": [
          -385,
          -385,
          -400,
          -400
         ],
         "yaxis": "y"
        },
        {
         "hoverinfo": "text",
         "marker": {
          "color": "rgb(0,116,217)"
         },
         "mode": "lines",
         "text": [
          "vitamin_บรรจุ_ไทรอยด์",
          "",
          "",
          "ไทรอยด์_thyroiditis_fistula"
         ],
         "type": "scatter",
         "x": [
          0.9096205716356585,
          1.1105715744644642,
          1.1105715744644642,
          0.9114350707314817
         ],
         "xaxis": "x",
         "y": [
          -362.5,
          -362.5,
          -392.5,
          -392.5
         ],
         "yaxis": "y"
        },
        {
         "hoverinfo": "text",
         "marker": {
          "color": "rgb(35,205,205)"
         },
         "mode": "lines",
         "text": [
          "hydrotherapy_ล้าง_ห้องน้ำ",
          "",
          "",
          "โรงพยาบาลเปาโลเกษตร นิ่ว_ถุงน้ำ_พยาบาลเปาโลโชคชัย นิ่ว"
         ],
         "type": "scatter",
         "x": [
          0,
          0.9296455493092076,
          0.9296455493092076,
          0
         ],
         "xaxis": "x",
         "y": [
          -415,
          -415,
          -425,
          -425
         ],
         "yaxis": "y"
        },
        {
         "hoverinfo": "text",
         "marker": {
          "color": "rgb(35,205,205)"
         },
         "mode": "lines",
         "text": [
          "pylori_เจ_เทศกาล",
          "",
          "",
          "ฉุกเฉิน_ems_โรงพยาบาลเปาโลเกษตร ไส้"
         ],
         "type": "scatter",
         "x": [
          0,
          0.8930203719046235,
          0.8930203719046235,
          0
         ],
         "xaxis": "x",
         "y": [
          -435,
          -435,
          -445,
          -445
         ],
         "yaxis": "y"
        },
        {
         "hoverinfo": "text",
         "marker": {
          "color": "rgb(35,205,205)"
         },
         "mode": "lines",
         "text": [
          "pylori_เจ_เทศกาล",
          "",
          "",
          "ฉุกเฉิน_ems_โรงพยาบาลเปาโลเกษตร ไส้"
         ],
         "type": "scatter",
         "x": [
          0.9296455493092076,
          0.9940367528469821,
          0.9940367528469821,
          0.8930203719046235
         ],
         "xaxis": "x",
         "y": [
          -420,
          -420,
          -440,
          -440
         ],
         "yaxis": "y"
        },
        {
         "hoverinfo": "text",
         "marker": {
          "color": "rgb(133,20,75)"
         },
         "mode": "lines",
         "text": [
          "พยาบาลเปาโลโชคชัย สุขภาพ_โรงพยาบาลเปาโลเกษตร ตรวจ_โรงพยาบาลเปาโลเกษตร สุขภาพ",
          "",
          "",
          "โรงพยาบาลเปาโลเกษตร ผู้สูงอายุ_สมดุล_กิจกรรม"
         ],
         "type": "scatter",
         "x": [
          0,
          0.8749668948394405,
          0.8749668948394405,
          0
         ],
         "xaxis": "x",
         "y": [
          -455,
          -455,
          -465,
          -465
         ],
         "yaxis": "y"
        },
        {
         "hoverinfo": "text",
         "marker": {
          "color": "rgb(0,116,217)"
         },
         "mode": "lines",
         "text": [
          "พยาบาลเปาโลโชคชัย สุขภาพ_โรงพยาบาลเปาโลเกษตร ตรวจ_โรงพยาบาลเปาโลเกษตร สุขภาพ",
          "",
          "",
          "โรงพยาบาลเปาโลเกษตร ผู้สูงอายุ_สมดุล_กิจกรรม"
         ],
         "type": "scatter",
         "x": [
          0.9940367528469821,
          1.0404815545483224,
          1.0404815545483224,
          0.8749668948394405
         ],
         "xaxis": "x",
         "y": [
          -430,
          -430,
          -460,
          -460
         ],
         "yaxis": "y"
        },
        {
         "hoverinfo": "text",
         "marker": {
          "color": "rgb(255,220,0)"
         },
         "mode": "lines",
         "text": [
          "eq_design_ละออง",
          "",
          "",
          "อุ้ง_กราน_ละออง"
         ],
         "type": "scatter",
         "x": [
          0,
          0.8802914417720693,
          0.8802914417720693,
          0
         ],
         "xaxis": "x",
         "y": [
          -475,
          -475,
          -485,
          -485
         ],
         "yaxis": "y"
        },
        {
         "hoverinfo": "text",
         "marker": {
          "color": "rgb(255,220,0)"
         },
         "mode": "lines",
         "text": [
          "eq_design_ละออง",
          "",
          "",
          "circumcision_ขลิบ_ยาง"
         ],
         "type": "scatter",
         "x": [
          0.8802914417720693,
          0.9642580523400063,
          0.9642580523400063,
          0
         ],
         "xaxis": "x",
         "y": [
          -480,
          -480,
          -495,
          -495
         ],
         "yaxis": "y"
        },
        {
         "hoverinfo": "text",
         "marker": {
          "color": "rgb(0,116,217)"
         },
         "mode": "lines",
         "text": [
          "eq_design_ละออง",
          "",
          "",
          "circumcision_ขลิบ_ยาง"
         ],
         "type": "scatter",
         "x": [
          1.0404815545483224,
          1.0698141975620086,
          1.0698141975620086,
          0.9642580523400063
         ],
         "xaxis": "x",
         "y": [
          -445,
          -445,
          -487.5,
          -487.5
         ],
         "yaxis": "y"
        },
        {
         "hoverinfo": "text",
         "marker": {
          "color": "rgb(40,35,35)"
         },
         "mode": "lines",
         "text": [
          "ฮอร์โมน_สมรรถภาพ_เพศ",
          "",
          "",
          "ฮอร์โมน_โปรเจสเตอโรน_testosterone"
         ],
         "type": "scatter",
         "x": [
          0,
          0.8285308399169375,
          0.8285308399169375,
          0
         ],
         "xaxis": "x",
         "y": [
          -505,
          -505,
          -515,
          -515
         ],
         "yaxis": "y"
        },
        {
         "hoverinfo": "text",
         "marker": {
          "color": "rgb(40,35,35)"
         },
         "mode": "lines",
         "text": [
          "ฮอร์โมน_สมรรถภาพ_เพศ",
          "",
          "",
          "คุมกำเนิด_เซ็กส์_ช่อง"
         ],
         "type": "scatter",
         "x": [
          0.8285308399169375,
          0.9284987997817784,
          0.9284987997817784,
          0
         ],
         "xaxis": "x",
         "y": [
          -510,
          -510,
          -525,
          -525
         ],
         "yaxis": "y"
        },
        {
         "hoverinfo": "text",
         "marker": {
          "color": "rgb(0,116,217)"
         },
         "mode": "lines",
         "text": [
          "ฮอร์โมน_สมรรถภาพ_เพศ",
          "",
          "",
          "คุมกำเนิด_เซ็กส์_ช่อง"
         ],
         "type": "scatter",
         "x": [
          1.0698141975620086,
          1.1377803648285507,
          1.1377803648285507,
          0.9284987997817784
         ],
         "xaxis": "x",
         "y": [
          -466.25,
          -466.25,
          -517.5,
          -517.5
         ],
         "yaxis": "y"
        },
        {
         "hoverinfo": "text",
         "marker": {
          "color": "rgb(0,116,217)"
         },
         "mode": "lines",
         "text": [
          "ฮอร์โมน_สมรรถภาพ_เพศ",
          "",
          "",
          "คุมกำเนิด_เซ็กส์_ช่อง"
         ],
         "type": "scatter",
         "x": [
          1.1105715744644642,
          1.165379408403658,
          1.165379408403658,
          1.1377803648285507
         ],
         "xaxis": "x",
         "y": [
          -377.5,
          -377.5,
          -491.875,
          -491.875
         ],
         "yaxis": "y"
        },
        {
         "hoverinfo": "text",
         "marker": {
          "color": "rgb(0,116,217)"
         },
         "mode": "lines",
         "text": [
          "ฮอร์โมน_สมรรถภาพ_เพศ",
          "",
          "",
          "คุมกำเนิด_เซ็กส์_ช่อง"
         ],
         "type": "scatter",
         "x": [
          1.1602172439616543,
          1.1987820076522027,
          1.1987820076522027,
          1.165379408403658
         ],
         "xaxis": "x",
         "y": [
          -311.5625,
          -311.5625,
          -434.6875,
          -434.6875
         ],
         "yaxis": "y"
        },
        {
         "hoverinfo": "text",
         "marker": {
          "color": "rgb(61,153,112)"
         },
         "mode": "lines",
         "text": [
          "ประจำเดือน_มด_บุ",
          "",
          "",
          "minilaparotomy_บุ_มดลูก"
         ],
         "type": "scatter",
         "x": [
          0,
          0.7823455881807491,
          0.7823455881807491,
          0
         ],
         "xaxis": "x",
         "y": [
          -545,
          -545,
          -555,
          -555
         ],
         "yaxis": "y"
        },
        {
         "hoverinfo": "text",
         "marker": {
          "color": "rgb(61,153,112)"
         },
         "mode": "lines",
         "text": [
          "laparoscopic_งอก_cholecystectomy",
          "",
          "",
          "minilaparotomy_บุ_มดลูก"
         ],
         "type": "scatter",
         "x": [
          0,
          0.8614589055022935,
          0.8614589055022935,
          0.7823455881807491
         ],
         "xaxis": "x",
         "y": [
          -535,
          -535,
          -550,
          -550
         ],
         "yaxis": "y"
        },
        {
         "hoverinfo": "text",
         "marker": {
          "color": "rgb(61,153,112)"
         },
         "mode": "lines",
         "text": [
          "laparoscopic_งอก_cholecystectomy",
          "",
          "",
          "งอก_fibroscan_เจาะเนื้อตับ"
         ],
         "type": "scatter",
         "x": [
          0.8614589055022935,
          0.906073739337895,
          0.906073739337895,
          0
         ],
         "xaxis": "x",
         "y": [
          -542.5,
          -542.5,
          -565,
          -565
         ],
         "yaxis": "y"
        },
        {
         "hoverinfo": "text",
         "marker": {
          "color": "rgb(255,65,54)"
         },
         "mode": "lines",
         "text": [
          "ต่อม_เป็นมะเร็ง_มะเร็ง",
          "",
          "",
          "ป้องกันมะเร็ง_รับประทาน ไส้_นพอมรนิวิษฐ์"
         ],
         "type": "scatter",
         "x": [
          0,
          0.8305518640160077,
          0.8305518640160077,
          0
         ],
         "xaxis": "x",
         "y": [
          -575,
          -575,
          -585,
          -585
         ],
         "yaxis": "y"
        },
        {
         "hoverinfo": "text",
         "marker": {
          "color": "rgb(35,205,205)"
         },
         "mode": "lines",
         "text": [
          "gastroduodenoscopy มะเร็ง_httpsshoplinemepsuvproduct_ธนิตเจนพิทักษ์พงศ์",
          "",
          "",
          "พยาบาลเปาโลโชคชัย มะเร็ง_ประกัน_เครื่องดื่มแอลกอฮอล์ มะเร็ง"
         ],
         "type": "scatter",
         "x": [
          0,
          0.898779078901902,
          0.898779078901902,
          0
         ],
         "xaxis": "x",
         "y": [
          -595,
          -595,
          -605,
          -605
         ],
         "yaxis": "y"
        },
        {
         "hoverinfo": "text",
         "marker": {
          "color": "rgb(35,205,205)"
         },
         "mode": "lines",
         "text": [
          "ปอด_กลีบ_pneumonectomy",
          "",
          "",
          "ปอด_colonoscopy_กางเกง"
         ],
         "type": "scatter",
         "x": [
          0,
          0.8634296711969538,
          0.8634296711969538,
          0
         ],
         "xaxis": "x",
         "y": [
          -615,
          -615,
          -625,
          -625
         ],
         "yaxis": "y"
        },
        {
         "hoverinfo": "text",
         "marker": {
          "color": "rgb(35,205,205)"
         },
         "mode": "lines",
         "text": [
          "ปอด_กลีบ_pneumonectomy",
          "",
          "",
          "ปอด_colonoscopy_กางเกง"
         ],
         "type": "scatter",
         "x": [
          0.898779078901902,
          0.9660096746779231,
          0.9660096746779231,
          0.8634296711969538
         ],
         "xaxis": "x",
         "y": [
          -600,
          -600,
          -620,
          -620
         ],
         "yaxis": "y"
        },
        {
         "hoverinfo": "text",
         "marker": {
          "color": "rgb(0,116,217)"
         },
         "mode": "lines",
         "text": [
          "ปอด_กลีบ_pneumonectomy",
          "",
          "",
          "ปอด_colonoscopy_กางเกง"
         ],
         "type": "scatter",
         "x": [
          0.8305518640160077,
          1.0042340491051385,
          1.0042340491051385,
          0.9660096746779231
         ],
         "xaxis": "x",
         "y": [
          -580,
          -580,
          -610,
          -610
         ],
         "yaxis": "y"
        },
        {
         "hoverinfo": "text",
         "marker": {
          "color": "rgb(61,153,112)"
         },
         "mode": "lines",
         "text": [
          "ประจำเดือน_ปากมดลูก_ช่อง",
          "",
          "",
          "hpv_ปากมดลูก_brca"
         ],
         "type": "scatter",
         "x": [
          0,
          0.8049320285257501,
          0.8049320285257501,
          0
         ],
         "xaxis": "x",
         "y": [
          -635,
          -635,
          -645,
          -645
         ],
         "yaxis": "y"
        },
        {
         "hoverinfo": "text",
         "marker": {
          "color": "rgb(255,65,54)"
         },
         "mode": "lines",
         "text": [
          "เต้านม_โรงพยาบาลเปาโลเกษตร เต้านม_พยาบาลเปาโลโชคชัย เต้านม",
          "",
          "",
          "เต้านม_คลำ_เอกซเรย์เต้านม"
         ],
         "type": "scatter",
         "x": [
          0,
          0.703729937146575,
          0.703729937146575,
          0
         ],
         "xaxis": "x",
         "y": [
          -655,
          -655,
          -665,
          -665
         ],
         "yaxis": "y"
        },
        {
         "hoverinfo": "text",
         "marker": {
          "color": "rgb(0,116,217)"
         },
         "mode": "lines",
         "text": [
          "เต้านม_โรงพยาบาลเปาโลเกษตร เต้านม_พยาบาลเปาโลโชคชัย เต้านม",
          "",
          "",
          "เต้านม_คลำ_เอกซเรย์เต้านม"
         ],
         "type": "scatter",
         "x": [
          0.8049320285257501,
          1.033417180891032,
          1.033417180891032,
          0.703729937146575
         ],
         "xaxis": "x",
         "y": [
          -640,
          -640,
          -660,
          -660
         ],
         "yaxis": "y"
        },
        {
         "hoverinfo": "text",
         "marker": {
          "color": "rgb(0,116,217)"
         },
         "mode": "lines",
         "text": [
          "เต้านม_โรงพยาบาลเปาโลเกษตร เต้านม_พยาบาลเปาโลโชคชัย เต้านม",
          "",
          "",
          "เต้านม_คลำ_เอกซเรย์เต้านม"
         ],
         "type": "scatter",
         "x": [
          1.0042340491051385,
          1.1240558213460639,
          1.1240558213460639,
          1.033417180891032
         ],
         "xaxis": "x",
         "y": [
          -595,
          -595,
          -650,
          -650
         ],
         "yaxis": "y"
        },
        {
         "hoverinfo": "text",
         "marker": {
          "color": "rgb(0,116,217)"
         },
         "mode": "lines",
         "text": [
          "เต้านม_โรงพยาบาลเปาโลเกษตร เต้านม_พยาบาลเปาโลโชคชัย เต้านม",
          "",
          "",
          "เต้านม_คลำ_เอกซเรย์เต้านม"
         ],
         "type": "scatter",
         "x": [
          0.906073739337895,
          1.2348775237438736,
          1.2348775237438736,
          1.1240558213460639
         ],
         "xaxis": "x",
         "y": [
          -553.75,
          -553.75,
          -622.5,
          -622.5
         ],
         "yaxis": "y"
        },
        {
         "hoverinfo": "text",
         "marker": {
          "color": "rgb(0,116,217)"
         },
         "mode": "lines",
         "text": [
          "เต้านม_โรงพยาบาลเปาโลเกษตร เต้านม_พยาบาลเปาโลโชคชัย เต้านม",
          "",
          "",
          "เต้านม_คลำ_เอกซเรย์เต้านม"
         ],
         "type": "scatter",
         "x": [
          1.1987820076522027,
          1.3029594387760304,
          1.3029594387760304,
          1.2348775237438736
         ],
         "xaxis": "x",
         "y": [
          -373.125,
          -373.125,
          -588.125,
          -588.125
         ],
         "yaxis": "y"
        },
        {
         "hoverinfo": "text",
         "marker": {
          "color": "rgb(35,205,205)"
         },
         "mode": "lines",
         "text": [
          "ฟัน_ทันตแพทย์_ศูนย์ทันตกรรม",
          "",
          "",
          "bhqdentalbangkokhospitalcom_ฟัน_ศูนย์ทันตกรรม"
         ],
         "type": "scatter",
         "x": [
          0,
          0.6489591611040704,
          0.6489591611040704,
          0
         ],
         "xaxis": "x",
         "y": [
          -685,
          -685,
          -695,
          -695
         ],
         "yaxis": "y"
        },
        {
         "hoverinfo": "text",
         "marker": {
          "color": "rgb(35,205,205)"
         },
         "mode": "lines",
         "text": [
          "ฟัน_ประกัน_ปรารถนาเฉิดสุวรรณรักษ์",
          "",
          "",
          "ฟัน_มั่นใจ_ทันตแพทย์"
         ],
         "type": "scatter",
         "x": [
          0,
          0.7847942147175394,
          0.7847942147175394,
          0.6489591611040704
         ],
         "xaxis": "x",
         "y": [
          -675,
          -675,
          -690,
          -690
         ],
         "yaxis": "y"
        },
        {
         "hoverinfo": "text",
         "marker": {
          "color": "rgb(133,20,75)"
         },
         "mode": "lines",
         "text": [
          "development_ภาษา_พญคคนางณ์จันทรภักดี",
          "",
          "",
          "สมาธิ_ฉลาด_เรียน"
         ],
         "type": "scatter",
         "x": [
          0,
          0.8187482632811491,
          0.8187482632811491,
          0
         ],
         "xaxis": "x",
         "y": [
          -705,
          -705,
          -715,
          -715
         ],
         "yaxis": "y"
        },
        {
         "hoverinfo": "text",
         "marker": {
          "color": "rgb(255,220,0)"
         },
         "mode": "lines",
         "text": [
          "พยาบาลเปาโลโชคชัย เด็ก_มือเท้าปาก_พี่เลี้ยง",
          "",
          "",
          "ย้าย_โรงพยาบาลเปาโลเกษตร เด็ก_พยาบาลเปาโลโชคชัย เด็ก"
         ],
         "type": "scatter",
         "x": [
          0,
          0.7650568151224837,
          0.7650568151224837,
          0
         ],
         "xaxis": "x",
         "y": [
          -725,
          -725,
          -735,
          -735
         ],
         "yaxis": "y"
        },
        {
         "hoverinfo": "text",
         "marker": {
          "color": "rgb(255,220,0)"
         },
         "mode": "lines",
         "text": [
          "พัฒนาการ_ศูนย์กุมารเวช_invisalign",
          "",
          "",
          "bmcpedbghcoth_ศูนย์กุมารเวช_พยาบาลเปาโลโชคชัย ไข้"
         ],
         "type": "scatter",
         "x": [
          0,
          0.8216495817833264,
          0.8216495817833264,
          0
         ],
         "xaxis": "x",
         "y": [
          -745,
          -745,
          -755,
          -755
         ],
         "yaxis": "y"
        },
        {
         "hoverinfo": "text",
         "marker": {
          "color": "rgb(255,220,0)"
         },
         "mode": "lines",
         "text": [
          "พัฒนาการ_ศูนย์กุมารเวช_invisalign",
          "",
          "",
          "bmcpedbghcoth_ศูนย์กุมารเวช_พยาบาลเปาโลโชคชัย ไข้"
         ],
         "type": "scatter",
         "x": [
          0.7650568151224837,
          0.9721089480609986,
          0.9721089480609986,
          0.8216495817833264
         ],
         "xaxis": "x",
         "y": [
          -730,
          -730,
          -750,
          -750
         ],
         "yaxis": "y"
        },
        {
         "hoverinfo": "text",
         "marker": {
          "color": "rgb(0,116,217)"
         },
         "mode": "lines",
         "text": [
          "พัฒนาการ_ศูนย์กุมารเวช_invisalign",
          "",
          "",
          "bmcpedbghcoth_ศูนย์กุมารเวช_พยาบาลเปาโลโชคชัย ไข้"
         ],
         "type": "scatter",
         "x": [
          0.8187482632811491,
          1.0054812980668513,
          1.0054812980668513,
          0.9721089480609986
         ],
         "xaxis": "x",
         "y": [
          -710,
          -710,
          -740,
          -740
         ],
         "yaxis": "y"
        },
        {
         "hoverinfo": "text",
         "marker": {
          "color": "rgb(40,35,35)"
         },
         "mode": "lines",
         "text": [
          "ไวรัส_โรงพยาบาลเปาโลเกษตร ไวรัส_มาร์บวร์ก",
          "",
          "",
          "บี_ซี_ไวรัส"
         ],
         "type": "scatter",
         "x": [
          0,
          0.701490351860915,
          0.701490351860915,
          0
         ],
         "xaxis": "x",
         "y": [
          -775,
          -775,
          -785,
          -785
         ],
         "yaxis": "y"
        },
        {
         "hoverinfo": "text",
         "marker": {
          "color": "rgb(40,35,35)"
         },
         "mode": "lines",
         "text": [
          "โรต้า_rsv_พยาบาลเปาโลโชคชัย ไวรัส",
          "",
          "",
          "บี_ซี_ไวรัส"
         ],
         "type": "scatter",
         "x": [
          0,
          0.8010620846472567,
          0.8010620846472567,
          0.701490351860915
         ],
         "xaxis": "x",
         "y": [
          -765,
          -765,
          -780,
          -780
         ],
         "yaxis": "y"
        },
        {
         "hoverinfo": "text",
         "marker": {
          "color": "rgb(0,116,217)"
         },
         "mode": "lines",
         "text": [
          "โรต้า_rsv_พยาบาลเปาโลโชคชัย ไวรัส",
          "",
          "",
          "บี_ซี_ไวรัส"
         ],
         "type": "scatter",
         "x": [
          1.0054812980668513,
          1.305948352007456,
          1.305948352007456,
          0.8010620846472567
         ],
         "xaxis": "x",
         "y": [
          -725,
          -725,
          -772.5,
          -772.5
         ],
         "yaxis": "y"
        },
        {
         "hoverinfo": "text",
         "marker": {
          "color": "rgb(0,116,217)"
         },
         "mode": "lines",
         "text": [
          "ฟัน_ทันตแพทย์_ช่องปาก",
          "",
          "",
          "บี_ซี_ไวรัส"
         ],
         "type": "scatter",
         "x": [
          0.7847942147175394,
          1.357334597738187,
          1.357334597738187,
          1.305948352007456
         ],
         "xaxis": "x",
         "y": [
          -682.5,
          -682.5,
          -748.75,
          -748.75
         ],
         "yaxis": "y"
        },
        {
         "hoverinfo": "text",
         "marker": {
          "color": "rgb(61,153,112)"
         },
         "mode": "lines",
         "text": [
          "อีโบลา_ไข้เลือดออก_ยุง",
          "",
          "",
          "พยาบาลเปาโลโชคชัย ไข้หวัดใหญ่_ยุง_โรงพยาบาลเปาโลเกษตร ไข้หวัดใหญ่"
         ],
         "type": "scatter",
         "x": [
          0,
          0.8463001228176144,
          0.8463001228176144,
          0
         ],
         "xaxis": "x",
         "y": [
          -795,
          -795,
          -805,
          -805
         ],
         "yaxis": "y"
        },
        {
         "hoverinfo": "text",
         "marker": {
          "color": "rgb(61,153,112)"
         },
         "mode": "lines",
         "text": [
          "ไข้หวัดใหญ่_ไข้หวัดใหญ่ ไข้หวัดใหญ่_ฝน",
          "",
          "",
          "วัคซีน_ไข้หวัดใหญ่_ประสิทธิภาพ ไข้หวัดใหญ่"
         ],
         "type": "scatter",
         "x": [
          0,
          0.7752996680842991,
          0.7752996680842991,
          0
         ],
         "xaxis": "x",
         "y": [
          -815,
          -815,
          -825,
          -825
         ],
         "yaxis": "y"
        },
        {
         "hoverinfo": "text",
         "marker": {
          "color": "rgb(61,153,112)"
         },
         "mode": "lines",
         "text": [
          "ไข้หวัดใหญ่_ไข้หวัดใหญ่ ไข้หวัดใหญ่_ฝน",
          "",
          "",
          "วัคซีน_ไข้หวัดใหญ่_ประสิทธิภาพ ไข้หวัดใหญ่"
         ],
         "type": "scatter",
         "x": [
          0.8463001228176144,
          0.9557902136264397,
          0.9557902136264397,
          0.7752996680842991
         ],
         "xaxis": "x",
         "y": [
          -800,
          -800,
          -820,
          -820
         ],
         "yaxis": "y"
        },
        {
         "hoverinfo": "text",
         "marker": {
          "color": "rgb(255,65,54)"
         },
         "mode": "lines",
         "text": [
          "moderna_วัคซีน_ฉีด",
          "",
          "",
          "วัคซีน_ราชวิทยาลัยกุมารแพทย์แห่งประเทศไทย_ฉีด"
         ],
         "type": "scatter",
         "x": [
          0,
          0.7626306232503393,
          0.7626306232503393,
          0
         ],
         "xaxis": "x",
         "y": [
          -835,
          -835,
          -845,
          -845
         ],
         "yaxis": "y"
        },
        {
         "hoverinfo": "text",
         "marker": {
          "color": "rgb(255,65,54)"
         },
         "mode": "lines",
         "text": [
          "moderna_วัคซีน_ฉีด",
          "",
          "",
          "วัคซีน_ฉีด_พยาบาลเปาโลโชคชัย วัคซีน"
         ],
         "type": "scatter",
         "x": [
          0.7626306232503393,
          0.8059427503682123,
          0.8059427503682123,
          0
         ],
         "xaxis": "x",
         "y": [
          -840,
          -840,
          -855,
          -855
         ],
         "yaxis": "y"
        },
        {
         "hoverinfo": "text",
         "marker": {
          "color": "rgb(255,65,54)"
         },
         "mode": "lines",
         "text": [
          "moderna_วัคซีน_ฉีด",
          "",
          "",
          "ฉีด_วัคซีน_httpswwwfacebookcompraramhospital"
         ],
         "type": "scatter",
         "x": [
          0.8059427503682123,
          0.8727155859925514,
          0.8727155859925514,
          0
         ],
         "xaxis": "x",
         "y": [
          -847.5,
          -847.5,
          -865,
          -865
         ],
         "yaxis": "y"
        },
        {
         "hoverinfo": "text",
         "marker": {
          "color": "rgb(0,116,217)"
         },
         "mode": "lines",
         "text": [
          "moderna_วัคซีน_ฉีด",
          "",
          "",
          "ฉีด_วัคซีน_httpswwwfacebookcompraramhospital"
         ],
         "type": "scatter",
         "x": [
          0.9557902136264397,
          1.125787282655357,
          1.125787282655357,
          0.8727155859925514
         ],
         "xaxis": "x",
         "y": [
          -810,
          -810,
          -856.25,
          -856.25
         ],
         "yaxis": "y"
        },
        {
         "hoverinfo": "text",
         "marker": {
          "color": "rgb(0,116,217)"
         },
         "mode": "lines",
         "text": [
          "moderna_วัคซีน_ฉีด",
          "",
          "",
          "ฉีด_วัคซีน_httpswwwfacebookcompraramhospital"
         ],
         "type": "scatter",
         "x": [
          1.357334597738187,
          1.4477165434668517,
          1.4477165434668517,
          1.125787282655357
         ],
         "xaxis": "x",
         "y": [
          -715.625,
          -715.625,
          -833.125,
          -833.125
         ],
         "yaxis": "y"
        },
        {
         "hoverinfo": "text",
         "marker": {
          "color": "rgb(35,205,205)"
         },
         "mode": "lines",
         "text": [
          "หัวใจ_โรงพยาบาลพิษณุเวช หัวใจ_electrocardiography",
          "",
          "",
          "เต้น_จังหวะ_อรพินชวาลย์กุล"
         ],
         "type": "scatter",
         "x": [
          0,
          0.7603001264271974,
          0.7603001264271974,
          0
         ],
         "xaxis": "x",
         "y": [
          -885,
          -885,
          -895,
          -895
         ],
         "yaxis": "y"
        },
        {
         "hoverinfo": "text",
         "marker": {
          "color": "rgb(35,205,205)"
         },
         "mode": "lines",
         "text": [
          "ฮีโมฟีเลีย_amyloidosis_ไข้เลือดออก",
          "",
          "",
          "เต้น_จังหวะ_อรพินชวาลย์กุล"
         ],
         "type": "scatter",
         "x": [
          0,
          0.9608190862795286,
          0.9608190862795286,
          0.7603001264271974
         ],
         "xaxis": "x",
         "y": [
          -875,
          -875,
          -890,
          -890
         ],
         "yaxis": "y"
        },
        {
         "hoverinfo": "text",
         "marker": {
          "color": "rgb(61,153,112)"
         },
         "mode": "lines",
         "text": [
          "โรงพยาบาลเปาโลเกษตร หัวใจ_พยาบาลเปาโลโชคชัย หัวใจ_มนธวัลเวชอนันนุรักษ์",
          "",
          "",
          "พยาบาลเปาโลโชคชัย หัวใจ_echo_est"
         ],
         "type": "scatter",
         "x": [
          0,
          0.6221279175393581,
          0.6221279175393581,
          0
         ],
         "xaxis": "x",
         "y": [
          -905,
          -905,
          -915,
          -915
         ],
         "yaxis": "y"
        },
        {
         "hoverinfo": "text",
         "marker": {
          "color": "rgb(255,65,54)"
         },
         "mode": "lines",
         "text": [
          "หลอด_สมอง_คอมพิวเตอร์ เลือด",
          "",
          "",
          "หลอด_สมอง_บิน"
         ],
         "type": "scatter",
         "x": [
          0,
          0.7422880086165506,
          0.7422880086165506,
          0
         ],
         "xaxis": "x",
         "y": [
          -935,
          -935,
          -945,
          -945
         ],
         "yaxis": "y"
        },
        {
         "hoverinfo": "text",
         "marker": {
          "color": "rgb(255,65,54)"
         },
         "mode": "lines",
         "text": [
          "ขด_บอลลูน_angiography",
          "",
          "",
          "หลอด_สมอง_บิน"
         ],
         "type": "scatter",
         "x": [
          0,
          0.8625880144284025,
          0.8625880144284025,
          0.7422880086165506
         ],
         "xaxis": "x",
         "y": [
          -925,
          -925,
          -940,
          -940
         ],
         "yaxis": "y"
        },
        {
         "hoverinfo": "text",
         "marker": {
          "color": "rgb(0,116,217)"
         },
         "mode": "lines",
         "text": [
          "หัวใจ_เต้น_ตีบ",
          "",
          "",
          "หลอด_สมอง_บิน"
         ],
         "type": "scatter",
         "x": [
          0.6221279175393581,
          1.0574591842062209,
          1.0574591842062209,
          0.8625880144284025
         ],
         "xaxis": "x",
         "y": [
          -910,
          -910,
          -932.5,
          -932.5
         ],
         "yaxis": "y"
        },
        {
         "hoverinfo": "text",
         "marker": {
          "color": "rgb(0,116,217)"
         },
         "mode": "lines",
         "text": [
          "หัวใจ_เต้น_ตีบ",
          "",
          "",
          "หลอด_สมอง_บิน"
         ],
         "type": "scatter",
         "x": [
          0.9608190862795286,
          1.1220404879287544,
          1.1220404879287544,
          1.0574591842062209
         ],
         "xaxis": "x",
         "y": [
          -882.5,
          -882.5,
          -921.25,
          -921.25
         ],
         "yaxis": "y"
        },
        {
         "hoverinfo": "text",
         "marker": {
          "color": "rgb(35,205,205)"
         },
         "mode": "lines",
         "text": [
          "cloudflare_email_website",
          "",
          "",
          "cloudflare_email_bangkokinternationalhospitalcom"
         ],
         "type": "scatter",
         "x": [
          0,
          0.22902222520717253,
          0.22902222520717253,
          0
         ],
         "xaxis": "x",
         "y": [
          -955,
          -955,
          -965,
          -965
         ],
         "yaxis": "y"
        },
        {
         "hoverinfo": "text",
         "marker": {
          "color": "rgb(133,20,75)"
         },
         "mode": "lines",
         "text": [
          "ศูนย์โสตศอนาสิก_จมูก_โสตศอนาสิกวิทยา",
          "",
          "",
          "ภูมิแพ้_hospitel_อะดีโน"
         ],
         "type": "scatter",
         "x": [
          0,
          0.896271224921749,
          0.896271224921749,
          0
         ],
         "xaxis": "x",
         "y": [
          -985,
          -985,
          -995,
          -995
         ],
         "yaxis": "y"
        },
        {
         "hoverinfo": "text",
         "marker": {
          "color": "rgb(133,20,75)"
         },
         "mode": "lines",
         "text": [
          "streptococcus_มาติก_จมูก",
          "",
          "",
          "ภูมิแพ้_hospitel_อะดีโน"
         ],
         "type": "scatter",
         "x": [
          0,
          0.9254701242953737,
          0.9254701242953737,
          0.896271224921749
         ],
         "xaxis": "x",
         "y": [
          -975,
          -975,
          -990,
          -990
         ],
         "yaxis": "y"
        },
        {
         "hoverinfo": "text",
         "marker": {
          "color": "rgb(133,20,75)"
         },
         "mode": "lines",
         "text": [
          "ภูมิแพ้_ทดสอบภูมิแพ้_จมูกอักเสบ",
          "",
          "",
          "ภูมิแพ้_โรงพยาบาลกรุงเทพวันจันทร์_แพ้"
         ],
         "type": "scatter",
         "x": [
          0,
          0.7259374360704304,
          0.7259374360704304,
          0
         ],
         "xaxis": "x",
         "y": [
          -1005,
          -1005,
          -1015,
          -1015
         ],
         "yaxis": "y"
        },
        {
         "hoverinfo": "text",
         "marker": {
          "color": "rgb(133,20,75)"
         },
         "mode": "lines",
         "text": [
          "ภูมิแพ้_ทดสอบภูมิแพ้_จมูกอักเสบ",
          "",
          "",
          "ภูมิแพ้_โรงพยาบาลกรุงเทพวันจันทร์_แพ้"
         ],
         "type": "scatter",
         "x": [
          0.9254701242953737,
          0.9623081112544623,
          0.9623081112544623,
          0.7259374360704304
         ],
         "xaxis": "x",
         "y": [
          -982.5,
          -982.5,
          -1010,
          -1010
         ],
         "yaxis": "y"
        },
        {
         "hoverinfo": "text",
         "marker": {
          "color": "rgb(255,220,0)"
         },
         "mode": "lines",
         "text": [
          "กระชับ_hyperbaric_ผิว",
          "",
          "",
          "เหงื่อ_ผิว_ศูนย์ผิวหนัง"
         ],
         "type": "scatter",
         "x": [
          0,
          0.8229676138111076,
          0.8229676138111076,
          0
         ],
         "xaxis": "x",
         "y": [
          -1025,
          -1025,
          -1035,
          -1035
         ],
         "yaxis": "y"
        },
        {
         "hoverinfo": "text",
         "marker": {
          "color": "rgb(255,220,0)"
         },
         "mode": "lines",
         "text": [
          "กระชับ_hyperbaric_ผิว",
          "",
          "",
          "ผิว_jetpeel_บำรุง"
         ],
         "type": "scatter",
         "x": [
          0.8229676138111076,
          0.8403425573967037,
          0.8403425573967037,
          0
         ],
         "xaxis": "x",
         "y": [
          -1030,
          -1030,
          -1045,
          -1045
         ],
         "yaxis": "y"
        },
        {
         "hoverinfo": "text",
         "marker": {
          "color": "rgb(255,220,0)"
         },
         "mode": "lines",
         "text": [
          "ฝ้า_พญกมลวรรณพงศ์ปริตร_ประเทศเกาหลี",
          "",
          "",
          "httpswwwhopkinsmedicineorghealthtreatmenttestsandtherapiesbreastmri_httpswwwchulacancernetpatientlistpagephpid_hospice"
         ],
         "type": "scatter",
         "x": [
          0,
          0.8984057938274637,
          0.8984057938274637,
          0
         ],
         "xaxis": "x",
         "y": [
          -1055,
          -1055,
          -1065,
          -1065
         ],
         "yaxis": "y"
        },
        {
         "hoverinfo": "text",
         "marker": {
          "color": "rgb(255,220,0)"
         },
         "mode": "lines",
         "text": [
          "ฝ้า_พญกมลวรรณพงศ์ปริตร_ประเทศเกาหลี",
          "",
          "",
          "httpswwwhopkinsmedicineorghealthtreatmenttestsandtherapiesbreastmri_httpswwwchulacancernetpatientlistpagephpid_hospice"
         ],
         "type": "scatter",
         "x": [
          0.8403425573967037,
          0.9944130879481792,
          0.9944130879481792,
          0.8984057938274637
         ],
         "xaxis": "x",
         "y": [
          -1037.5,
          -1037.5,
          -1060,
          -1060
         ],
         "yaxis": "y"
        },
        {
         "hoverinfo": "text",
         "marker": {
          "color": "rgb(0,116,217)"
         },
         "mode": "lines",
         "text": [
          "ฝ้า_พญกมลวรรณพงศ์ปริตร_ประเทศเกาหลี",
          "",
          "",
          "httpswwwhopkinsmedicineorghealthtreatmenttestsandtherapiesbreastmri_httpswwwchulacancernetpatientlistpagephpid_hospice"
         ],
         "type": "scatter",
         "x": [
          0.9623081112544623,
          1.2661527537759683,
          1.2661527537759683,
          0.9944130879481792
         ],
         "xaxis": "x",
         "y": [
          -996.25,
          -996.25,
          -1048.75,
          -1048.75
         ],
         "yaxis": "y"
        },
        {
         "hoverinfo": "text",
         "marker": {
          "color": "rgb(40,35,35)"
         },
         "mode": "lines",
         "text": [
          "ชรา_iconfacebooktwitter_บ้าน",
          "",
          "",
          "icontwitterline_iconfacebooktwitter_การแพทย์ผู้สูงอายุ"
         ],
         "type": "scatter",
         "x": [
          0,
          0.6613189397810058,
          0.6613189397810058,
          0
         ],
         "xaxis": "x",
         "y": [
          -1075,
          -1075,
          -1085,
          -1085
         ],
         "yaxis": "y"
        },
        {
         "hoverinfo": "text",
         "marker": {
          "color": "rgb(40,35,35)"
         },
         "mode": "lines",
         "text": [
          "โฮม_คอย_ครอบครัว",
          "",
          "",
          "อัลไซเมอร์_การแพทย์ผู้สูงอายุ_icontwitterline"
         ],
         "type": "scatter",
         "x": [
          0.6613189397810058,
          0.7756218195536917,
          0.7756218195536917,
          0
         ],
         "xaxis": "x",
         "y": [
          -1080,
          -1080,
          -1095,
          -1095
         ],
         "yaxis": "y"
        },
        {
         "hoverinfo": "text",
         "marker": {
          "color": "rgb(61,153,112)"
         },
         "mode": "lines",
         "text": [
          "กาแฟ_พญพัชรนันท์ศรีพัฒนวัชร์_อ่อนล้าเรื้อรัง",
          "",
          "",
          "มิน_วิตา_บุคคล"
         ],
         "type": "scatter",
         "x": [
          0,
          0.8804767750267641,
          0.8804767750267641,
          0
         ],
         "xaxis": "x",
         "y": [
          -1105,
          -1105,
          -1115,
          -1115
         ],
         "yaxis": "y"
        },
        {
         "hoverinfo": "text",
         "marker": {
          "color": "rgb(61,153,112)"
         },
         "mode": "lines",
         "text": [
          "กาแฟ_พญพัชรนันท์ศรีพัฒนวัชร์_อ่อนล้าเรื้อรัง",
          "",
          "",
          "กินแคลเซียม_แคลเซียม_พร่อง"
         ],
         "type": "scatter",
         "x": [
          0.8804767750267641,
          0.9330757918131513,
          0.9330757918131513,
          0
         ],
         "xaxis": "x",
         "y": [
          -1110,
          -1110,
          -1125,
          -1125
         ],
         "yaxis": "y"
        },
        {
         "hoverinfo": "text",
         "marker": {
          "color": "rgb(255,65,54)"
         },
         "mode": "lines",
         "text": [
          "น้ำมัน_ทาน_เนื้อสัตว์แปรรูป",
          "",
          "",
          "ผลไม้_น้ำมันรำข้าว_ผัก"
         ],
         "type": "scatter",
         "x": [
          0,
          0.8588218339257483,
          0.8588218339257483,
          0
         ],
         "xaxis": "x",
         "y": [
          -1145,
          -1145,
          -1155,
          -1155
         ],
         "yaxis": "y"
        },
        {
         "hoverinfo": "text",
         "marker": {
          "color": "rgb(255,65,54)"
         },
         "mode": "lines",
         "text": [
          "ข้าว_วัว_คาร์โบไฮเดรต",
          "",
          "",
          "ผลไม้_น้ำมันรำข้าว_ผัก"
         ],
         "type": "scatter",
         "x": [
          0,
          0.915396906353595,
          0.915396906353595,
          0.8588218339257483
         ],
         "xaxis": "x",
         "y": [
          -1135,
          -1135,
          -1150,
          -1150
         ],
         "yaxis": "y"
        },
        {
         "hoverinfo": "text",
         "marker": {
          "color": "rgb(255,65,54)"
         },
         "mode": "lines",
         "text": [
          "ข้าว_วัว_คาร์โบไฮเดรต",
          "",
          "",
          "แช่_เก๊าท์_ริม"
         ],
         "type": "scatter",
         "x": [
          0.915396906353595,
          0.9571979566987034,
          0.9571979566987034,
          0
         ],
         "xaxis": "x",
         "y": [
          -1142.5,
          -1142.5,
          -1165,
          -1165
         ],
         "yaxis": "y"
        },
        {
         "hoverinfo": "text",
         "marker": {
          "color": "rgb(0,116,217)"
         },
         "mode": "lines",
         "text": [
          "ข้าว_วัว_คาร์โบไฮเดรต",
          "",
          "",
          "แช่_เก๊าท์_ริม"
         ],
         "type": "scatter",
         "x": [
          0.9330757918131513,
          1.0913214492103491,
          1.0913214492103491,
          0.9571979566987034
         ],
         "xaxis": "x",
         "y": [
          -1117.5,
          -1117.5,
          -1153.75,
          -1153.75
         ],
         "yaxis": "y"
        },
        {
         "hoverinfo": "text",
         "marker": {
          "color": "rgb(35,205,205)"
         },
         "mode": "lines",
         "text": [
          "อ้วน_โรงพยาบาลเปาโลเกษตร อ้วน_coolsculpting",
          "",
          "",
          "ซิกแพค_แอลคาร์นิทีน_อ้วน"
         ],
         "type": "scatter",
         "x": [
          0,
          0.83353397701188,
          0.83353397701188,
          0
         ],
         "xaxis": "x",
         "y": [
          -1185,
          -1185,
          -1195,
          -1195
         ],
         "yaxis": "y"
        },
        {
         "hoverinfo": "text",
         "marker": {
          "color": "rgb(35,205,205)"
         },
         "mode": "lines",
         "text": [
          "osa_ดื้อ_หย่อนคล้อย",
          "",
          "",
          "ซิกแพค_แอลคาร์นิทีน_อ้วน"
         ],
         "type": "scatter",
         "x": [
          0,
          0.9270875949801607,
          0.9270875949801607,
          0.83353397701188
         ],
         "xaxis": "x",
         "y": [
          -1175,
          -1175,
          -1190,
          -1190
         ],
         "yaxis": "y"
        },
        {
         "hoverinfo": "text",
         "marker": {
          "color": "rgb(61,153,112)"
         },
         "mode": "lines",
         "text": [
          "พอก_ไตรกลีเซอร์ไรด์_ตับ",
          "",
          "",
          "เค็ม_โซเดียม_เครื่องปรุงรส"
         ],
         "type": "scatter",
         "x": [
          0,
          0.8251252798954585,
          0.8251252798954585,
          0
         ],
         "xaxis": "x",
         "y": [
          -1205,
          -1205,
          -1215,
          -1215
         ],
         "yaxis": "y"
        },
        {
         "hoverinfo": "text",
         "marker": {
          "color": "rgb(61,153,112)"
         },
         "mode": "lines",
         "text": [
          "ดัน_โรงพยาบาลเปาโลเกษตร ไต_โรงพยาบาลเปาโลเกษตร โลหิต",
          "",
          "",
          "ดัน_มุก_ตะไคร้"
         ],
         "type": "scatter",
         "x": [
          0,
          0.8717369903802094,
          0.8717369903802094,
          0
         ],
         "xaxis": "x",
         "y": [
          -1225,
          -1225,
          -1235,
          -1235
         ],
         "yaxis": "y"
        },
        {
         "hoverinfo": "text",
         "marker": {
          "color": "rgb(61,153,112)"
         },
         "mode": "lines",
         "text": [
          "ดัน_โรงพยาบาลเปาโลเกษตร ไต_โรงพยาบาลเปาโลเกษตร โลหิต",
          "",
          "",
          "ดัน_มุก_ตะไคร้"
         ],
         "type": "scatter",
         "x": [
          0.8251252798954585,
          0.9967263642698302,
          0.9967263642698302,
          0.8717369903802094
         ],
         "xaxis": "x",
         "y": [
          -1210,
          -1210,
          -1230,
          -1230
         ],
         "yaxis": "y"
        },
        {
         "hoverinfo": "text",
         "marker": {
          "color": "rgb(0,116,217)"
         },
         "mode": "lines",
         "text": [
          "ดัน_โรงพยาบาลเปาโลเกษตร ไต_โรงพยาบาลเปาโลเกษตร โลหิต",
          "",
          "",
          "ดัน_มุก_ตะไคร้"
         ],
         "type": "scatter",
         "x": [
          0.9270875949801607,
          1.0900716847725398,
          1.0900716847725398,
          0.9967263642698302
         ],
         "xaxis": "x",
         "y": [
          -1182.5,
          -1182.5,
          -1220,
          -1220
         ],
         "yaxis": "y"
        },
        {
         "hoverinfo": "text",
         "marker": {
          "color": "rgb(255,65,54)"
         },
         "mode": "lines",
         "text": [
          "น้ำตา_ระดับ_ต่ำ",
          "",
          "",
          "อินซูลิน_สล็อต_โรงพยาบาลกรุงเทพจันทร์"
         ],
         "type": "scatter",
         "x": [
          0,
          0.809066590198523,
          0.809066590198523,
          0
         ],
         "xaxis": "x",
         "y": [
          -1245,
          -1245,
          -1255,
          -1255
         ],
         "yaxis": "y"
        },
        {
         "hoverinfo": "text",
         "marker": {
          "color": "rgb(0,116,217)"
         },
         "mode": "lines",
         "text": [
          "น้ำตา_ระดับ_ต่ำ",
          "",
          "",
          "อินซูลิน_สล็อต_โรงพยาบาลกรุงเทพจันทร์"
         ],
         "type": "scatter",
         "x": [
          1.0900716847725398,
          1.1014246075221155,
          1.1014246075221155,
          0.809066590198523
         ],
         "xaxis": "x",
         "y": [
          -1201.25,
          -1201.25,
          -1250,
          -1250
         ],
         "yaxis": "y"
        },
        {
         "hoverinfo": "text",
         "marker": {
          "color": "rgb(0,116,217)"
         },
         "mode": "lines",
         "text": [
          "น้ำตา_ระดับ_ต่ำ",
          "",
          "",
          "อินซูลิน_สล็อต_โรงพยาบาลกรุงเทพจันทร์"
         ],
         "type": "scatter",
         "x": [
          1.0913214492103491,
          1.1790395197257935,
          1.1790395197257935,
          1.1014246075221155
         ],
         "xaxis": "x",
         "y": [
          -1135.625,
          -1135.625,
          -1225.625,
          -1225.625
         ],
         "yaxis": "y"
        },
        {
         "hoverinfo": "text",
         "marker": {
          "color": "rgb(35,205,205)"
         },
         "mode": "lines",
         "text": [
          "มาราธอน_วิ่ง_crosstraining",
          "",
          "",
          "วิ่ง_packs_everpresent"
         ],
         "type": "scatter",
         "x": [
          0,
          0.8198738671087854,
          0.8198738671087854,
          0
         ],
         "xaxis": "x",
         "y": [
          -1265,
          -1265,
          -1275,
          -1275
         ],
         "yaxis": "y"
        },
        {
         "hoverinfo": "text",
         "marker": {
          "color": "rgb(133,20,75)"
         },
         "mode": "lines",
         "text": [
          "กาย_training_การออกกำลังกาย",
          "",
          "",
          "แกว่ง_ยืด_ท่า"
         ],
         "type": "scatter",
         "x": [
          0,
          0.8889176959586378,
          0.8889176959586378,
          0
         ],
         "xaxis": "x",
         "y": [
          -1285,
          -1285,
          -1295,
          -1295
         ],
         "yaxis": "y"
        },
        {
         "hoverinfo": "text",
         "marker": {
          "color": "rgb(133,20,75)"
         },
         "mode": "lines",
         "text": [
          "กาย_training_การออกกำลังกาย",
          "",
          "",
          "เตียง_ูด_ห้าม"
         ],
         "type": "scatter",
         "x": [
          0.8889176959586378,
          0.9388162940322404,
          0.9388162940322404,
          0
         ],
         "xaxis": "x",
         "y": [
          -1290,
          -1290,
          -1305,
          -1305
         ],
         "yaxis": "y"
        },
        {
         "hoverinfo": "text",
         "marker": {
          "color": "rgb(133,20,75)"
         },
         "mode": "lines",
         "text": [
          "physiotherapy_ออฟฟิศซินโดรม_คลาย",
          "",
          "",
          "นิ้ว_คอมพิวเตอร์_มือ"
         ],
         "type": "scatter",
         "x": [
          0,
          0.9194833386467227,
          0.9194833386467227,
          0
         ],
         "xaxis": "x",
         "y": [
          -1315,
          -1315,
          -1325,
          -1325
         ],
         "yaxis": "y"
        },
        {
         "hoverinfo": "text",
         "marker": {
          "color": "rgb(133,20,75)"
         },
         "mode": "lines",
         "text": [
          "physiotherapy_ออฟฟิศซินโดรม_คลาย",
          "",
          "",
          "นิ้ว_คอมพิวเตอร์_มือ"
         ],
         "type": "scatter",
         "x": [
          0.9388162940322404,
          0.9992538703775451,
          0.9992538703775451,
          0.9194833386467227
         ],
         "xaxis": "x",
         "y": [
          -1297.5,
          -1297.5,
          -1320,
          -1320
         ],
         "yaxis": "y"
        },
        {
         "hoverinfo": "text",
         "marker": {
          "color": "rgb(255,220,0)"
         },
         "mode": "lines",
         "text": [
          "ศูนย์รักษาแผล_เท้า_ลวก",
          "",
          "",
          "มือเท้าปาก_ปาก_enterovirus"
         ],
         "type": "scatter",
         "x": [
          0,
          0.8941835033491728,
          0.8941835033491728,
          0
         ],
         "xaxis": "x",
         "y": [
          -1345,
          -1345,
          -1355,
          -1355
         ],
         "yaxis": "y"
        },
        {
         "hoverinfo": "text",
         "marker": {
          "color": "rgb(255,220,0)"
         },
         "mode": "lines",
         "text": [
          "รองเท้า_หัวแม่_อุ้งเท้า",
          "",
          "",
          "มือเท้าปาก_ปาก_enterovirus"
         ],
         "type": "scatter",
         "x": [
          0,
          0.9568877132236511,
          0.9568877132236511,
          0.8941835033491728
         ],
         "xaxis": "x",
         "y": [
          -1335,
          -1335,
          -1350,
          -1350
         ],
         "yaxis": "y"
        },
        {
         "hoverinfo": "text",
         "marker": {
          "color": "rgb(0,116,217)"
         },
         "mode": "lines",
         "text": [
          "รองเท้า_หัวแม่_อุ้งเท้า",
          "",
          "",
          "มือเท้าปาก_ปาก_enterovirus"
         ],
         "type": "scatter",
         "x": [
          0.9992538703775451,
          1.0907571688264346,
          1.0907571688264346,
          0.9568877132236511
         ],
         "xaxis": "x",
         "y": [
          -1308.75,
          -1308.75,
          -1342.5,
          -1342.5
         ],
         "yaxis": "y"
        },
        {
         "hoverinfo": "text",
         "marker": {
          "color": "rgb(0,116,217)"
         },
         "mode": "lines",
         "text": [
          "รองเท้า_หัวแม่_อุ้งเท้า",
          "",
          "",
          "มือเท้าปาก_ปาก_enterovirus"
         ],
         "type": "scatter",
         "x": [
          0.8198738671087854,
          1.0948196895619833,
          1.0948196895619833,
          1.0907571688264346
         ],
         "xaxis": "x",
         "y": [
          -1270,
          -1270,
          -1325.625,
          -1325.625
         ],
         "yaxis": "y"
        },
        {
         "hoverinfo": "text",
         "marker": {
          "color": "rgb(40,35,35)"
         },
         "mode": "lines",
         "text": [
          "หู_ได้ยิน_ฟัง",
          "",
          "",
          "กล่อง_เสียง_ริด"
         ],
         "type": "scatter",
         "x": [
          0,
          0.8767739141889112,
          0.8767739141889112,
          0
         ],
         "xaxis": "x",
         "y": [
          -1365,
          -1365,
          -1375,
          -1375
         ],
         "yaxis": "y"
        },
        {
         "hoverinfo": "text",
         "marker": {
          "color": "rgb(40,35,35)"
         },
         "mode": "lines",
         "text": [
          "หู_ได้ยิน_ฟัง",
          "",
          "",
          "phantosmia_เกาต์_ปลิ้น"
         ],
         "type": "scatter",
         "x": [
          0.8767739141889112,
          0.9179260858329189,
          0.9179260858329189,
          0
         ],
         "xaxis": "x",
         "y": [
          -1370,
          -1370,
          -1385,
          -1385
         ],
         "yaxis": "y"
        },
        {
         "hoverinfo": "text",
         "marker": {
          "color": "rgb(61,153,112)"
         },
         "mode": "lines",
         "text": [
          "infopetcharavejcom_petcharavej_พนักงา",
          "",
          "",
          "เพลิง_ขนส่ง_สาธารณะ"
         ],
         "type": "scatter",
         "x": [
          0,
          0.9612161011070763,
          0.9612161011070763,
          0
         ],
         "xaxis": "x",
         "y": [
          -1405,
          -1405,
          -1415,
          -1415
         ],
         "yaxis": "y"
        },
        {
         "hoverinfo": "text",
         "marker": {
          "color": "rgb(61,153,112)"
         },
         "mode": "lines",
         "text": [
          "infopetcharavejcom_petcharavej_พนักงา",
          "",
          "",
          "ต้อ_ุ้น_เทโลเมียร์"
         ],
         "type": "scatter",
         "x": [
          0.9612161011070763,
          0.9921698450664039,
          0.9921698450664039,
          0
         ],
         "xaxis": "x",
         "y": [
          -1410,
          -1410,
          -1425,
          -1425
         ],
         "yaxis": "y"
        },
        {
         "hoverinfo": "text",
         "marker": {
          "color": "rgb(61,153,112)"
         },
         "mode": "lines",
         "text": [
          "กระบอก_พ่น_accuhaler",
          "",
          "",
          "ต้อ_ุ้น_เทโลเมียร์"
         ],
         "type": "scatter",
         "x": [
          0,
          0.9949251644579066,
          0.9949251644579066,
          0.9921698450664039
         ],
         "xaxis": "x",
         "y": [
          -1395,
          -1395,
          -1417.5,
          -1417.5
         ],
         "yaxis": "y"
        },
        {
         "hoverinfo": "text",
         "marker": {
          "color": "rgb(255,65,54)"
         },
         "mode": "lines",
         "text": [
          "เครือราชวิทยาลัยจุฬาภรณ์ราชวิทยาลัยจุฬาภรณ์_วิทยาลัยวิทยาศาสตร์การแพทย์เจ้าฟ้าจุฬาภรณ์_โรงพยาบาลจุฬาภรณ์วิทยาลัยวิทยาศาสตร์การแพทย์เจ้าฟ้าจุฬาภรณ์สถาบันบัณฑิตศึกษาจุฬาภรณ์ช่องทาง",
          "",
          "",
          "เล่ม_ฉบับ_คลิก"
         ],
         "type": "scatter",
         "x": [
          0,
          0.993818621160425,
          0.993818621160425,
          0
         ],
         "xaxis": "x",
         "y": [
          -1445,
          -1445,
          -1455,
          -1455
         ],
         "yaxis": "y"
        },
        {
         "hoverinfo": "text",
         "marker": {
          "color": "rgb(0,116,217)"
         },
         "mode": "lines",
         "text": [
          "barbudaargentinaarmenia_saintpierreetmiquelon_caledonianouvellecale",
          "",
          "",
          "เล่ม_ฉบับ_คลิก"
         ],
         "type": "scatter",
         "x": [
          0,
          1.0009002281208697,
          1.0009002281208697,
          0.993818621160425
         ],
         "xaxis": "x",
         "y": [
          -1435,
          -1435,
          -1450,
          -1450
         ],
         "yaxis": "y"
        },
        {
         "hoverinfo": "text",
         "marker": {
          "color": "rgb(0,116,217)"
         },
         "mode": "lines",
         "text": [
          "barbudaargentinaarmenia_saintpierreetmiquelon_caledonianouvellecale",
          "",
          "",
          "เล่ม_ฉบับ_คลิก"
         ],
         "type": "scatter",
         "x": [
          0.9949251644579066,
          1.014041188852141,
          1.014041188852141,
          1.0009002281208697
         ],
         "xaxis": "x",
         "y": [
          -1406.25,
          -1406.25,
          -1442.5,
          -1442.5
         ],
         "yaxis": "y"
        },
        {
         "hoverinfo": "text",
         "marker": {
          "color": "rgb(35,205,205)"
         },
         "mode": "lines",
         "text": [
          "พาร์กิน_ถั่ง_httpsbookingprinchealthcomparkinsoncon",
          "",
          "",
          "httpswwwncbinlmnihgovpmcarticlespmc_lcarnitine_มมปรอท"
         ],
         "type": "scatter",
         "x": [
          0,
          0.9513476531152019,
          0.9513476531152019,
          0
         ],
         "xaxis": "x",
         "y": [
          -1465,
          -1465,
          -1475,
          -1475
         ],
         "yaxis": "y"
        },
        {
         "hoverinfo": "text",
         "marker": {
          "color": "rgb(0,116,217)"
         },
         "mode": "lines",
         "text": [
          "พาร์กิน_ถั่ง_httpsbookingprinchealthcomparkinsoncon",
          "",
          "",
          "httpswwwncbinlmnihgovpmcarticlespmc_lcarnitine_มมปรอท"
         ],
         "type": "scatter",
         "x": [
          1.014041188852141,
          1.02220519944272,
          1.02220519944272,
          0.9513476531152019
         ],
         "xaxis": "x",
         "y": [
          -1424.375,
          -1424.375,
          -1470,
          -1470
         ],
         "yaxis": "y"
        },
        {
         "hoverinfo": "text",
         "marker": {
          "color": "rgb(61,153,112)"
         },
         "mode": "lines",
         "text": [
          "บุฟเฟ่ต์_ฟอง_เช้า",
          "",
          "",
          "กลืน_ลำบาก_ล้า"
         ],
         "type": "scatter",
         "x": [
          0,
          0.944010486557989,
          0.944010486557989,
          0
         ],
         "xaxis": "x",
         "y": [
          -1485,
          -1485,
          -1495,
          -1495
         ],
         "yaxis": "y"
        },
        {
         "hoverinfo": "text",
         "marker": {
          "color": "rgb(61,153,112)"
         },
         "mode": "lines",
         "text": [
          "บุฟเฟ่ต์_ฟอง_เช้า",
          "",
          "",
          "ระเหย_เข้มข้น_คาโรชิซินโดรม"
         ],
         "type": "scatter",
         "x": [
          0.944010486557989,
          0.9719240568301403,
          0.9719240568301403,
          0
         ],
         "xaxis": "x",
         "y": [
          -1490,
          -1490,
          -1505,
          -1505
         ],
         "yaxis": "y"
        },
        {
         "hoverinfo": "text",
         "marker": {
          "color": "rgb(61,153,112)"
         },
         "mode": "lines",
         "text": [
          "บุฟเฟ่ต์_ฟอง_เช้า",
          "",
          "",
          "hydrocephalus_จิตตก_adrenaline"
         ],
         "type": "scatter",
         "x": [
          0.9719240568301403,
          0.9828468767617942,
          0.9828468767617942,
          0
         ],
         "xaxis": "x",
         "y": [
          -1497.5,
          -1497.5,
          -1515,
          -1515
         ],
         "yaxis": "y"
        },
        {
         "hoverinfo": "text",
         "marker": {
          "color": "rgb(0,116,217)"
         },
         "mode": "lines",
         "text": [
          "บุฟเฟ่ต์_ฟอง_เช้า",
          "",
          "",
          "hydrocephalus_จิตตก_adrenaline"
         ],
         "type": "scatter",
         "x": [
          1.02220519944272,
          1.0315941933111934,
          1.0315941933111934,
          0.9828468767617942
         ],
         "xaxis": "x",
         "y": [
          -1447.1875,
          -1447.1875,
          -1506.25,
          -1506.25
         ],
         "yaxis": "y"
        },
        {
         "hoverinfo": "text",
         "marker": {
          "color": "rgb(255,65,54)"
         },
         "mode": "lines",
         "text": [
          "ลืม_เนื้องอกสมอง_ซ้ำแล้วซ้ำ",
          "",
          "",
          "อัลไซเมอร์_เสื่อมอัลไซเมอร์_โรงพยาบาลกรุงเทพอินเตอร์เนชั่นแนลโทร"
         ],
         "type": "scatter",
         "x": [
          0,
          0.8999534519327568,
          0.8999534519327568,
          0
         ],
         "xaxis": "x",
         "y": [
          -1525,
          -1525,
          -1535,
          -1535
         ],
         "yaxis": "y"
        },
        {
         "hoverinfo": "text",
         "marker": {
          "color": "rgb(35,205,205)"
         },
         "mode": "lines",
         "text": [
          "ไมเกรน_ศีรษะ_ซอยศูนย์วิจัย ไมเกรน",
          "",
          "",
          "มอล_พาราเซตา_warfarin"
         ],
         "type": "scatter",
         "x": [
          0,
          0.961430413917403,
          0.961430413917403,
          0
         ],
         "xaxis": "x",
         "y": [
          -1545,
          -1545,
          -1555,
          -1555
         ],
         "yaxis": "y"
        },
        {
         "hoverinfo": "text",
         "marker": {
          "color": "rgb(0,116,217)"
         },
         "mode": "lines",
         "text": [
          "ไมเกรน_ศีรษะ_ซอยศูนย์วิจัย ไมเกรน",
          "",
          "",
          "มอล_พาราเซตา_warfarin"
         ],
         "type": "scatter",
         "x": [
          0.8999534519327568,
          1.0130231913344945,
          1.0130231913344945,
          0.961430413917403
         ],
         "xaxis": "x",
         "y": [
          -1530,
          -1530,
          -1550,
          -1550
         ],
         "yaxis": "y"
        },
        {
         "hoverinfo": "text",
         "marker": {
          "color": "rgb(0,116,217)"
         },
         "mode": "lines",
         "text": [
          "ไมเกรน_ศีรษะ_ซอยศูนย์วิจัย ไมเกรน",
          "",
          "",
          "มอล_พาราเซตา_warfarin"
         ],
         "type": "scatter",
         "x": [
          1.0315941933111934,
          1.0653909122129968,
          1.0653909122129968,
          1.0130231913344945
         ],
         "xaxis": "x",
         "y": [
          -1476.71875,
          -1476.71875,
          -1540,
          -1540
         ],
         "yaxis": "y"
        },
        {
         "hoverinfo": "text",
         "marker": {
          "color": "rgb(133,20,75)"
         },
         "mode": "lines",
         "text": [
          "hot_แพ็กเกจวัคซีน_พิษ",
          "",
          "",
          "งู_สวัด_โรงพยาบาลเปาโลเกษตร สวัด"
         ],
         "type": "scatter",
         "x": [
          0,
          0.883934601509968,
          0.883934601509968,
          0
         ],
         "xaxis": "x",
         "y": [
          -1575,
          -1575,
          -1585,
          -1585
         ],
         "yaxis": "y"
        },
        {
         "hoverinfo": "text",
         "marker": {
          "color": "rgb(133,20,75)"
         },
         "mode": "lines",
         "text": [
          "bangkoklongevitycenterbangkokhospitalcom_อายุรศาสตร์_ล้ม",
          "",
          "",
          "งู_สวัด_โรงพยาบาลเปาโลเกษตร สวัด"
         ],
         "type": "scatter",
         "x": [
          0,
          0.9830977722462281,
          0.9830977722462281,
          0.883934601509968
         ],
         "xaxis": "x",
         "y": [
          -1565,
          -1565,
          -1580,
          -1580
         ],
         "yaxis": "y"
        },
        {
         "hoverinfo": "text",
         "marker": {
          "color": "rgb(255,220,0)"
         },
         "mode": "lines",
         "text": [
          "โนโรไวรัส_ฉี่_สะอาด",
          "",
          "",
          "เรียกิน_แบคที_streptococcus"
         ],
         "type": "scatter",
         "x": [
          0,
          0.9617758589037524,
          0.9617758589037524,
          0
         ],
         "xaxis": "x",
         "y": [
          -1605,
          -1605,
          -1615,
          -1615
         ],
         "yaxis": "y"
        },
        {
         "hoverinfo": "text",
         "marker": {
          "color": "rgb(255,220,0)"
         },
         "mode": "lines",
         "text": [
          "พยาธิ_พิษ_กัด",
          "",
          "",
          "เรียกิน_แบคที_streptococcus"
         ],
         "type": "scatter",
         "x": [
          0,
          0.9805372485907776,
          0.9805372485907776,
          0.9617758589037524
         ],
         "xaxis": "x",
         "y": [
          -1595,
          -1595,
          -1610,
          -1610
         ],
         "yaxis": "y"
        },
        {
         "hoverinfo": "text",
         "marker": {
          "color": "rgb(0,116,217)"
         },
         "mode": "lines",
         "text": [
          "พยาธิ_พิษ_กัด",
          "",
          "",
          "เรียกิน_แบคที_streptococcus"
         ],
         "type": "scatter",
         "x": [
          0.9830977722462281,
          1.0175441071551918,
          1.0175441071551918,
          0.9805372485907776
         ],
         "xaxis": "x",
         "y": [
          -1572.5,
          -1572.5,
          -1602.5,
          -1602.5
         ],
         "yaxis": "y"
        },
        {
         "hoverinfo": "text",
         "marker": {
          "color": "rgb(0,116,217)"
         },
         "mode": "lines",
         "text": [
          "พยาธิ_พิษ_กัด",
          "",
          "",
          "เรียกิน_แบคที_streptococcus"
         ],
         "type": "scatter",
         "x": [
          1.0653909122129968,
          1.0989021787231,
          1.0989021787231,
          1.0175441071551918
         ],
         "xaxis": "x",
         "y": [
          -1508.359375,
          -1508.359375,
          -1587.5,
          -1587.5
         ],
         "yaxis": "y"
        },
        {
         "hoverinfo": "text",
         "marker": {
          "color": "rgb(0,116,217)"
         },
         "mode": "lines",
         "text": [
          "พยาธิ_พิษ_กัด",
          "",
          "",
          "เรียกิน_แบคที_streptococcus"
         ],
         "type": "scatter",
         "x": [
          0.9179260858329189,
          1.1338204411176862,
          1.1338204411176862,
          1.0989021787231
         ],
         "xaxis": "x",
         "y": [
          -1377.5,
          -1377.5,
          -1547.9296875,
          -1547.9296875
         ],
         "yaxis": "y"
        },
        {
         "hoverinfo": "text",
         "marker": {
          "color": "rgb(40,35,35)"
         },
         "mode": "lines",
         "text": [
          "misc_โรงพยาบาลเปาโลรังสิต โควิด_แลมบ์",
          "",
          "",
          "long_covid_wellness"
         ],
         "type": "scatter",
         "x": [
          0,
          0.9083595648324803,
          0.9083595648324803,
          0
         ],
         "xaxis": "x",
         "y": [
          -1625,
          -1625,
          -1635,
          -1635
         ],
         "yaxis": "y"
        },
        {
         "hoverinfo": "text",
         "marker": {
          "color": "rgb(61,153,112)"
         },
         "mode": "lines",
         "text": [
          "สัดส่วน_port_พอร์ต",
          "",
          "",
          "facebooktwitterline_รู้สู้_ห่างไกล"
         ],
         "type": "scatter",
         "x": [
          0,
          0.9228474923697212,
          0.9228474923697212,
          0
         ],
         "xaxis": "x",
         "y": [
          -1645,
          -1645,
          -1655,
          -1655
         ],
         "yaxis": "y"
        },
        {
         "hoverinfo": "text",
         "marker": {
          "color": "rgb(255,65,54)"
         },
         "mode": "lines",
         "text": [
          "อุดกั้น_คลุม_ไตรมาส",
          "",
          "",
          "บุหรี่_สูบ_เลิก"
         ],
         "type": "scatter",
         "x": [
          0,
          0.8922305693702024,
          0.8922305693702024,
          0
         ],
         "xaxis": "x",
         "y": [
          -1665,
          -1665,
          -1675,
          -1675
         ],
         "yaxis": "y"
        },
        {
         "hoverinfo": "text",
         "marker": {
          "color": "rgb(0,116,217)"
         },
         "mode": "lines",
         "text": [
          "อุดกั้น_คลุม_ไตรมาส",
          "",
          "",
          "บุหรี่_สูบ_เลิก"
         ],
         "type": "scatter",
         "x": [
          0.9228474923697212,
          1.0236543743610043,
          1.0236543743610043,
          0.8922305693702024
         ],
         "xaxis": "x",
         "y": [
          -1650,
          -1650,
          -1670,
          -1670
         ],
         "yaxis": "y"
        },
        {
         "hoverinfo": "text",
         "marker": {
          "color": "rgb(0,116,217)"
         },
         "mode": "lines",
         "text": [
          "อุดกั้น_คลุม_ไตรมาส",
          "",
          "",
          "บุหรี่_สูบ_เลิก"
         ],
         "type": "scatter",
         "x": [
          0.9083595648324803,
          1.068074121102191,
          1.068074121102191,
          1.0236543743610043
         ],
         "xaxis": "x",
         "y": [
          -1630,
          -1630,
          -1660,
          -1660
         ],
         "yaxis": "y"
        },
        {
         "hoverinfo": "text",
         "marker": {
          "color": "rgb(35,205,205)"
         },
         "mode": "lines",
         "text": [
          "home_isolation_ผู้สูงอายุ ผ่าตัด",
          "",
          "",
          "เอื้อกานต์_มีบุตรยาก_isolation"
         ],
         "type": "scatter",
         "x": [
          0,
          0.8629974033227645,
          0.8629974033227645,
          0
         ],
         "xaxis": "x",
         "y": [
          -1685,
          -1685,
          -1695,
          -1695
         ],
         "yaxis": "y"
        },
        {
         "hoverinfo": "text",
         "marker": {
          "color": "rgb(0,116,217)"
         },
         "mode": "lines",
         "text": [
          "home_isolation_ผู้สูงอายุ ผ่าตัด",
          "",
          "",
          "เอื้อกานต์_มีบุตรยาก_isolation"
         ],
         "type": "scatter",
         "x": [
          1.068074121102191,
          1.0741955112942652,
          1.0741955112942652,
          0.8629974033227645
         ],
         "xaxis": "x",
         "y": [
          -1645,
          -1645,
          -1690,
          -1690
         ],
         "yaxis": "y"
        },
        {
         "hoverinfo": "text",
         "marker": {
          "color": "rgb(0,116,217)"
         },
         "mode": "lines",
         "text": [
          "home_isolation_ผู้สูงอายุ ผ่าตัด",
          "",
          "",
          "เอื้อกานต์_มีบุตรยาก_isolation"
         ],
         "type": "scatter",
         "x": [
          1.1338204411176862,
          1.138003340466957,
          1.138003340466957,
          1.0741955112942652
         ],
         "xaxis": "x",
         "y": [
          -1462.71484375,
          -1462.71484375,
          -1667.5,
          -1667.5
         ],
         "yaxis": "y"
        },
        {
         "hoverinfo": "text",
         "marker": {
          "color": "rgb(61,153,112)"
         },
         "mode": "lines",
         "text": [
          "ฝีดาษ_httpswwwinstagramcombangpakokhospitalline_httpswwwfacebookcombangpakoktiktok",
          "",
          "",
          "httpswwwtiktokcombangpakokhospitalinstagram_httpswwwinstagramcombangpakokhospitalline_httpswwwfacebookcombangpakoktiktok"
         ],
         "type": "scatter",
         "x": [
          0,
          0.7861461132155969,
          0.7861461132155969,
          0
         ],
         "xaxis": "x",
         "y": [
          -1705,
          -1705,
          -1715,
          -1715
         ],
         "yaxis": "y"
        },
        {
         "hoverinfo": "text",
         "marker": {
          "color": "rgb(0,116,217)"
         },
         "mode": "lines",
         "text": [
          "ฝีดาษ_httpswwwinstagramcombangpakokhospitalline_httpswwwfacebookcombangpakoktiktok",
          "",
          "",
          "httpswwwtiktokcombangpakokhospitalinstagram_httpswwwinstagramcombangpakokhospitalline_httpswwwfacebookcombangpakoktiktok"
         ],
         "type": "scatter",
         "x": [
          1.138003340466957,
          1.1581358635026038,
          1.1581358635026038,
          0.7861461132155969
         ],
         "xaxis": "x",
         "y": [
          -1565.107421875,
          -1565.107421875,
          -1710,
          -1710
         ],
         "yaxis": "y"
        },
        {
         "hoverinfo": "text",
         "marker": {
          "color": "rgb(0,116,217)"
         },
         "mode": "lines",
         "text": [
          "ฝีดาษ_httpswwwinstagramcombangpakokhospitalline_httpswwwfacebookcombangpakoktiktok",
          "",
          "",
          "httpswwwtiktokcombangpakokhospitalinstagram_httpswwwinstagramcombangpakokhospitalline_httpswwwfacebookcombangpakoktiktok"
         ],
         "type": "scatter",
         "x": [
          1.0948196895619833,
          1.200190545658289,
          1.200190545658289,
          1.1581358635026038
         ],
         "xaxis": "x",
         "y": [
          -1297.8125,
          -1297.8125,
          -1637.5537109375,
          -1637.5537109375
         ],
         "yaxis": "y"
        },
        {
         "hoverinfo": "text",
         "marker": {
          "color": "rgb(255,65,54)"
         },
         "mode": "lines",
         "text": [
          "ซึมเศร้า_ศูนย์จิตรักษ์_schizophrenia",
          "",
          "",
          "ศูนย์จิตรักษ์_tms_transcranial"
         ],
         "type": "scatter",
         "x": [
          0,
          0.6127328334972042,
          0.6127328334972042,
          0
         ],
         "xaxis": "x",
         "y": [
          -1735,
          -1735,
          -1745,
          -1745
         ],
         "yaxis": "y"
        },
        {
         "hoverinfo": "text",
         "marker": {
          "color": "rgb(255,65,54)"
         },
         "mode": "lines",
         "text": [
          "ภาควิชาจิตเวชศาสตร์_ไบโพลาร์_อารมณ์",
          "",
          "",
          "เศร้า_ซึมเศร้า_tms"
         ],
         "type": "scatter",
         "x": [
          0,
          0.9599343245414806,
          0.9599343245414806,
          0.6127328334972042
         ],
         "xaxis": "x",
         "y": [
          -1725,
          -1725,
          -1740,
          -1740
         ],
         "yaxis": "y"
        },
        {
         "hoverinfo": "text",
         "marker": {
          "color": "rgb(0,116,217)"
         },
         "mode": "lines",
         "text": [
          "ภาควิชาจิตเวชศาสตร์_ไบโพลาร์_อารมณ์",
          "",
          "",
          "เศร้า_ซึมเศร้า_tms"
         ],
         "type": "scatter",
         "x": [
          1.200190545658289,
          1.268882973161635,
          1.268882973161635,
          0.9599343245414806
         ],
         "xaxis": "x",
         "y": [
          -1467.68310546875,
          -1467.68310546875,
          -1732.5,
          -1732.5
         ],
         "yaxis": "y"
        },
        {
         "hoverinfo": "text",
         "marker": {
          "color": "rgb(0,116,217)"
         },
         "mode": "lines",
         "text": [
          "ภาควิชาจิตเวชศาสตร์_ไบโพลาร์_อารมณ์",
          "",
          "",
          "เศร้า_ซึมเศร้า_tms"
         ],
         "type": "scatter",
         "x": [
          1.1790395197257935,
          1.3276093659037493,
          1.3276093659037493,
          1.268882973161635
         ],
         "xaxis": "x",
         "y": [
          -1180.625,
          -1180.625,
          -1600.091552734375,
          -1600.091552734375
         ],
         "yaxis": "y"
        },
        {
         "hoverinfo": "text",
         "marker": {
          "color": "rgb(0,116,217)"
         },
         "mode": "lines",
         "text": [
          "โฮม_ครอบครัว_คอย",
          "",
          "",
          "เศร้า_ซึมเศร้า_tms"
         ],
         "type": "scatter",
         "x": [
          0.7756218195536917,
          1.3423052399260804,
          1.3423052399260804,
          1.3276093659037493
         ],
         "xaxis": "x",
         "y": [
          -1087.5,
          -1087.5,
          -1390.3582763671875,
          -1390.3582763671875
         ],
         "yaxis": "y"
        },
        {
         "hoverinfo": "text",
         "marker": {
          "color": "rgb(35,205,205)"
         },
         "mode": "lines",
         "text": [
          "นอน_นอนไม่หลับ_หลับ",
          "",
          "",
          "หลับ_นอน_แขวงบางกะปิ หลับ"
         ],
         "type": "scatter",
         "x": [
          0,
          0.623208899004551,
          0.623208899004551,
          0
         ],
         "xaxis": "x",
         "y": [
          -1755,
          -1755,
          -1765,
          -1765
         ],
         "yaxis": "y"
        },
        {
         "hoverinfo": "text",
         "marker": {
          "color": "rgb(35,205,205)"
         },
         "mode": "lines",
         "text": [
          "นอน_หลับ_ตื่น",
          "",
          "",
          "หลับ_polysomnography_โซน"
         ],
         "type": "scatter",
         "x": [
          0.623208899004551,
          0.8210911286116143,
          0.8210911286116143,
          0
         ],
         "xaxis": "x",
         "y": [
          -1760,
          -1760,
          -1775,
          -1775
         ],
         "yaxis": "y"
        },
        {
         "hoverinfo": "text",
         "marker": {
          "color": "rgb(0,116,217)"
         },
         "mode": "lines",
         "text": [
          "นอน_หลับ_ตื่น",
          "",
          "",
          "หลับ_polysomnography_โซน"
         ],
         "type": "scatter",
         "x": [
          1.3423052399260804,
          1.355385622778801,
          1.355385622778801,
          0.8210911286116143
         ],
         "xaxis": "x",
         "y": [
          -1238.9291381835938,
          -1238.9291381835938,
          -1767.5,
          -1767.5
         ],
         "yaxis": "y"
        },
        {
         "hoverinfo": "text",
         "marker": {
          "color": "rgb(0,116,217)"
         },
         "mode": "lines",
         "text": [
          "นอน_หลับ_ตื่น",
          "",
          "",
          "หลับ_polysomnography_โซน"
         ],
         "type": "scatter",
         "x": [
          1.2661527537759683,
          1.364336555325637,
          1.364336555325637,
          1.355385622778801
         ],
         "xaxis": "x",
         "y": [
          -1022.5,
          -1022.5,
          -1503.2145690917969,
          -1503.2145690917969
         ],
         "yaxis": "y"
        },
        {
         "hoverinfo": "text",
         "marker": {
          "color": "rgb(0,116,217)"
         },
         "mode": "lines",
         "text": [
          "email_cloudflare_website",
          "",
          "",
          "หลับ_polysomnography_โซน"
         ],
         "type": "scatter",
         "x": [
          0.22902222520717253,
          1.3939940772200814,
          1.3939940772200814,
          1.364336555325637
         ],
         "xaxis": "x",
         "y": [
          -960,
          -960,
          -1262.8572845458984,
          -1262.8572845458984
         ],
         "yaxis": "y"
        },
        {
         "hoverinfo": "text",
         "marker": {
          "color": "rgb(133,20,75)"
         },
         "mode": "lines",
         "text": [
          "phototherapy_bhqeyebangkokhospitalcom_ชัยนิคม",
          "",
          "",
          "bhqeyebangkokhospitalcom_comprehensive_ต้อเนื้อ"
         ],
         "type": "scatter",
         "x": [
          0,
          0.7935851699505552,
          0.7935851699505552,
          0
         ],
         "xaxis": "x",
         "y": [
          -1785,
          -1785,
          -1795,
          -1795
         ],
         "yaxis": "y"
        },
        {
         "hoverinfo": "text",
         "marker": {
          "color": "rgb(133,20,75)"
         },
         "mode": "lines",
         "text": [
          "สายตา_ศูนย์จักษุ_เกียจ",
          "",
          "",
          "เทคโนโลยีเลสิกไร้_bangkoklasikcenter_relex"
         ],
         "type": "scatter",
         "x": [
          0,
          0.7807397213326238,
          0.7807397213326238,
          0
         ],
         "xaxis": "x",
         "y": [
          -1805,
          -1805,
          -1815,
          -1815
         ],
         "yaxis": "y"
        },
        {
         "hoverinfo": "text",
         "marker": {
          "color": "rgb(133,20,75)"
         },
         "mode": "lines",
         "text": [
          "สายตา_ศูนย์จักษุ_เกียจ",
          "",
          "",
          "ต้อกระจก_สายตา_จอ"
         ],
         "type": "scatter",
         "x": [
          0.7807397213326238,
          0.8118787265095789,
          0.8118787265095789,
          0
         ],
         "xaxis": "x",
         "y": [
          -1810,
          -1810,
          -1825,
          -1825
         ],
         "yaxis": "y"
        },
        {
         "hoverinfo": "text",
         "marker": {
          "color": "rgb(133,20,75)"
         },
         "mode": "lines",
         "text": [
          "สายตา_ศูนย์จักษุ_เกียจ",
          "",
          "",
          "ต้อกระจก_สายตา_จอ"
         ],
         "type": "scatter",
         "x": [
          0.7935851699505552,
          0.9978125837339585,
          0.9978125837339585,
          0.8118787265095789
         ],
         "xaxis": "x",
         "y": [
          -1790,
          -1790,
          -1817.5,
          -1817.5
         ],
         "yaxis": "y"
        },
        {
         "hoverinfo": "text",
         "marker": {
          "color": "rgb(0,116,217)"
         },
         "mode": "lines",
         "text": [
          "สายตา_ศูนย์จักษุ_เกียจ",
          "",
          "",
          "ต้อกระจก_สายตา_จอ"
         ],
         "type": "scatter",
         "x": [
          1.3939940772200814,
          1.4120405143747776,
          1.4120405143747776,
          0.9978125837339585
         ],
         "xaxis": "x",
         "y": [
          -1111.4286422729492,
          -1111.4286422729492,
          -1803.75,
          -1803.75
         ],
         "yaxis": "y"
        },
        {
         "hoverinfo": "text",
         "marker": {
          "color": "rgb(0,116,217)"
         },
         "mode": "lines",
         "text": [
          "สายตา_ศูนย์จักษุ_เกียจ",
          "",
          "",
          "ต้อกระจก_สายตา_จอ"
         ],
         "type": "scatter",
         "x": [
          1.1220404879287544,
          1.486598550238189,
          1.486598550238189,
          1.4120405143747776
         ],
         "xaxis": "x",
         "y": [
          -901.875,
          -901.875,
          -1457.5893211364746,
          -1457.5893211364746
         ],
         "yaxis": "y"
        },
        {
         "hoverinfo": "text",
         "marker": {
          "color": "rgb(0,116,217)"
         },
         "mode": "lines",
         "text": [
          "สายตา_ศูนย์จักษุ_เกียจ",
          "",
          "",
          "ต้อกระจก_สายตา_จอ"
         ],
         "type": "scatter",
         "x": [
          1.4477165434668517,
          1.5115607045541894,
          1.5115607045541894,
          1.486598550238189
         ],
         "xaxis": "x",
         "y": [
          -774.375,
          -774.375,
          -1179.7321605682373,
          -1179.7321605682373
         ],
         "yaxis": "y"
        },
        {
         "hoverinfo": "text",
         "marker": {
          "color": "rgb(0,116,217)"
         },
         "mode": "lines",
         "text": [
          "สายตา_ศูนย์จักษุ_เกียจ",
          "",
          "",
          "ต้อกระจก_สายตา_จอ"
         ],
         "type": "scatter",
         "x": [
          1.3029594387760304,
          1.5333370626177159,
          1.5333370626177159,
          1.5115607045541894
         ],
         "xaxis": "x",
         "y": [
          -480.625,
          -480.625,
          -977.0535802841187,
          -977.0535802841187
         ],
         "yaxis": "y"
        },
        {
         "hoverinfo": "text",
         "marker": {
          "color": "rgb(0,116,217)"
         },
         "mode": "lines",
         "text": [
          "สายตา_ศูนย์จักษุ_เกียจ",
          "",
          "",
          "ต้อกระจก_สายตา_จอ"
         ],
         "type": "scatter",
         "x": [
          1.3700154483888338,
          1.6079915487941325,
          1.6079915487941325,
          1.5333370626177159
         ],
         "xaxis": "x",
         "y": [
          -184.6875,
          -184.6875,
          -728.8392901420593,
          -728.8392901420593
         ],
         "yaxis": "y"
        },
        {
         "hoverinfo": "text",
         "marker": {
          "color": "rgb(255,220,0)"
         },
         "mode": "lines",
         "text": [
          "ไหล่_สถาบันเวชศาสตร์การ_เข่า",
          "",
          "",
          "กีฬา_สถาบันเวชศาสตร์การ_ฟุตบอล"
         ],
         "type": "scatter",
         "x": [
          0,
          0.7145297652637623,
          0.7145297652637623,
          0
         ],
         "xaxis": "x",
         "y": [
          -1845,
          -1845,
          -1855,
          -1855
         ],
         "yaxis": "y"
        },
        {
         "hoverinfo": "text",
         "marker": {
          "color": "rgb(255,220,0)"
         },
         "mode": "lines",
         "text": [
          "สถาบันเวชศาสตร์การ_ฟิต_gerd",
          "",
          "",
          "กีฬา_สถาบันเวชศาสตร์การ_ฟุตบอล"
         ],
         "type": "scatter",
         "x": [
          0,
          0.8194993524708034,
          0.8194993524708034,
          0.7145297652637623
         ],
         "xaxis": "x",
         "y": [
          -1835,
          -1835,
          -1850,
          -1850
         ],
         "yaxis": "y"
        },
        {
         "hoverinfo": "text",
         "marker": {
          "color": "rgb(255,220,0)"
         },
         "mode": "lines",
         "text": [
          "เอ็น_ไหล่_ฉีกขาด",
          "",
          "",
          "กีฬา_รศนพชลวิชจันทร์ลลิต_บาดเจ็บ"
         ],
         "type": "scatter",
         "x": [
          0,
          0.7757049613264941,
          0.7757049613264941,
          0
         ],
         "xaxis": "x",
         "y": [
          -1865,
          -1865,
          -1875,
          -1875
         ],
         "yaxis": "y"
        },
        {
         "hoverinfo": "text",
         "marker": {
          "color": "rgb(255,220,0)"
         },
         "mode": "lines",
         "text": [
          "เอ็น_ไหล่_ฉีกขาด",
          "",
          "",
          "กีฬา_รศนพชลวิชจันทร์ลลิต_บาดเจ็บ"
         ],
         "type": "scatter",
         "x": [
          0.8194993524708034,
          0.9740451045500212,
          0.9740451045500212,
          0.7757049613264941
         ],
         "xaxis": "x",
         "y": [
          -1842.5,
          -1842.5,
          -1870,
          -1870
         ],
         "yaxis": "y"
        },
        {
         "hoverinfo": "text",
         "marker": {
          "color": "rgb(40,35,35)"
         },
         "mode": "lines",
         "text": [
          "ข้อเข่า_ข้อเข่าเสื่อม_osteoarthritis",
          "",
          "",
          "เข่า_โรงพยาบาลเปาโลเกษตร เข่า_ข้อเข่า"
         ],
         "type": "scatter",
         "x": [
          0,
          0.7032048031202325,
          0.7032048031202325,
          0
         ],
         "xaxis": "x",
         "y": [
          -1885,
          -1885,
          -1895,
          -1895
         ],
         "yaxis": "y"
        },
        {
         "hoverinfo": "text",
         "marker": {
          "color": "rgb(40,35,35)"
         },
         "mode": "lines",
         "text": [
          "ข้อเข่า_ข้อเข่าเสื่อม_osteoarthritis",
          "",
          "",
          "บริหาร_พยาบาลเปาโลรังสิตline_พยาบาลเปาโลรังสิต"
         ],
         "type": "scatter",
         "x": [
          0.7032048031202325,
          0.8281151746791736,
          0.8281151746791736,
          0
         ],
         "xaxis": "x",
         "y": [
          -1890,
          -1890,
          -1905,
          -1905
         ],
         "yaxis": "y"
        },
        {
         "hoverinfo": "text",
         "marker": {
          "color": "rgb(61,153,112)"
         },
         "mode": "lines",
         "text": [
          "ออทิสติก_ศูนย์ศัลยกรรมออร์โธปิดิกส์_หัก",
          "",
          "",
          "โรงพยาบาลเปาโลเกษตร อาการ_หัก_โรงพยาบาลเปาโลเกษตรโทร"
         ],
         "type": "scatter",
         "x": [
          0,
          0.8883876094062566,
          0.8883876094062566,
          0
         ],
         "xaxis": "x",
         "y": [
          -1915,
          -1915,
          -1925,
          -1925
         ],
         "yaxis": "y"
        },
        {
         "hoverinfo": "text",
         "marker": {
          "color": "rgb(61,153,112)"
         },
         "mode": "lines",
         "text": [
          "ศูนย์ศัลยกรรมออร์โธปิดิกส์_กระดูก_สัน",
          "",
          "",
          "คด_กรรไกร_srisamranmd"
         ],
         "type": "scatter",
         "x": [
          0,
          0.8156162689656548,
          0.8156162689656548,
          0
         ],
         "xaxis": "x",
         "y": [
          -1945,
          -1945,
          -1955,
          -1955
         ],
         "yaxis": "y"
        },
        {
         "hoverinfo": "text",
         "marker": {
          "color": "rgb(61,153,112)"
         },
         "mode": "lines",
         "text": [
          "orthopaoloplsfacebook_mri_พยาบาลเปาโลสมุทรปราการ",
          "",
          "",
          "คด_กรรไกร_srisamranmd"
         ],
         "type": "scatter",
         "x": [
          0,
          0.9388819928845187,
          0.9388819928845187,
          0.8156162689656548
         ],
         "xaxis": "x",
         "y": [
          -1935,
          -1935,
          -1950,
          -1950
         ],
         "yaxis": "y"
        },
        {
         "hoverinfo": "text",
         "marker": {
          "color": "rgb(61,153,112)"
         },
         "mode": "lines",
         "text": [
          "orthopaoloplsfacebook_mri_พยาบาลเปาโลสมุทรปราการ",
          "",
          "",
          "คด_กรรไกร_srisamranmd"
         ],
         "type": "scatter",
         "x": [
          0.8883876094062566,
          0.9602746407706634,
          0.9602746407706634,
          0.9388819928845187
         ],
         "xaxis": "x",
         "y": [
          -1920,
          -1920,
          -1942.5,
          -1942.5
         ],
         "yaxis": "y"
        },
        {
         "hoverinfo": "text",
         "marker": {
          "color": "rgb(0,116,217)"
         },
         "mode": "lines",
         "text": [
          "orthopaoloplsfacebook_mri_พยาบาลเปาโลสมุทรปราการ",
          "",
          "",
          "คด_กรรไกร_srisamranmd"
         ],
         "type": "scatter",
         "x": [
          0.8281151746791736,
          1.1918720693862632,
          1.1918720693862632,
          0.9602746407706634
         ],
         "xaxis": "x",
         "y": [
          -1897.5,
          -1897.5,
          -1931.25,
          -1931.25
         ],
         "yaxis": "y"
        },
        {
         "hoverinfo": "text",
         "marker": {
          "color": "rgb(0,116,217)"
         },
         "mode": "lines",
         "text": [
          "orthopaoloplsfacebook_mri_พยาบาลเปาโลสมุทรปราการ",
          "",
          "",
          "คด_กรรไกร_srisamranmd"
         ],
         "type": "scatter",
         "x": [
          0.9740451045500212,
          1.2672290783083484,
          1.2672290783083484,
          1.1918720693862632
         ],
         "xaxis": "x",
         "y": [
          -1856.25,
          -1856.25,
          -1914.375,
          -1914.375
         ],
         "yaxis": "y"
        },
        {
         "hoverinfo": "text",
         "marker": {
          "color": "rgb(255,65,54)"
         },
         "mode": "lines",
         "text": [
          "discectomy_ประสาทสรีรวิทยา_neuromonitoring",
          "",
          "",
          "อินเตอร์เวนชั่น_กรุงเทพมหานคร สัน_intraoperative"
         ],
         "type": "scatter",
         "x": [
          0,
          0.7117151569517519,
          0.7117151569517519,
          0
         ],
         "xaxis": "x",
         "y": [
          -1965,
          -1965,
          -1975,
          -1975
         ],
         "yaxis": "y"
        },
        {
         "hoverinfo": "text",
         "marker": {
          "color": "rgb(255,65,54)"
         },
         "mode": "lines",
         "text": [
          "ซอยศูนย์วิจัย_กรุงเทพมหานคร_ศูนย์การรักษา",
          "",
          "",
          "สะโพก_เทียม_เอ็นด้าน"
         ],
         "type": "scatter",
         "x": [
          0,
          0.7443673787955559,
          0.7443673787955559,
          0
         ],
         "xaxis": "x",
         "y": [
          -1995,
          -1995,
          -2005,
          -2005
         ],
         "yaxis": "y"
        },
        {
         "hoverinfo": "text",
         "marker": {
          "color": "rgb(255,65,54)"
         },
         "mode": "lines",
         "text": [
          "ซอยศูนย์วิจัย_ลิ่ม_ศูนย์การรักษา",
          "",
          "",
          "สะโพก_เทียม_เอ็นด้าน"
         ],
         "type": "scatter",
         "x": [
          0,
          0.8020012412962372,
          0.8020012412962372,
          0.7443673787955559
         ],
         "xaxis": "x",
         "y": [
          -1985,
          -1985,
          -2000,
          -2000
         ],
         "yaxis": "y"
        },
        {
         "hoverinfo": "text",
         "marker": {
          "color": "rgb(255,65,54)"
         },
         "mode": "lines",
         "text": [
          "ซอยศูนย์วิจัย_ลิ่ม_ศูนย์การรักษา",
          "",
          "",
          "สะโพก_เทียม_เอ็นด้าน"
         ],
         "type": "scatter",
         "x": [
          0.7117151569517519,
          0.9813295491275525,
          0.9813295491275525,
          0.8020012412962372
         ],
         "xaxis": "x",
         "y": [
          -1970,
          -1970,
          -1992.5,
          -1992.5
         ],
         "yaxis": "y"
        },
        {
         "hoverinfo": "text",
         "marker": {
          "color": "rgb(35,205,205)"
         },
         "mode": "lines",
         "text": [
          "แขวงบางกะปิ_ติดต่อ_เกี่ยว",
          "",
          "",
          "แขวงบางกะปิ_เกี่ยว_ติดต่อ"
         ],
         "type": "scatter",
         "x": [
          0,
          0.5015917280405362,
          0.5015917280405362,
          0
         ],
         "xaxis": "x",
         "y": [
          -2025,
          -2025,
          -2035,
          -2035
         ],
         "yaxis": "y"
        },
        {
         "hoverinfo": "text",
         "marker": {
          "color": "rgb(35,205,205)"
         },
         "mode": "lines",
         "text": [
          "ติดต่อ_ซอยศูนย์วิจัย_กรุงเทพมหานคร",
          "",
          "",
          "ข่าวสาร_ค้นหา_เกี่ยว"
         ],
         "type": "scatter",
         "x": [
          0,
          0.6987266893327506,
          0.6987266893327506,
          0.5015917280405362
         ],
         "xaxis": "x",
         "y": [
          -2015,
          -2015,
          -2030,
          -2030
         ],
         "yaxis": "y"
        },
        {
         "hoverinfo": "text",
         "marker": {
          "color": "rgb(0,116,217)"
         },
         "mode": "lines",
         "text": [
          "ติดต่อ_ซอยศูนย์วิจัย_กรุงเทพมหานคร",
          "",
          "",
          "ข่าวสาร_ค้นหา_เกี่ยว"
         ],
         "type": "scatter",
         "x": [
          0.9813295491275525,
          1.134788837844877,
          1.134788837844877,
          0.6987266893327506
         ],
         "xaxis": "x",
         "y": [
          -1981.25,
          -1981.25,
          -2022.5,
          -2022.5
         ],
         "yaxis": "y"
        },
        {
         "hoverinfo": "text",
         "marker": {
          "color": "rgb(0,116,217)"
         },
         "mode": "lines",
         "text": [
          "ติดต่อ_ซอยศูนย์วิจัย_กรุงเทพมหานคร",
          "",
          "",
          "ข่าวสาร_ค้นหา_เกี่ยว"
         ],
         "type": "scatter",
         "x": [
          1.2672290783083484,
          1.5513815565744382,
          1.5513815565744382,
          1.134788837844877
         ],
         "xaxis": "x",
         "y": [
          -1885.3125,
          -1885.3125,
          -2001.875,
          -2001.875
         ],
         "yaxis": "y"
        },
        {
         "hoverinfo": "text",
         "marker": {
          "color": "rgb(0,116,217)"
         },
         "mode": "lines",
         "text": [
          "ติดต่อ_ซอยศูนย์วิจัย_กรุงเทพมหานคร",
          "",
          "",
          "ข่าวสาร_ค้นหา_เกี่ยว"
         ],
         "type": "scatter",
         "x": [
          1.6079915487941325,
          1.7908226643324339,
          1.7908226643324339,
          1.5513815565744382
         ],
         "xaxis": "x",
         "y": [
          -456.76339507102966,
          -456.76339507102966,
          -1943.59375,
          -1943.59375
         ],
         "yaxis": "y"
        },
        {
         "hoverinfo": "text",
         "marker": {
          "color": "rgb(0,116,217)"
         },
         "mode": "lines",
         "text": [
          "ติดต่อ_ซอยศูนย์วิจัย_กรุงเทพมหานคร",
          "",
          "",
          "ข่าวสาร_ค้นหา_เกี่ยว"
         ],
         "type": "scatter",
         "x": [
          1.055624958015637,
          1.8501253401486553,
          1.8501253401486553,
          1.7908226643324339
         ],
         "xaxis": "x",
         "y": [
          -81.71875,
          -81.71875,
          -1200.1785725355148,
          -1200.1785725355148
         ],
         "yaxis": "y"
        },
        {
         "hoverinfo": "text",
         "hovertext": [
          "ลมแดด_ร้อน_heatstroke",
          "บทความ_แพ็กเกจโปรโมชั่น_ราคา",
          "โรงพยาบาลพิษณุเวช เสื่อม_ข้อเข่า_แพ็กเกจโปรโมชั่น หัก",
          "โรงพยาบาลพิษณุเวช เสื่อม_ข้อเข่า_แพ็กเกจโปรโมชั่น หัก",
          "แพ็กเกจโปรโมชั่น_ราคา_ค้นหา",
          "แพ็กเกจโปรโมชั่น_ราคา_ค้นหา",
          "แพ็กเกจโปรโมชั่น_ราคา_ค้นหา",
          "ไข่_iui_ตัน",
          "ไข่_iui_ตัน",
          "ครรภ์_highlights_นพสุรเชษฐ์อภินิล",
          "ห้อง_แม่_บทความ",
          "นมแม่_นม_breastfeeding",
          "นมแม่_นม_breastfeeding",
          "พอร์ตเคมีบำบัด_ขอด_ฟอก",
          "พอร์ตเคมีบำบัด_ขอด_ฟอก",
          "พอร์ตเคมีบำบัด_ขอด_ฟอก",
          "httpswwwbangkokhospitalcom_พยาบาลข่าวสาร_อ้อมกอด",
          "vitamin_บรรจุ_ไทรอยด์",
          "pylori_เจ_เทศกาล",
          "พยาบาลเปาโลโชคชัย สุขภาพ_โรงพยาบาลเปาโลเกษตร ตรวจ_โรงพยาบาลเปาโลเกษตร สุขภาพ",
          "eq_design_ละออง",
          "eq_design_ละออง",
          "ฮอร์โมน_สมรรถภาพ_เพศ",
          "ฮอร์โมน_สมรรถภาพ_เพศ",
          "ฮอร์โมน_สมรรถภาพ_เพศ",
          "ฮอร์โมน_สมรรถภาพ_เพศ",
          "laparoscopic_งอก_cholecystectomy",
          "ปอด_กลีบ_pneumonectomy",
          "ปอด_กลีบ_pneumonectomy",
          "เต้านม_โรงพยาบาลเปาโลเกษตร เต้านม_พยาบาลเปาโลโชคชัย เต้านม",
          "เต้านม_โรงพยาบาลเปาโลเกษตร เต้านม_พยาบาลเปาโลโชคชัย เต้านม",
          "เต้านม_โรงพยาบาลเปาโลเกษตร เต้านม_พยาบาลเปาโลโชคชัย เต้านม",
          "เต้านม_โรงพยาบาลเปาโลเกษตร เต้านม_พยาบาลเปาโลโชคชัย เต้านม",
          "พัฒนาการ_ศูนย์กุมารเวช_invisalign",
          "พัฒนาการ_ศูนย์กุมารเวช_invisalign",
          "โรต้า_rsv_พยาบาลเปาโลโชคชัย ไวรัส",
          "ฟัน_ทันตแพทย์_ช่องปาก",
          "ไข้หวัดใหญ่_ไข้หวัดใหญ่ ไข้หวัดใหญ่_ฝน",
          "moderna_วัคซีน_ฉีด",
          "moderna_วัคซีน_ฉีด",
          "moderna_วัคซีน_ฉีด",
          "moderna_วัคซีน_ฉีด",
          "หัวใจ_เต้น_ตีบ",
          "หัวใจ_เต้น_ตีบ",
          "ภูมิแพ้_ทดสอบภูมิแพ้_จมูกอักเสบ",
          "กระชับ_hyperbaric_ผิว",
          "ฝ้า_พญกมลวรรณพงศ์ปริตร_ประเทศเกาหลี",
          "ฝ้า_พญกมลวรรณพงศ์ปริตร_ประเทศเกาหลี",
          "โฮม_คอย_ครอบครัว",
          "กาแฟ_พญพัชรนันท์ศรีพัฒนวัชร์_อ่อนล้าเรื้อรัง",
          "ข้าว_วัว_คาร์โบไฮเดรต",
          "ข้าว_วัว_คาร์โบไฮเดรต",
          "ดัน_โรงพยาบาลเปาโลเกษตร ไต_โรงพยาบาลเปาโลเกษตร โลหิต",
          "ดัน_โรงพยาบาลเปาโลเกษตร ไต_โรงพยาบาลเปาโลเกษตร โลหิต",
          "น้ำตา_ระดับ_ต่ำ",
          "น้ำตา_ระดับ_ต่ำ",
          "กาย_training_การออกกำลังกาย",
          "physiotherapy_ออฟฟิศซินโดรม_คลาย",
          "รองเท้า_หัวแม่_อุ้งเท้า",
          "รองเท้า_หัวแม่_อุ้งเท้า",
          "หู_ได้ยิน_ฟัง",
          "infopetcharavejcom_petcharavej_พนักงา",
          "barbudaargentinaarmenia_saintpierreetmiquelon_caledonianouvellecale",
          "พาร์กิน_ถั่ง_httpsbookingprinchealthcomparkinsoncon",
          "บุฟเฟ่ต์_ฟอง_เช้า",
          "บุฟเฟ่ต์_ฟอง_เช้า",
          "บุฟเฟ่ต์_ฟอง_เช้า",
          "ไมเกรน_ศีรษะ_ซอยศูนย์วิจัย ไมเกรน",
          "ไมเกรน_ศีรษะ_ซอยศูนย์วิจัย ไมเกรน",
          "พยาธิ_พิษ_กัด",
          "พยาธิ_พิษ_กัด",
          "พยาธิ_พิษ_กัด",
          "อุดกั้น_คลุม_ไตรมาส",
          "อุดกั้น_คลุม_ไตรมาส",
          "home_isolation_ผู้สูงอายุ ผ่าตัด",
          "home_isolation_ผู้สูงอายุ ผ่าตัด",
          "ฝีดาษ_httpswwwinstagramcombangpakokhospitalline_httpswwwfacebookcombangpakoktiktok",
          "ฝีดาษ_httpswwwinstagramcombangpakokhospitalline_httpswwwfacebookcombangpakoktiktok",
          "ภาควิชาจิตเวชศาสตร์_ไบโพลาร์_อารมณ์",
          "ภาควิชาจิตเวชศาสตร์_ไบโพลาร์_อารมณ์",
          "โฮม_ครอบครัว_คอย",
          "นอน_หลับ_ตื่น",
          "นอน_หลับ_ตื่น",
          "นอน_หลับ_ตื่น",
          "email_cloudflare_website",
          "สายตา_ศูนย์จักษุ_เกียจ",
          "สายตา_ศูนย์จักษุ_เกียจ",
          "สายตา_ศูนย์จักษุ_เกียจ",
          "สายตา_ศูนย์จักษุ_เกียจ",
          "สายตา_ศูนย์จักษุ_เกียจ",
          "สายตา_ศูนย์จักษุ_เกียจ",
          "สายตา_ศูนย์จักษุ_เกียจ",
          "เอ็น_ไหล่_ฉีกขาด",
          "ข้อเข่า_ข้อเข่าเสื่อม_osteoarthritis",
          "orthopaoloplsfacebook_mri_พยาบาลเปาโลสมุทรปราการ",
          "orthopaoloplsfacebook_mri_พยาบาลเปาโลสมุทรปราการ",
          "orthopaoloplsfacebook_mri_พยาบาลเปาโลสมุทรปราการ",
          "ซอยศูนย์วิจัย_ลิ่ม_ศูนย์การรักษา",
          "ติดต่อ_ซอยศูนย์วิจัย_กรุงเทพมหานคร",
          "ติดต่อ_ซอยศูนย์วิจัย_กรุงเทพมหานคร",
          "ติดต่อ_ซอยศูนย์วิจัย_กรุงเทพมหานคร",
          "ติดต่อ_ซอยศูนย์วิจัย_กรุงเทพมหานคร"
         ],
         "marker": {
          "color": "black"
         },
         "mode": "markers",
         "showlegend": false,
         "type": "scatter",
         "x": [
          0.9104078442605189,
          0.6334747681469783,
          0.8566376466270167,
          0.9595830242505183,
          0.6631387904015851,
          0.8166169735152073,
          0.9786351101905079,
          0.7484494282900276,
          0.8073325696301062,
          0.8002381875217666,
          0.6317343487559813,
          0.9813314828667388,
          0.8719874234650358,
          0.858709413648263,
          0.8945930844536324,
          0.9712471363333125,
          1.0488081758412806,
          0.9096205716356585,
          0.9296455493092076,
          0.9940367528469821,
          0.8802914417720693,
          1.0404815545483224,
          0.8285308399169375,
          1.0698141975620086,
          1.1105715744644642,
          1.1602172439616543,
          0.8614589055022935,
          0.898779078901902,
          0.8305518640160077,
          0.8049320285257501,
          1.0042340491051385,
          0.906073739337895,
          1.1987820076522027,
          0.7650568151224837,
          0.8187482632811491,
          1.0054812980668513,
          0.7847942147175394,
          0.8463001228176144,
          0.7626306232503393,
          0.8059427503682123,
          0.9557902136264397,
          1.357334597738187,
          0.6221279175393581,
          0.9608190862795286,
          0.9254701242953737,
          0.8229676138111076,
          0.8403425573967037,
          0.9623081112544623,
          0.6613189397810058,
          0.8804767750267641,
          0.915396906353595,
          0.9330757918131513,
          0.8251252798954585,
          0.9270875949801607,
          1.0900716847725398,
          1.0913214492103491,
          0.8889176959586378,
          0.9388162940322404,
          0.9992538703775451,
          0.8198738671087854,
          0.8767739141889112,
          0.9612161011070763,
          0.9949251644579066,
          1.014041188852141,
          0.944010486557989,
          0.9719240568301403,
          1.02220519944272,
          0.8999534519327568,
          1.0315941933111934,
          0.9830977722462281,
          1.0653909122129968,
          0.9179260858329189,
          0.9228474923697212,
          0.9083595648324803,
          1.068074121102191,
          1.1338204411176862,
          1.138003340466957,
          1.0948196895619833,
          1.200190545658289,
          1.1790395197257935,
          0.7756218195536917,
          0.623208899004551,
          1.3423052399260804,
          1.2661527537759683,
          0.22902222520717253,
          0.7807397213326238,
          0.7935851699505552,
          1.3939940772200814,
          1.1220404879287544,
          1.4477165434668517,
          1.3029594387760304,
          1.3700154483888338,
          0.8194993524708034,
          0.7032048031202325,
          0.8883876094062566,
          0.8281151746791736,
          0.9740451045500212,
          0.7117151569517519,
          0.9813295491275525,
          1.2672290783083484,
          1.6079915487941325,
          1.055624958015637
         ],
         "y": [
          -12.5,
          -60,
          -56.25,
          -23.75,
          -100,
          -107.5,
          -47.1875,
          -140,
          -147.5,
          -200,
          -180,
          -193.75,
          -156.25,
          -310,
          -290,
          -262.5,
          -283.125,
          -362.5,
          -420,
          -430,
          -480,
          -445,
          -510,
          -466.25,
          -377.5,
          -311.5625,
          -542.5,
          -600,
          -580,
          -640,
          -595,
          -553.75,
          -373.125,
          -730,
          -710,
          -725,
          -682.5,
          -800,
          -840,
          -847.5,
          -810,
          -715.625,
          -910,
          -882.5,
          -982.5,
          -1030,
          -1037.5,
          -996.25,
          -1080,
          -1110,
          -1142.5,
          -1117.5,
          -1210,
          -1182.5,
          -1201.25,
          -1135.625,
          -1290,
          -1297.5,
          -1308.75,
          -1270,
          -1370,
          -1410,
          -1406.25,
          -1424.375,
          -1490,
          -1497.5,
          -1447.1875,
          -1530,
          -1476.71875,
          -1572.5,
          -1508.359375,
          -1377.5,
          -1650,
          -1630,
          -1645,
          -1462.71484375,
          -1565.107421875,
          -1297.8125,
          -1467.68310546875,
          -1180.625,
          -1087.5,
          -1760,
          -1238.9291381835938,
          -1022.5,
          -960,
          -1810,
          -1790,
          -1111.4286422729492,
          -901.875,
          -774.375,
          -480.625,
          -184.6875,
          -1842.5,
          -1890,
          -1920,
          -1897.5,
          -1856.25,
          -1970,
          -1981.25,
          -1885.3125,
          -456.76339507102966,
          -81.71875
         ]
        },
        {
         "hoverinfo": "text",
         "hovertext": [
          "นพปรัชญ์พิพัฒน์วัฒนา_พยาบาลพริ้นซ์สุวรรณภูมิ_นพเกษมศักดิ์พยุงธนทรัพย์",
          "แพ็กเกจโปรโมชั่น _โรงพยาบาลพิษณุเวช_ดู",
          "บริจาค_princsuvarnabhumipodcast_โรงพยาบาลพิษณุเวช ไต",
          "kcal_พยาบาลเปาโลโชคชัย เบาหวาน_ขนม",
          "receptivity_แท้ง_ครรภ์",
          "ศูนย์สุขภาพ_บทบาท_สิ้นสุด",
          "ศูนย์สุขภาพ_บทบาท_สิ้นสุด",
          "ศูนย์สุขภาพ_บทบาท_สิ้นสุด",
          "incontinence_ปัสสาวะ_อุดตัน",
          "ท้อง_แน่นหน้าอก_bhqsurgery",
          "ท้อง_แน่นหน้าอก_bhqsurgery",
          "httpswwwbangkokhospitalcom_ข้อมูล_พยาบาลข่าวสาร",
          "tavi_พยาบาลเปาโลโชคชัย ส่อง_พยาบาลเปาโลโชคชัย ไทรอยด์",
          "ไทรอยด์_thyroiditis_fistula",
          "ไทรอยด์_thyroiditis_fistula",
          "ฉุกเฉิน_ems_โรงพยาบาลเปาโลเกษตร ไส้",
          "โรงพยาบาลเปาโลเกษตร ผู้สูงอายุ_สมดุล_กิจกรรม",
          "circumcision_ขลิบ_ยาง",
          "คุมกำเนิด_เซ็กส์_ช่อง",
          "คุมกำเนิด_เซ็กส์_ช่อง",
          "คุมกำเนิด_เซ็กส์_ช่อง",
          "minilaparotomy_บุ_มดลูก",
          "ปอด_colonoscopy_กางเกง",
          "ปอด_colonoscopy_กางเกง",
          "เต้านม_คลำ_เอกซเรย์เต้านม",
          "เต้านม_คลำ_เอกซเรย์เต้านม",
          "เต้านม_คลำ_เอกซเรย์เต้านม",
          "เต้านม_คลำ_เอกซเรย์เต้านม",
          "ฟัน_มั่นใจ_ทันตแพทย์",
          "bmcpedbghcoth_ศูนย์กุมารเวช_พยาบาลเปาโลโชคชัย ไข้",
          "bmcpedbghcoth_ศูนย์กุมารเวช_พยาบาลเปาโลโชคชัย ไข้",
          "บี_ซี_ไวรัส",
          "บี_ซี_ไวรัส",
          "บี_ซี_ไวรัส",
          "วัคซีน_ไข้หวัดใหญ่_ประสิทธิภาพ ไข้หวัดใหญ่",
          "ฉีด_วัคซีน_httpswwwfacebookcompraramhospital",
          "ฉีด_วัคซีน_httpswwwfacebookcompraramhospital",
          "เต้น_จังหวะ_อรพินชวาลย์กุล",
          "หลอด_สมอง_บิน",
          "หลอด_สมอง_บิน",
          "หลอด_สมอง_บิน",
          "ภูมิแพ้_hospitel_อะดีโน",
          "ภูมิแพ้_โรงพยาบาลกรุงเทพวันจันทร์_แพ้",
          "httpswwwhopkinsmedicineorghealthtreatmenttestsandtherapiesbreastmri_httpswwwchulacancernetpatientlistpagephpid_hospice",
          "httpswwwhopkinsmedicineorghealthtreatmenttestsandtherapiesbreastmri_httpswwwchulacancernetpatientlistpagephpid_hospice",
          "ผลไม้_น้ำมันรำข้าว_ผัก",
          "แช่_เก๊าท์_ริม",
          "ซิกแพค_แอลคาร์นิทีน_อ้วน",
          "ดัน_มุก_ตะไคร้",
          "ดัน_มุก_ตะไคร้",
          "อินซูลิน_สล็อต_โรงพยาบาลกรุงเทพจันทร์",
          "อินซูลิน_สล็อต_โรงพยาบาลกรุงเทพจันทร์",
          "นิ้ว_คอมพิวเตอร์_มือ",
          "มือเท้าปาก_ปาก_enterovirus",
          "มือเท้าปาก_ปาก_enterovirus",
          "มือเท้าปาก_ปาก_enterovirus",
          "ต้อ_ุ้น_เทโลเมียร์",
          "เล่ม_ฉบับ_คลิก",
          "เล่ม_ฉบับ_คลิก",
          "httpswwwncbinlmnihgovpmcarticlespmc_lcarnitine_มมปรอท",
          "hydrocephalus_จิตตก_adrenaline",
          "มอล_พาราเซตา_warfarin",
          "มอล_พาราเซตา_warfarin",
          "งู_สวัด_โรงพยาบาลเปาโลเกษตร สวัด",
          "เรียกิน_แบคที_streptococcus",
          "เรียกิน_แบคที_streptococcus",
          "เรียกิน_แบคที_streptococcus",
          "เรียกิน_แบคที_streptococcus",
          "บุหรี่_สูบ_เลิก",
          "บุหรี่_สูบ_เลิก",
          "เอื้อกานต์_มีบุตรยาก_isolation",
          "เอื้อกานต์_มีบุตรยาก_isolation",
          "httpswwwtiktokcombangpakokhospitalinstagram_httpswwwinstagramcombangpakokhospitalline_httpswwwfacebookcombangpakoktiktok",
          "httpswwwtiktokcombangpakokhospitalinstagram_httpswwwinstagramcombangpakokhospitalline_httpswwwfacebookcombangpakoktiktok",
          "เศร้า_ซึมเศร้า_tms",
          "เศร้า_ซึมเศร้า_tms",
          "เศร้า_ซึมเศร้า_tms",
          "เศร้า_ซึมเศร้า_tms",
          "หลับ_polysomnography_โซน",
          "หลับ_polysomnography_โซน",
          "หลับ_polysomnography_โซน",
          "ต้อกระจก_สายตา_จอ",
          "ต้อกระจก_สายตา_จอ",
          "ต้อกระจก_สายตา_จอ",
          "ต้อกระจก_สายตา_จอ",
          "ต้อกระจก_สายตา_จอ",
          "ต้อกระจก_สายตา_จอ",
          "กีฬา_สถาบันเวชศาสตร์การ_ฟุตบอล",
          "กีฬา_รศนพชลวิชจันทร์ลลิต_บาดเจ็บ",
          "คด_กรรไกร_srisamranmd",
          "คด_กรรไกร_srisamranmd",
          "คด_กรรไกร_srisamranmd",
          "คด_กรรไกร_srisamranmd",
          "สะโพก_เทียม_เอ็นด้าน",
          "สะโพก_เทียม_เอ็นด้าน",
          "ข่าวสาร_ค้นหา_เกี่ยว",
          "ข่าวสาร_ค้นหา_เกี่ยว",
          "ข่าวสาร_ค้นหา_เกี่ยว",
          "ข่าวสาร_ค้นหา_เกี่ยว",
          "ข่าวสาร_ค้นหา_เกี่ยว"
         ],
         "marker": {
          "color": "black"
         },
         "mode": "markers",
         "showlegend": false,
         "type": "scatter",
         "x": [
          0.8604191191140541,
          0.7702706980704912,
          0.9051265099383271,
          0.9494237102326626,
          0.8630266481181592,
          0.7856277868495477,
          0.9250955972812634,
          1.0176407844420046,
          0.8569116410890764,
          0.9331037712967639,
          1.0151488713154102,
          0.7472547422020812,
          0.8270988010873632,
          0.8504769745286751,
          0.9114350707314817,
          0.8930203719046235,
          0.8749668948394405,
          0.9642580523400063,
          0.9284987997817784,
          1.1377803648285507,
          1.165379408403658,
          0.7823455881807491,
          0.8634296711969538,
          0.9660096746779231,
          0.703729937146575,
          1.033417180891032,
          1.1240558213460639,
          1.2348775237438736,
          0.6489591611040704,
          0.8216495817833264,
          0.9721089480609986,
          0.701490351860915,
          0.8010620846472567,
          1.305948352007456,
          0.7752996680842991,
          0.8727155859925514,
          1.125787282655357,
          0.7603001264271974,
          0.7422880086165506,
          0.8625880144284025,
          1.0574591842062209,
          0.896271224921749,
          0.7259374360704304,
          0.8984057938274637,
          0.9944130879481792,
          0.8588218339257483,
          0.9571979566987034,
          0.83353397701188,
          0.8717369903802094,
          0.9967263642698302,
          0.809066590198523,
          1.1014246075221155,
          0.9194833386467227,
          0.8941835033491728,
          0.9568877132236511,
          1.0907571688264346,
          0.9921698450664039,
          0.993818621160425,
          1.0009002281208697,
          0.9513476531152019,
          0.9828468767617942,
          0.961430413917403,
          1.0130231913344945,
          0.883934601509968,
          0.9617758589037524,
          0.9805372485907776,
          1.0175441071551918,
          1.0989021787231,
          0.8922305693702024,
          1.0236543743610043,
          0.8629974033227645,
          1.0741955112942652,
          0.7861461132155969,
          1.1581358635026038,
          0.6127328334972042,
          0.9599343245414806,
          1.268882973161635,
          1.3276093659037493,
          0.8210911286116143,
          1.355385622778801,
          1.364336555325637,
          0.8118787265095789,
          0.9978125837339585,
          1.4120405143747776,
          1.486598550238189,
          1.5115607045541894,
          1.5333370626177159,
          0.7145297652637623,
          0.7757049613264941,
          0.8156162689656548,
          0.9388819928845187,
          0.9602746407706634,
          1.1918720693862632,
          0.7443673787955559,
          0.8020012412962372,
          0.5015917280405362,
          0.6987266893327506,
          1.134788837844877,
          1.5513815565744382,
          1.7908226643324339
         ],
         "y": [
          -20,
          -67.5,
          -70.625,
          -116.25,
          -207.5,
          -240,
          -232.5,
          -213.125,
          -270,
          -317.5,
          -303.75,
          -340,
          -370,
          -400,
          -392.5,
          -440,
          -460,
          -487.5,
          -517.5,
          -491.875,
          -434.6875,
          -550,
          -620,
          -610,
          -660,
          -650,
          -622.5,
          -588.125,
          -690,
          -750,
          -740,
          -780,
          -772.5,
          -748.75,
          -820,
          -856.25,
          -833.125,
          -890,
          -940,
          -932.5,
          -921.25,
          -990,
          -1010,
          -1060,
          -1048.75,
          -1150,
          -1153.75,
          -1190,
          -1230,
          -1220,
          -1250,
          -1225.625,
          -1320,
          -1350,
          -1342.5,
          -1325.625,
          -1417.5,
          -1450,
          -1442.5,
          -1470,
          -1506.25,
          -1550,
          -1540,
          -1580,
          -1610,
          -1602.5,
          -1587.5,
          -1547.9296875,
          -1670,
          -1660,
          -1690,
          -1667.5,
          -1710,
          -1637.5537109375,
          -1740,
          -1732.5,
          -1600.091552734375,
          -1390.3582763671875,
          -1767.5,
          -1503.2145690917969,
          -1262.8572845458984,
          -1817.5,
          -1803.75,
          -1457.5893211364746,
          -1179.7321605682373,
          -977.0535802841187,
          -728.8392901420593,
          -1850,
          -1870,
          -1950,
          -1942.5,
          -1931.25,
          -1914.375,
          -2000,
          -1992.5,
          -2030,
          -2022.5,
          -2001.875,
          -1943.59375,
          -1200.1785725355148
         ]
        }
       ],
       "layout": {
        "autosize": false,
        "height": 3260,
        "hoverlabel": {
         "bgcolor": "white",
         "font": {
          "family": "Rockwell",
          "size": 16
         }
        },
        "hovermode": "closest",
        "plot_bgcolor": "#ECEFF1",
        "showlegend": false,
        "template": {
         "data": {
          "bar": [
           {
            "error_x": {
             "color": "#2a3f5f"
            },
            "error_y": {
             "color": "#2a3f5f"
            },
            "marker": {
             "line": {
              "color": "white",
              "width": 0.5
             },
             "pattern": {
              "fillmode": "overlay",
              "size": 10,
              "solidity": 0.2
             }
            },
            "type": "bar"
           }
          ],
          "barpolar": [
           {
            "marker": {
             "line": {
              "color": "white",
              "width": 0.5
             },
             "pattern": {
              "fillmode": "overlay",
              "size": 10,
              "solidity": 0.2
             }
            },
            "type": "barpolar"
           }
          ],
          "carpet": [
           {
            "aaxis": {
             "endlinecolor": "#2a3f5f",
             "gridcolor": "#C8D4E3",
             "linecolor": "#C8D4E3",
             "minorgridcolor": "#C8D4E3",
             "startlinecolor": "#2a3f5f"
            },
            "baxis": {
             "endlinecolor": "#2a3f5f",
             "gridcolor": "#C8D4E3",
             "linecolor": "#C8D4E3",
             "minorgridcolor": "#C8D4E3",
             "startlinecolor": "#2a3f5f"
            },
            "type": "carpet"
           }
          ],
          "choropleth": [
           {
            "colorbar": {
             "outlinewidth": 0,
             "ticks": ""
            },
            "type": "choropleth"
           }
          ],
          "contour": [
           {
            "colorbar": {
             "outlinewidth": 0,
             "ticks": ""
            },
            "colorscale": [
             [
              0,
              "#0d0887"
             ],
             [
              0.1111111111111111,
              "#46039f"
             ],
             [
              0.2222222222222222,
              "#7201a8"
             ],
             [
              0.3333333333333333,
              "#9c179e"
             ],
             [
              0.4444444444444444,
              "#bd3786"
             ],
             [
              0.5555555555555556,
              "#d8576b"
             ],
             [
              0.6666666666666666,
              "#ed7953"
             ],
             [
              0.7777777777777778,
              "#fb9f3a"
             ],
             [
              0.8888888888888888,
              "#fdca26"
             ],
             [
              1,
              "#f0f921"
             ]
            ],
            "type": "contour"
           }
          ],
          "contourcarpet": [
           {
            "colorbar": {
             "outlinewidth": 0,
             "ticks": ""
            },
            "type": "contourcarpet"
           }
          ],
          "heatmap": [
           {
            "colorbar": {
             "outlinewidth": 0,
             "ticks": ""
            },
            "colorscale": [
             [
              0,
              "#0d0887"
             ],
             [
              0.1111111111111111,
              "#46039f"
             ],
             [
              0.2222222222222222,
              "#7201a8"
             ],
             [
              0.3333333333333333,
              "#9c179e"
             ],
             [
              0.4444444444444444,
              "#bd3786"
             ],
             [
              0.5555555555555556,
              "#d8576b"
             ],
             [
              0.6666666666666666,
              "#ed7953"
             ],
             [
              0.7777777777777778,
              "#fb9f3a"
             ],
             [
              0.8888888888888888,
              "#fdca26"
             ],
             [
              1,
              "#f0f921"
             ]
            ],
            "type": "heatmap"
           }
          ],
          "heatmapgl": [
           {
            "colorbar": {
             "outlinewidth": 0,
             "ticks": ""
            },
            "colorscale": [
             [
              0,
              "#0d0887"
             ],
             [
              0.1111111111111111,
              "#46039f"
             ],
             [
              0.2222222222222222,
              "#7201a8"
             ],
             [
              0.3333333333333333,
              "#9c179e"
             ],
             [
              0.4444444444444444,
              "#bd3786"
             ],
             [
              0.5555555555555556,
              "#d8576b"
             ],
             [
              0.6666666666666666,
              "#ed7953"
             ],
             [
              0.7777777777777778,
              "#fb9f3a"
             ],
             [
              0.8888888888888888,
              "#fdca26"
             ],
             [
              1,
              "#f0f921"
             ]
            ],
            "type": "heatmapgl"
           }
          ],
          "histogram": [
           {
            "marker": {
             "pattern": {
              "fillmode": "overlay",
              "size": 10,
              "solidity": 0.2
             }
            },
            "type": "histogram"
           }
          ],
          "histogram2d": [
           {
            "colorbar": {
             "outlinewidth": 0,
             "ticks": ""
            },
            "colorscale": [
             [
              0,
              "#0d0887"
             ],
             [
              0.1111111111111111,
              "#46039f"
             ],
             [
              0.2222222222222222,
              "#7201a8"
             ],
             [
              0.3333333333333333,
              "#9c179e"
             ],
             [
              0.4444444444444444,
              "#bd3786"
             ],
             [
              0.5555555555555556,
              "#d8576b"
             ],
             [
              0.6666666666666666,
              "#ed7953"
             ],
             [
              0.7777777777777778,
              "#fb9f3a"
             ],
             [
              0.8888888888888888,
              "#fdca26"
             ],
             [
              1,
              "#f0f921"
             ]
            ],
            "type": "histogram2d"
           }
          ],
          "histogram2dcontour": [
           {
            "colorbar": {
             "outlinewidth": 0,
             "ticks": ""
            },
            "colorscale": [
             [
              0,
              "#0d0887"
             ],
             [
              0.1111111111111111,
              "#46039f"
             ],
             [
              0.2222222222222222,
              "#7201a8"
             ],
             [
              0.3333333333333333,
              "#9c179e"
             ],
             [
              0.4444444444444444,
              "#bd3786"
             ],
             [
              0.5555555555555556,
              "#d8576b"
             ],
             [
              0.6666666666666666,
              "#ed7953"
             ],
             [
              0.7777777777777778,
              "#fb9f3a"
             ],
             [
              0.8888888888888888,
              "#fdca26"
             ],
             [
              1,
              "#f0f921"
             ]
            ],
            "type": "histogram2dcontour"
           }
          ],
          "mesh3d": [
           {
            "colorbar": {
             "outlinewidth": 0,
             "ticks": ""
            },
            "type": "mesh3d"
           }
          ],
          "parcoords": [
           {
            "line": {
             "colorbar": {
              "outlinewidth": 0,
              "ticks": ""
             }
            },
            "type": "parcoords"
           }
          ],
          "pie": [
           {
            "automargin": true,
            "type": "pie"
           }
          ],
          "scatter": [
           {
            "fillpattern": {
             "fillmode": "overlay",
             "size": 10,
             "solidity": 0.2
            },
            "type": "scatter"
           }
          ],
          "scatter3d": [
           {
            "line": {
             "colorbar": {
              "outlinewidth": 0,
              "ticks": ""
             }
            },
            "marker": {
             "colorbar": {
              "outlinewidth": 0,
              "ticks": ""
             }
            },
            "type": "scatter3d"
           }
          ],
          "scattercarpet": [
           {
            "marker": {
             "colorbar": {
              "outlinewidth": 0,
              "ticks": ""
             }
            },
            "type": "scattercarpet"
           }
          ],
          "scattergeo": [
           {
            "marker": {
             "colorbar": {
              "outlinewidth": 0,
              "ticks": ""
             }
            },
            "type": "scattergeo"
           }
          ],
          "scattergl": [
           {
            "marker": {
             "colorbar": {
              "outlinewidth": 0,
              "ticks": ""
             }
            },
            "type": "scattergl"
           }
          ],
          "scattermapbox": [
           {
            "marker": {
             "colorbar": {
              "outlinewidth": 0,
              "ticks": ""
             }
            },
            "type": "scattermapbox"
           }
          ],
          "scatterpolar": [
           {
            "marker": {
             "colorbar": {
              "outlinewidth": 0,
              "ticks": ""
             }
            },
            "type": "scatterpolar"
           }
          ],
          "scatterpolargl": [
           {
            "marker": {
             "colorbar": {
              "outlinewidth": 0,
              "ticks": ""
             }
            },
            "type": "scatterpolargl"
           }
          ],
          "scatterternary": [
           {
            "marker": {
             "colorbar": {
              "outlinewidth": 0,
              "ticks": ""
             }
            },
            "type": "scatterternary"
           }
          ],
          "surface": [
           {
            "colorbar": {
             "outlinewidth": 0,
             "ticks": ""
            },
            "colorscale": [
             [
              0,
              "#0d0887"
             ],
             [
              0.1111111111111111,
              "#46039f"
             ],
             [
              0.2222222222222222,
              "#7201a8"
             ],
             [
              0.3333333333333333,
              "#9c179e"
             ],
             [
              0.4444444444444444,
              "#bd3786"
             ],
             [
              0.5555555555555556,
              "#d8576b"
             ],
             [
              0.6666666666666666,
              "#ed7953"
             ],
             [
              0.7777777777777778,
              "#fb9f3a"
             ],
             [
              0.8888888888888888,
              "#fdca26"
             ],
             [
              1,
              "#f0f921"
             ]
            ],
            "type": "surface"
           }
          ],
          "table": [
           {
            "cells": {
             "fill": {
              "color": "#EBF0F8"
             },
             "line": {
              "color": "white"
             }
            },
            "header": {
             "fill": {
              "color": "#C8D4E3"
             },
             "line": {
              "color": "white"
             }
            },
            "type": "table"
           }
          ]
         },
         "layout": {
          "annotationdefaults": {
           "arrowcolor": "#2a3f5f",
           "arrowhead": 0,
           "arrowwidth": 1
          },
          "autotypenumbers": "strict",
          "coloraxis": {
           "colorbar": {
            "outlinewidth": 0,
            "ticks": ""
           }
          },
          "colorscale": {
           "diverging": [
            [
             0,
             "#8e0152"
            ],
            [
             0.1,
             "#c51b7d"
            ],
            [
             0.2,
             "#de77ae"
            ],
            [
             0.3,
             "#f1b6da"
            ],
            [
             0.4,
             "#fde0ef"
            ],
            [
             0.5,
             "#f7f7f7"
            ],
            [
             0.6,
             "#e6f5d0"
            ],
            [
             0.7,
             "#b8e186"
            ],
            [
             0.8,
             "#7fbc41"
            ],
            [
             0.9,
             "#4d9221"
            ],
            [
             1,
             "#276419"
            ]
           ],
           "sequential": [
            [
             0,
             "#0d0887"
            ],
            [
             0.1111111111111111,
             "#46039f"
            ],
            [
             0.2222222222222222,
             "#7201a8"
            ],
            [
             0.3333333333333333,
             "#9c179e"
            ],
            [
             0.4444444444444444,
             "#bd3786"
            ],
            [
             0.5555555555555556,
             "#d8576b"
            ],
            [
             0.6666666666666666,
             "#ed7953"
            ],
            [
             0.7777777777777778,
             "#fb9f3a"
            ],
            [
             0.8888888888888888,
             "#fdca26"
            ],
            [
             1,
             "#f0f921"
            ]
           ],
           "sequentialminus": [
            [
             0,
             "#0d0887"
            ],
            [
             0.1111111111111111,
             "#46039f"
            ],
            [
             0.2222222222222222,
             "#7201a8"
            ],
            [
             0.3333333333333333,
             "#9c179e"
            ],
            [
             0.4444444444444444,
             "#bd3786"
            ],
            [
             0.5555555555555556,
             "#d8576b"
            ],
            [
             0.6666666666666666,
             "#ed7953"
            ],
            [
             0.7777777777777778,
             "#fb9f3a"
            ],
            [
             0.8888888888888888,
             "#fdca26"
            ],
            [
             1,
             "#f0f921"
            ]
           ]
          },
          "colorway": [
           "#636efa",
           "#EF553B",
           "#00cc96",
           "#ab63fa",
           "#FFA15A",
           "#19d3f3",
           "#FF6692",
           "#B6E880",
           "#FF97FF",
           "#FECB52"
          ],
          "font": {
           "color": "#2a3f5f"
          },
          "geo": {
           "bgcolor": "white",
           "lakecolor": "white",
           "landcolor": "white",
           "showlakes": true,
           "showland": true,
           "subunitcolor": "#C8D4E3"
          },
          "hoverlabel": {
           "align": "left"
          },
          "hovermode": "closest",
          "mapbox": {
           "style": "light"
          },
          "paper_bgcolor": "white",
          "plot_bgcolor": "white",
          "polar": {
           "angularaxis": {
            "gridcolor": "#EBF0F8",
            "linecolor": "#EBF0F8",
            "ticks": ""
           },
           "bgcolor": "white",
           "radialaxis": {
            "gridcolor": "#EBF0F8",
            "linecolor": "#EBF0F8",
            "ticks": ""
           }
          },
          "scene": {
           "xaxis": {
            "backgroundcolor": "white",
            "gridcolor": "#DFE8F3",
            "gridwidth": 2,
            "linecolor": "#EBF0F8",
            "showbackground": true,
            "ticks": "",
            "zerolinecolor": "#EBF0F8"
           },
           "yaxis": {
            "backgroundcolor": "white",
            "gridcolor": "#DFE8F3",
            "gridwidth": 2,
            "linecolor": "#EBF0F8",
            "showbackground": true,
            "ticks": "",
            "zerolinecolor": "#EBF0F8"
           },
           "zaxis": {
            "backgroundcolor": "white",
            "gridcolor": "#DFE8F3",
            "gridwidth": 2,
            "linecolor": "#EBF0F8",
            "showbackground": true,
            "ticks": "",
            "zerolinecolor": "#EBF0F8"
           }
          },
          "shapedefaults": {
           "line": {
            "color": "#2a3f5f"
           }
          },
          "ternary": {
           "aaxis": {
            "gridcolor": "#DFE8F3",
            "linecolor": "#A2B1C6",
            "ticks": ""
           },
           "baxis": {
            "gridcolor": "#DFE8F3",
            "linecolor": "#A2B1C6",
            "ticks": ""
           },
           "bgcolor": "white",
           "caxis": {
            "gridcolor": "#DFE8F3",
            "linecolor": "#A2B1C6",
            "ticks": ""
           }
          },
          "title": {
           "x": 0.05
          },
          "xaxis": {
           "automargin": true,
           "gridcolor": "#EBF0F8",
           "linecolor": "#EBF0F8",
           "ticks": "",
           "title": {
            "standoff": 15
           },
           "zerolinecolor": "#EBF0F8",
           "zerolinewidth": 2
          },
          "yaxis": {
           "automargin": true,
           "gridcolor": "#EBF0F8",
           "linecolor": "#EBF0F8",
           "ticks": "",
           "title": {
            "standoff": 15
           },
           "zerolinecolor": "#EBF0F8",
           "zerolinewidth": 2
          }
         }
        },
        "title": {
         "font": {
          "color": "Black",
          "size": 22
         },
         "text": "<b>Hierarchical Clustering</b>",
         "x": 0.5,
         "xanchor": "center",
         "yanchor": "top"
        },
        "width": 1000,
        "xaxis": {
         "mirror": "allticks",
         "rangemode": "tozero",
         "showgrid": false,
         "showline": true,
         "showticklabels": true,
         "ticks": "outside",
         "type": "linear",
         "zeroline": false
        },
        "yaxis": {
         "mirror": "allticks",
         "range": [
          -2040,
          0
         ],
         "rangemode": "tozero",
         "showgrid": false,
         "showline": true,
         "showticklabels": true,
         "tickmode": "array",
         "ticks": "outside",
         "ticktext": [
          "125_ลมแดด_ร้อน_heatstroke",
          "93_บอด_เครื่องดื่มแอลกอฮอล์...",
          "0_นพปรัชญ์พิพัฒน์วัฒนา_พยาบ...",
          "199_photopheresis_กุหลาบ_บา...",
          "132_โรงพยาบาลพิษณุเวช เสื่อ...",
          "48_โรงพยาบาลพิษณุเวช _รายละ...",
          "7_ดู_พยาบาลพริ้นซ์สุวรรณภูม...",
          "37_แพ็กเกจโปรโมชั่น _โรงพยา...",
          "110_บริจาค_princsuvarnabhum...",
          "51_โรงพยาบาลพริ้นซ์ แพ็กเกจ...",
          "55_โรงพยาบาลพิษณุเวช แพ็กเก...",
          "106_โรงพยาบาลพริ้นซ์ แพทย์_...",
          "135_kcal_พยาบาลเปาโลโชคชัย ...",
          "75_ไข่_iui_ตัน",
          "89_icsi_ซีสต์_embryoscope",
          "143_โรงพยาบาลกรุงเทพจันทร์เ...",
          "9_พันธุกรรม_โครโมโซม_มีบุตร...",
          "184_พยาบาลเปาโลโชคชัย แม่_น...",
          "133_พยาบาลเปาโลโชคชัย แม่_แ...",
          "81_ครรภ์_highlights_นพสุรเช...",
          "41_รศดรนพบุญศรีจันทร์รัชชกู...",
          "117_receptivity_แท้ง_ครรภ์",
          "154_นมแม่_นม_breastfeeding",
          "95_ทารก_ศูนย์สุขภาพ แม่_พยา...",
          "137_ศูนย์สุขภาพ_บทบาท_สิ้นสุด",
          "141_kidney_blood_nephritisf...",
          "35_ปัสสาวะ_ไต_เล็ด",
          "164_incontinence_ปัสสาวะ_อุ...",
          "123_helicobacter_กระเพาะ_ga...",
          "69_กรด_ย้อน_ตั้งอรุณสันติ",
          "47_พอร์ตเคมีบำบัด_ขอด_ฟอก",
          "10_extraperitoneal_เลื่อน_ช...",
          "152_ท้อง_แน่นหน้าอก_bhqsurg...",
          "26_httpswwwbangkokhospitalc...",
          "22_httpswwwbangkokhospitalc...",
          "104_หมอภัคพงศ์วัฒนโอฬาร_หมอ...",
          "178_กล้อง_คุณสุภาพสตรี_ช็อค...",
          "187_tavi_พยาบาลเปาโลโชคชัย ...",
          "179_vitamin_บรรจุ_ไทรอยด์",
          "54_ไทรอยด์_ต่อม_ฮอร์โมน",
          "56_ไทรอยด์_thyroiditis_fist...",
          "4_hydrotherapy_ล้าง_ห้องน้ำ",
          "116_โรงพยาบาลเปาโลเกษตร นิ่...",
          "126_pylori_เจ_เทศกาล",
          "50_ฉุกเฉิน_ems_โรงพยาบาลเปา...",
          "31_พยาบาลเปาโลโชคชัย สุขภาพ...",
          "168_โรงพยาบาลเปาโลเกษตร ผู้...",
          "36_eq_design_ละออง",
          "149_อุ้ง_กราน_ละออง",
          "33_circumcision_ขลิบ_ยาง",
          "88_ฮอร์โมน_สมรรถภาพ_เพศ",
          "53_ฮอร์โมน_โปรเจสเตอโรน_tes...",
          "85_คุมกำเนิด_เซ็กส์_ช่อง",
          "30_laparoscopic_งอก_cholecy...",
          "40_ประจำเดือน_มด_บุ",
          "147_minilaparotomy_บุ_มดลูก",
          "131_งอก_fibroscan_เจาะเนื้อ...",
          "29_ต่อม_เป็นมะเร็ง_มะเร็ง",
          "172_ป้องกันมะเร็ง_รับประทาน...",
          "101_gastroduodenoscopy มะเร...",
          "103_พยาบาลเปาโลโชคชัย มะเร็...",
          "180_ปอด_กลีบ_pneumonectomy",
          "42_ปอด_colonoscopy_กางเกง",
          "19_ประจำเดือน_ปากมดลูก_ช่อง",
          "63_hpv_ปากมดลูก_brca",
          "111_เต้านม_โรงพยาบาลเปาโลเก...",
          "3_เต้านม_คลำ_เอกซเรย์เต้านม",
          "107_ฟัน_ประกัน_ปรารถนาเฉิดส...",
          "15_ฟัน_ทันตแพทย์_ศูนย์ทันตก...",
          "78_bhqdentalbangkokhospital...",
          "1_development_ภาษา_พญคคนางณ...",
          "105_สมาธิ_ฉลาด_เรียน",
          "61_พยาบาลเปาโลโชคชัย เด็ก_ม...",
          "68_ย้าย_โรงพยาบาลเปาโลเกษตร...",
          "97_พัฒนาการ_ศูนย์กุมารเวช_i...",
          "45_bmcpedbghcoth_ศูนย์กุมาร...",
          "174_โรต้า_rsv_พยาบาลเปาโลโช...",
          "121_ไวรัส_โรงพยาบาลเปาโลเกษ...",
          "6_บี_ซี_ไวรัส",
          "146_อีโบลา_ไข้เลือดออก_ยุง",
          "139_พยาบาลเปาโลโชคชัย ไข้หว...",
          "23_ไข้หวัดใหญ่_ไข้หวัดใหญ่ ...",
          "155_วัคซีน_ไข้หวัดใหญ่_ประส...",
          "5_moderna_วัคซีน_ฉีด",
          "25_วัคซีน_ราชวิทยาลัยกุมารแ...",
          "134_วัคซีน_ฉีด_พยาบาลเปาโลโ...",
          "158_ฉีด_วัคซีน_httpswwwface...",
          "161_ฮีโมฟีเลีย_amyloidosis_...",
          "2_หัวใจ_โรงพยาบาลพิษณุเวช ห...",
          "159_เต้น_จังหวะ_อรพินชวาลย์...",
          "102_โรงพยาบาลเปาโลเกษตร หัว...",
          "72_พยาบาลเปาโลโชคชัย หัวใจ_...",
          "176_ขด_บอลลูน_angiography",
          "52_หลอด_สมอง_คอมพิวเตอร์ เล...",
          "138_หลอด_สมอง_บิน",
          "127_cloudflare_email_website",
          "145_cloudflare_email_bangko...",
          "112_streptococcus_มาติก_จมูก",
          "162_ศูนย์โสตศอนาสิก_จมูก_โส...",
          "24_ภูมิแพ้_hospitel_อะดีโน",
          "70_ภูมิแพ้_ทดสอบภูมิแพ้_จมู...",
          "49_ภูมิแพ้_โรงพยาบาลกรุงเทพ...",
          "163_กระชับ_hyperbaric_ผิว",
          "177_เหงื่อ_ผิว_ศูนย์ผิวหนัง",
          "136_ผิว_jetpeel_บำรุง",
          "196_ฝ้า_พญกมลวรรณพงศ์ปริตร_...",
          "94_httpswwwhopkinsmedicineo...",
          "20_ชรา_iconfacebooktwitter_...",
          "74_icontwitterline_iconface...",
          "46_อัลไซเมอร์_การแพทย์ผู้สู...",
          "171_กาแฟ_พญพัชรนันท์ศรีพัฒน...",
          "57_มิน_วิตา_บุคคล",
          "156_กินแคลเซียม_แคลเซียม_พร...",
          "90_ข้าว_วัว_คาร์โบไฮเดรต",
          "62_น้ำมัน_ทาน_เนื้อสัตว์แปร...",
          "83_ผลไม้_น้ำมันรำข้าว_ผัก",
          "44_แช่_เก๊าท์_ริม",
          "67_osa_ดื้อ_หย่อนคล้อย",
          "195_อ้วน_โรงพยาบาลเปาโลเกษต...",
          "183_ซิกแพค_แอลคาร์นิทีน_อ้วน",
          "129_พอก_ไตรกลีเซอร์ไรด์_ตับ",
          "109_เค็ม_โซเดียม_เครื่องปรุ...",
          "166_ดัน_โรงพยาบาลเปาโลเกษตร...",
          "38_ดัน_มุก_ตะไคร้",
          "82_น้ำตา_ระดับ_ต่ำ",
          "27_อินซูลิน_สล็อต_โรงพยาบาล...",
          "140_มาราธอน_วิ่ง_crosstrain...",
          "191_วิ่ง_packs_everpresent",
          "43_กาย_training_การออกกำลัง...",
          "14_แกว่ง_ยืด_ท่า",
          "91_เตียง_ูด_ห้าม",
          "165_physiotherapy_ออฟฟิศซิน...",
          "17_นิ้ว_คอมพิวเตอร์_มือ",
          "73_รองเท้า_หัวแม่_อุ้งเท้า",
          "197_ศูนย์รักษาแผล_เท้า_ลวก",
          "181_มือเท้าปาก_ปาก_enterovi...",
          "151_หู_ได้ยิน_ฟัง",
          "173_กล่อง_เสียง_ริด",
          "80_phantosmia_เกาต์_ปลิ้น",
          "170_กระบอก_พ่น_accuhaler",
          "118_infopetcharavejcom_petc...",
          "32_เพลิง_ขนส่ง_สาธารณะ",
          "144_ต้อ_ุ้น_เทโลเมียร์",
          "189_barbudaargentinaarmenia...",
          "79_เครือราชวิทยาลัยจุฬาภรณ์...",
          "65_เล่ม_ฉบับ_คลิก",
          "148_พาร์กิน_ถั่ง_httpsbooki...",
          "92_httpswwwncbinlmnihgovpmc...",
          "128_บุฟเฟ่ต์_ฟอง_เช้า",
          "186_กลืน_ลำบาก_ล้า",
          "160_ระเหย_เข้มข้น_คาโรชิซิน...",
          "120_hydrocephalus_จิตตก_adr...",
          "201_ลืม_เนื้องอกสมอง_ซ้ำแล้...",
          "114_อัลไซเมอร์_เสื่อมอัลไซเ...",
          "130_ไมเกรน_ศีรษะ_ซอยศูนย์วิ...",
          "182_มอล_พาราเซตา_warfarin",
          "98_bangkoklongevitycenterba...",
          "100_hot_แพ็กเกจวัคซีน_พิษ",
          "169_งู_สวัด_โรงพยาบาลเปาโลเ...",
          "142_พยาธิ_พิษ_กัด",
          "64_โนโรไวรัส_ฉี่_สะอาด",
          "193_เรียกิน_แบคที_streptoco...",
          "175_misc_โรงพยาบาลเปาโลรังส...",
          "192_long_covid_wellness",
          "153_สัดส่วน_port_พอร์ต",
          "13_facebooktwitterline_รู้ส...",
          "185_อุดกั้น_คลุม_ไตรมาส",
          "87_บุหรี่_สูบ_เลิก",
          "157_home_isolation_ผู้สูงอา...",
          "202_เอื้อกานต์_มีบุตรยาก_is...",
          "96_ฝีดาษ_httpswwwinstagramc...",
          "34_httpswwwtiktokcombangpak...",
          "39_ภาควิชาจิตเวชศาสตร์_ไบโพ...",
          "200_ซึมเศร้า_ศูนย์จิตรักษ์_...",
          "113_ศูนย์จิตรักษ์_tms_trans...",
          "12_นอน_นอนไม่หลับ_หลับ",
          "21_หลับ_นอน_แขวงบางกะปิ หลับ",
          "86_หลับ_polysomnography_โซน",
          "58_phototherapy_bhqeyebangk...",
          "203_bhqeyebangkokhospitalco...",
          "150_สายตา_ศูนย์จักษุ_เกียจ",
          "77_เทคโนโลยีเลสิกไร้_bangko...",
          "18_ต้อกระจก_สายตา_จอ",
          "28_สถาบันเวชศาสตร์การ_ฟิต_g...",
          "99_ไหล่_สถาบันเวชศาสตร์การ_...",
          "122_กีฬา_สถาบันเวชศาสตร์การ...",
          "11_เอ็น_ไหล่_ฉีกขาด",
          "66_กีฬา_รศนพชลวิชจันทร์ลลิต...",
          "60_ข้อเข่า_ข้อเข่าเสื่อม_os...",
          "167_เข่า_โรงพยาบาลเปาโลเกษต...",
          "198_บริหาร_พยาบาลเปาโลรังสิ...",
          "59_ออทิสติก_ศูนย์ศัลยกรรมออ...",
          "16_โรงพยาบาลเปาโลเกษตร อากา...",
          "190_orthopaoloplsfacebook_m...",
          "8_ศูนย์ศัลยกรรมออร์โธปิดิกส...",
          "76_คด_กรรไกร_srisamranmd",
          "188_discectomy_ประสาทสรีรวิ...",
          "84_อินเตอร์เวนชั่น_กรุงเทพม...",
          "194_ซอยศูนย์วิจัย_ลิ่ม_ศูนย...",
          "71_ซอยศูนย์วิจัย_กรุงเทพมหา...",
          "108_สะโพก_เทียม_เอ็นด้าน",
          "124_ติดต่อ_ซอยศูนย์วิจัย_กร...",
          "115_แขวงบางกะปิ_ติดต่อ_เกี่ยว",
          "119_แขวงบางกะปิ_เกี่ยว_ติดต่อ"
         ],
         "tickvals": [
          -5,
          -15,
          -25,
          -35,
          -45,
          -55,
          -65,
          -75,
          -85,
          -95,
          -105,
          -115,
          -125,
          -135,
          -145,
          -155,
          -165,
          -175,
          -185,
          -195,
          -205,
          -215,
          -225,
          -235,
          -245,
          -255,
          -265,
          -275,
          -285,
          -295,
          -305,
          -315,
          -325,
          -335,
          -345,
          -355,
          -365,
          -375,
          -385,
          -395,
          -405,
          -415,
          -425,
          -435,
          -445,
          -455,
          -465,
          -475,
          -485,
          -495,
          -505,
          -515,
          -525,
          -535,
          -545,
          -555,
          -565,
          -575,
          -585,
          -595,
          -605,
          -615,
          -625,
          -635,
          -645,
          -655,
          -665,
          -675,
          -685,
          -695,
          -705,
          -715,
          -725,
          -735,
          -745,
          -755,
          -765,
          -775,
          -785,
          -795,
          -805,
          -815,
          -825,
          -835,
          -845,
          -855,
          -865,
          -875,
          -885,
          -895,
          -905,
          -915,
          -925,
          -935,
          -945,
          -955,
          -965,
          -975,
          -985,
          -995,
          -1005,
          -1015,
          -1025,
          -1035,
          -1045,
          -1055,
          -1065,
          -1075,
          -1085,
          -1095,
          -1105,
          -1115,
          -1125,
          -1135,
          -1145,
          -1155,
          -1165,
          -1175,
          -1185,
          -1195,
          -1205,
          -1215,
          -1225,
          -1235,
          -1245,
          -1255,
          -1265,
          -1275,
          -1285,
          -1295,
          -1305,
          -1315,
          -1325,
          -1335,
          -1345,
          -1355,
          -1365,
          -1375,
          -1385,
          -1395,
          -1405,
          -1415,
          -1425,
          -1435,
          -1445,
          -1455,
          -1465,
          -1475,
          -1485,
          -1495,
          -1505,
          -1515,
          -1525,
          -1535,
          -1545,
          -1555,
          -1565,
          -1575,
          -1585,
          -1595,
          -1605,
          -1615,
          -1625,
          -1635,
          -1645,
          -1655,
          -1665,
          -1675,
          -1685,
          -1695,
          -1705,
          -1715,
          -1725,
          -1735,
          -1745,
          -1755,
          -1765,
          -1775,
          -1785,
          -1795,
          -1805,
          -1815,
          -1825,
          -1835,
          -1845,
          -1855,
          -1865,
          -1875,
          -1885,
          -1895,
          -1905,
          -1915,
          -1925,
          -1935,
          -1945,
          -1955,
          -1965,
          -1975,
          -1985,
          -1995,
          -2005,
          -2015,
          -2025,
          -2035
         ],
         "type": "linear",
         "zeroline": false
        }
       }
      }
     },
     "metadata": {},
     "output_type": "display_data"
    }
   ],
   "source": [
    "from scipy.cluster import hierarchy as sch\n",
    "\n",
    "# Hierarchical topics\n",
    "linkage_function = lambda x: sch.linkage(x, 'centroid', optimal_ordering=True)\n",
    "hierarchical_topics = best_topic_model.hierarchical_topics(data['text_token'], linkage_function=linkage_function)\n",
    "best_topic_model.visualize_hierarchy(hierarchical_topics=hierarchical_topics)"
   ]
  },
  {
   "cell_type": "code",
   "execution_count": null,
   "metadata": {},
   "outputs": [
    {
     "data": {
      "text/plain": [
       "0                [cloudflare, มาลาเรีย, ศูนย์อุบัติเหตุ]\n",
       "1      [นพปรัชญ์พิพัฒน์วัฒนา, พยาบาลพริ้นซ์สุวรรณภูมิ...\n",
       "2               [development, ภาษา, พญคคนางณ์จันทรภักดี]\n",
       "3      [หัวใจ, โรงพยาบาลพิษณุเวช หัวใจ, electrocardio...\n",
       "4                          [เต้านม, คลำ, เอกซเรย์เต้านม]\n",
       "                             ...                        \n",
       "200                      [photopheresis, กุหลาบ, บาดแผล]\n",
       "201             [ซึมเศร้า, ศูนย์จิตรักษ์, schizophrenia]\n",
       "202                      [ลืม, เนื้องอกสมอง, ซ้ำแล้วซ้ำ]\n",
       "203                   [เอื้อกานต์, มีบุตรยาก, isolation]\n",
       "204    [bhqeyebangkokhospitalcom, comprehensive, ต้อเ...\n",
       "Name: Representation, Length: 205, dtype: object"
      ]
     },
     "execution_count": 53,
     "metadata": {},
     "output_type": "execute_result"
    }
   ],
   "source": [
    "best_topic_model.get_topic_info()['Representation']"
   ]
  },
  {
   "cell_type": "code",
   "execution_count": null,
   "metadata": {},
   "outputs": [
    {
     "data": {
      "text/html": [
       "<div>\n",
       "<style scoped>\n",
       "    .dataframe tbody tr th:only-of-type {\n",
       "        vertical-align: middle;\n",
       "    }\n",
       "\n",
       "    .dataframe tbody tr th {\n",
       "        vertical-align: top;\n",
       "    }\n",
       "\n",
       "    .dataframe thead th {\n",
       "        text-align: right;\n",
       "    }\n",
       "</style>\n",
       "<table border=\"1\" class=\"dataframe\">\n",
       "  <thead>\n",
       "    <tr style=\"text-align: right;\">\n",
       "      <th></th>\n",
       "      <th>Topic</th>\n",
       "      <th>Count</th>\n",
       "      <th>Name</th>\n",
       "      <th>Representation</th>\n",
       "      <th>Representative_Docs</th>\n",
       "    </tr>\n",
       "  </thead>\n",
       "  <tbody>\n",
       "    <tr>\n",
       "      <th>0</th>\n",
       "      <td>-1</td>\n",
       "      <td>440</td>\n",
       "      <td>-1_cloudflare_มาลาเรีย_ศูนย์อุบัติเหตุ</td>\n",
       "      <td>[cloudflare, มาลาเรีย, ศูนย์อุบัติเหตุ]</td>\n",
       "      <td>[email,cloudflare,cloudflare,email,website,pro...</td>\n",
       "    </tr>\n",
       "    <tr>\n",
       "      <th>1</th>\n",
       "      <td>0</td>\n",
       "      <td>58</td>\n",
       "      <td>0_นพปรัชญ์พิพัฒน์วัฒนา_พยาบาลพริ้นซ์สุวรรณภูมิ...</td>\n",
       "      <td>[นพปรัชญ์พิพัฒน์วัฒนา, พยาบาลพริ้นซ์สุวรรณภูมิ...</td>\n",
       "      <td>[ตา,ตา,ทำ,แพทย์,ตรวจ,อาการ,โรงพยาบาลพริ้นซ์สุว...</td>\n",
       "    </tr>\n",
       "    <tr>\n",
       "      <th>2</th>\n",
       "      <td>1</td>\n",
       "      <td>52</td>\n",
       "      <td>1_development_ภาษา_พญคคนางณ์จันทรภักดี</td>\n",
       "      <td>[development, ภาษา, พญคคนางณ์จันทรภักดี]</td>\n",
       "      <td>[แม่,เด็ก,ลูก,พ่อ,เด็ก,ลูก,แม่,พ่อ,นม,พญคคนางณ...</td>\n",
       "    </tr>\n",
       "    <tr>\n",
       "      <th>3</th>\n",
       "      <td>2</td>\n",
       "      <td>47</td>\n",
       "      <td>2_หัวใจ_โรงพยาบาลพิษณุเวช หัวใจ_electrocardiog...</td>\n",
       "      <td>[หัวใจ, โรงพยาบาลพิษณุเวช หัวใจ, electrocardio...</td>\n",
       "      <td>[หัวใจ,ตรวจ,คลื่น,หัวใจ,ตรวจ,คลื่น,ไฟฟ้า,ปกติ,...</td>\n",
       "    </tr>\n",
       "    <tr>\n",
       "      <th>4</th>\n",
       "      <td>3</td>\n",
       "      <td>47</td>\n",
       "      <td>3_เต้านม_คลำ_เอกซเรย์เต้านม</td>\n",
       "      <td>[เต้านม, คลำ, เอกซเรย์เต้านม]</td>\n",
       "      <td>[เต้านม,ลาน,นม,คลำ,เต้านม,นม,คลำ,ทำ,ตรวจ,ศูนย์...</td>\n",
       "    </tr>\n",
       "    <tr>\n",
       "      <th>...</th>\n",
       "      <td>...</td>\n",
       "      <td>...</td>\n",
       "      <td>...</td>\n",
       "      <td>...</td>\n",
       "      <td>...</td>\n",
       "    </tr>\n",
       "    <tr>\n",
       "      <th>200</th>\n",
       "      <td>199</td>\n",
       "      <td>10</td>\n",
       "      <td>199_photopheresis_กุหลาบ_บาดแผล</td>\n",
       "      <td>[photopheresis, กุหลาบ, บาดแผล]</td>\n",
       "      <td>[ปฐมพยาบาล,บาดแผล,แผล,บาดแผล,แพทย์,ข้อ,น้ำ,โรง...</td>\n",
       "    </tr>\n",
       "    <tr>\n",
       "      <th>201</th>\n",
       "      <td>200</td>\n",
       "      <td>10</td>\n",
       "      <td>200_ซึมเศร้า_ศูนย์จิตรักษ์_schizophrenia</td>\n",
       "      <td>[ซึมเศร้า, ศูนย์จิตรักษ์, schizophrenia]</td>\n",
       "      <td>[ซึมเศร้า,ซึมเศร้า,รักษา,ทำ,อารมณ์,ชีวิต,infob...</td>\n",
       "    </tr>\n",
       "    <tr>\n",
       "      <th>202</th>\n",
       "      <td>201</td>\n",
       "      <td>10</td>\n",
       "      <td>201_ลืม_เนื้องอกสมอง_ซ้ำแล้วซ้ำ</td>\n",
       "      <td>[ลืม, เนื้องอกสมอง, ซ้ำแล้วซ้ำ]</td>\n",
       "      <td>[สมอง,ลืม,ขี้,ทำ,สมอง,ลืม,อาการ,งา,เครื่องดื่ม...</td>\n",
       "    </tr>\n",
       "    <tr>\n",
       "      <th>203</th>\n",
       "      <td>202</td>\n",
       "      <td>10</td>\n",
       "      <td>202_เอื้อกานต์_มีบุตรยาก_isolation</td>\n",
       "      <td>[เอื้อกานต์, มีบุตรยาก, isolation]</td>\n",
       "      <td>[เด็ก,สถานการณ์,ปกครอง,เด็ก,ติด,เชื้อ,สถานการณ...</td>\n",
       "    </tr>\n",
       "    <tr>\n",
       "      <th>204</th>\n",
       "      <td>203</td>\n",
       "      <td>10</td>\n",
       "      <td>203_bhqeyebangkokhospitalcom_comprehensive_ต้อ...</td>\n",
       "      <td>[bhqeyebangkokhospitalcom, comprehensive, ต้อเ...</td>\n",
       "      <td>[สายตา,ตา,ตา,สายตา,วัย,เสื่อม,รักษา,bhqeyebang...</td>\n",
       "    </tr>\n",
       "  </tbody>\n",
       "</table>\n",
       "<p>205 rows × 5 columns</p>\n",
       "</div>"
      ],
      "text/plain": [
       "     Topic  Count                                               Name   \n",
       "0       -1    440             -1_cloudflare_มาลาเรีย_ศูนย์อุบัติเหตุ  \\\n",
       "1        0     58  0_นพปรัชญ์พิพัฒน์วัฒนา_พยาบาลพริ้นซ์สุวรรณภูมิ...   \n",
       "2        1     52             1_development_ภาษา_พญคคนางณ์จันทรภักดี   \n",
       "3        2     47  2_หัวใจ_โรงพยาบาลพิษณุเวช หัวใจ_electrocardiog...   \n",
       "4        3     47                        3_เต้านม_คลำ_เอกซเรย์เต้านม   \n",
       "..     ...    ...                                                ...   \n",
       "200    199     10                    199_photopheresis_กุหลาบ_บาดแผล   \n",
       "201    200     10           200_ซึมเศร้า_ศูนย์จิตรักษ์_schizophrenia   \n",
       "202    201     10                    201_ลืม_เนื้องอกสมอง_ซ้ำแล้วซ้ำ   \n",
       "203    202     10                 202_เอื้อกานต์_มีบุตรยาก_isolation   \n",
       "204    203     10  203_bhqeyebangkokhospitalcom_comprehensive_ต้อ...   \n",
       "\n",
       "                                        Representation   \n",
       "0              [cloudflare, มาลาเรีย, ศูนย์อุบัติเหตุ]  \\\n",
       "1    [นพปรัชญ์พิพัฒน์วัฒนา, พยาบาลพริ้นซ์สุวรรณภูมิ...   \n",
       "2             [development, ภาษา, พญคคนางณ์จันทรภักดี]   \n",
       "3    [หัวใจ, โรงพยาบาลพิษณุเวช หัวใจ, electrocardio...   \n",
       "4                        [เต้านม, คลำ, เอกซเรย์เต้านม]   \n",
       "..                                                 ...   \n",
       "200                    [photopheresis, กุหลาบ, บาดแผล]   \n",
       "201           [ซึมเศร้า, ศูนย์จิตรักษ์, schizophrenia]   \n",
       "202                    [ลืม, เนื้องอกสมอง, ซ้ำแล้วซ้ำ]   \n",
       "203                 [เอื้อกานต์, มีบุตรยาก, isolation]   \n",
       "204  [bhqeyebangkokhospitalcom, comprehensive, ต้อเ...   \n",
       "\n",
       "                                   Representative_Docs  \n",
       "0    [email,cloudflare,cloudflare,email,website,pro...  \n",
       "1    [ตา,ตา,ทำ,แพทย์,ตรวจ,อาการ,โรงพยาบาลพริ้นซ์สุว...  \n",
       "2    [แม่,เด็ก,ลูก,พ่อ,เด็ก,ลูก,แม่,พ่อ,นม,พญคคนางณ...  \n",
       "3    [หัวใจ,ตรวจ,คลื่น,หัวใจ,ตรวจ,คลื่น,ไฟฟ้า,ปกติ,...  \n",
       "4    [เต้านม,ลาน,นม,คลำ,เต้านม,นม,คลำ,ทำ,ตรวจ,ศูนย์...  \n",
       "..                                                 ...  \n",
       "200  [ปฐมพยาบาล,บาดแผล,แผล,บาดแผล,แพทย์,ข้อ,น้ำ,โรง...  \n",
       "201  [ซึมเศร้า,ซึมเศร้า,รักษา,ทำ,อารมณ์,ชีวิต,infob...  \n",
       "202  [สมอง,ลืม,ขี้,ทำ,สมอง,ลืม,อาการ,งา,เครื่องดื่ม...  \n",
       "203  [เด็ก,สถานการณ์,ปกครอง,เด็ก,ติด,เชื้อ,สถานการณ...  \n",
       "204  [สายตา,ตา,ตา,สายตา,วัย,เสื่อม,รักษา,bhqeyebang...  \n",
       "\n",
       "[205 rows x 5 columns]"
      ]
     },
     "execution_count": 54,
     "metadata": {},
     "output_type": "execute_result"
    }
   ],
   "source": [
    "best_topic_model.get_topic_info()"
   ]
  },
  {
   "cell_type": "code",
   "execution_count": null,
   "metadata": {},
   "outputs": [
    {
     "name": "stdout",
     "output_type": "stream",
     "text": [
      "network.html\n"
     ]
    },
    {
     "data": {
      "text/html": [
       "\n",
       "        <iframe\n",
       "            width=\"100%\"\n",
       "            height=\"600px\"\n",
       "            src=\"network.html\"\n",
       "            frameborder=\"0\"\n",
       "            allowfullscreen\n",
       "            \n",
       "        ></iframe>\n",
       "        "
      ],
      "text/plain": [
       "<IPython.lib.display.IFrame at 0x1e3d9872910>"
      ]
     },
     "execution_count": 55,
     "metadata": {},
     "output_type": "execute_result"
    }
   ],
   "source": [
    "import numpy as np\n",
    "from sklearn.metrics.pairwise import cosine_similarity\n",
    "from pyvis.network import Network\n",
    "\n",
    "topics_info = best_topic_model.get_topic_info()\n",
    "topics_id = np.array(topics_info['Name'])\n",
    "word_reps = np.array(topics_info['Representation'])\n",
    "\n",
    "# Compute similarity matrix\n",
    "similarity_matrix = cosine_similarity(best_topic_model.c_tf_idf_)\n",
    "\n",
    "# Perform Min-Max normalization on the similarity_matrix\n",
    "min_similarity = np.min(similarity_matrix)\n",
    "max_similarity = np.max(similarity_matrix)\n",
    "normalized_similarity_matrix = (similarity_matrix - min_similarity) / (max_similarity - min_similarity)\n",
    "\n",
    "# Set a threshold for edge creation\n",
    "threshold = 0.1\n",
    "\n",
    "# Create a graph using NetworkX\n",
    "G = nx.Graph()\n",
    "\n",
    "# Add topic nodes to the graph\n",
    "for i, topic in enumerate(topics_id):\n",
    "    G.add_node(i, label=topic)\n",
    "\n",
    "# Add word representation nodes to the graph and connect them to their corresponding topic nodes\n",
    "num_topics = len(topics_id)\n",
    "for i in range(num_topics):\n",
    "    for word in word_reps[i]:\n",
    "        word_node_label = f\"{word}\"\n",
    "        word_node_id = f\"{num_topics + i}_{word}\"  # Create a unique ID for the word representation node\n",
    "        G.add_node(word_node_id, label=word_node_label)\n",
    "        G.add_edge(i, word_node_id, weight=0.05)  # Set edge weight to 1 for word representation nodes\n",
    "\n",
    "# Create edges between topics based on normalized similarity\n",
    "for i in range(num_topics):\n",
    "    for j in range(i + 1, num_topics):\n",
    "        if normalized_similarity_matrix[i, j] > threshold:\n",
    "            G.add_edge(i, j, weight=normalized_similarity_matrix[i, j])\n",
    "\n",
    "# Create the Pyvis network\n",
    "nt = Network(notebook=True, filter_menu=True,cdn_resources='remote')\n",
    "\n",
    "# Add nodes and edges to the Pyvis network\n",
    "for node in G.nodes:\n",
    "    if type(node) is int:\n",
    "        nt.add_node(node, label=G.nodes[node]['label'], level='Topic', color='#2E86C1')\n",
    "    else:\n",
    "        nt.add_node(node, label=G.nodes[node]['label'], level='Word', color='#9FE2BF')\n",
    "\n",
    "for edge in G.edges:\n",
    "    nt.add_edge(edge[0], edge[1], value=G.edges[edge]['weight'])\n",
    "\n",
    "# Set options for the Pyvis network visualization (optional)\n",
    "nt.options.width = \"100%\"\n",
    "nt.options.height = \"100%\"\n",
    "nt.options.physics.barnesHut.enabled = True\n",
    "nt.show_buttons(filter_=['physics'])\n",
    "\n",
    "# Show the Pyvis network\n",
    "nt.show(\"network.html\")"
   ]
  },
  {
   "cell_type": "code",
   "execution_count": null,
   "metadata": {},
   "outputs": [],
   "source": []
  }
 ],
 "metadata": {
  "kernelspec": {
   "display_name": "Python 3",
   "language": "python",
   "name": "python3"
  },
  "language_info": {
   "codemirror_mode": {
    "name": "ipython",
    "version": 3
   },
   "file_extension": ".py",
   "mimetype": "text/x-python",
   "name": "python",
   "nbconvert_exporter": "python",
   "pygments_lexer": "ipython3",
   "version": "3.11.4"
  },
  "orig_nbformat": 4
 },
 "nbformat": 4,
 "nbformat_minor": 2
}
